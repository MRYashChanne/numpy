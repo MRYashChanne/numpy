{
 "cells": [
  {
   "cell_type": "markdown",
   "id": "587b4884",
   "metadata": {},
   "source": [
    "# Numpy-Trigonometry"
   ]
  },
  {
   "cell_type": "code",
   "execution_count": 1,
   "id": "5c5f15a7",
   "metadata": {},
   "outputs": [],
   "source": [
    "import numpy as np"
   ]
  },
  {
   "cell_type": "raw",
   "id": "f69d848f",
   "metadata": {},
   "source": [
    "sin    = opp / hyp\n",
    "cos    = adj / hyp\n",
    "tan    = opp / adj\n",
    "cosec  = 1 / sin   = hyp / opp\n",
    "sec    = 1 / cos   = hyp / adj\n",
    "cot    = 1 / tan   = adj / opp"
   ]
  },
  {
   "cell_type": "code",
   "execution_count": 3,
   "id": "29e081a8",
   "metadata": {},
   "outputs": [
    {
     "name": "stdout",
     "output_type": "stream",
     "text": [
      "The value of pi = 3.141592653589793\n"
     ]
    }
   ],
   "source": [
    "pi_value = np.pi\n",
    "print(f\"The value of pi = {pi_value}\")"
   ]
  },
  {
   "cell_type": "code",
   "execution_count": 4,
   "id": "4a105790",
   "metadata": {},
   "outputs": [
    {
     "data": {
      "text/plain": [
       "0.49999999999999994"
      ]
     },
     "execution_count": 4,
     "metadata": {},
     "output_type": "execute_result"
    }
   ],
   "source": [
    "sin_30 = np.sin(pi_value / 6) # sin(30)\n",
    "sin_30"
   ]
  },
  {
   "cell_type": "code",
   "execution_count": 5,
   "id": "e03d38b7",
   "metadata": {},
   "outputs": [
    {
     "data": {
      "text/plain": [
       "0.7071067811865476"
      ]
     },
     "execution_count": 5,
     "metadata": {},
     "output_type": "execute_result"
    }
   ],
   "source": [
    "sin_45 = np.sin(pi_value / 4) # sin(45)\n",
    "sin_45"
   ]
  },
  {
   "cell_type": "code",
   "execution_count": 6,
   "id": "be171d30",
   "metadata": {},
   "outputs": [
    {
     "data": {
      "text/plain": [
       "0.7071067811865475"
      ]
     },
     "execution_count": 6,
     "metadata": {},
     "output_type": "execute_result"
    }
   ],
   "source": [
    "1/np.sqrt(2)"
   ]
  },
  {
   "cell_type": "code",
   "execution_count": 7,
   "id": "1d9eaf9f",
   "metadata": {},
   "outputs": [
    {
     "data": {
      "text/plain": [
       "1.0"
      ]
     },
     "execution_count": 7,
     "metadata": {},
     "output_type": "execute_result"
    }
   ],
   "source": [
    "sin_90 = np.sin(pi_value / 2) # sin(90)\n",
    "sin_90"
   ]
  },
  {
   "cell_type": "code",
   "execution_count": 8,
   "id": "ff1cb6ab",
   "metadata": {},
   "outputs": [
    {
     "data": {
      "text/plain": [
       "1.2246467991473532e-16"
      ]
     },
     "execution_count": 8,
     "metadata": {},
     "output_type": "execute_result"
    }
   ],
   "source": [
    "sin_180 = np.sin(pi_value) # sin(180)\n",
    "sin_180"
   ]
  },
  {
   "cell_type": "code",
   "execution_count": 9,
   "id": "e0ce851e",
   "metadata": {},
   "outputs": [
    {
     "data": {
      "text/plain": [
       "0.5000000000000001"
      ]
     },
     "execution_count": 9,
     "metadata": {},
     "output_type": "execute_result"
    }
   ],
   "source": [
    "cos_60 = np.cos(pi_value / 3) # cos(60)\n",
    "cos_60"
   ]
  },
  {
   "cell_type": "code",
   "execution_count": 10,
   "id": "71163382",
   "metadata": {},
   "outputs": [
    {
     "data": {
      "text/plain": [
       "1.7320508075688767"
      ]
     },
     "execution_count": 10,
     "metadata": {},
     "output_type": "execute_result"
    }
   ],
   "source": [
    "tan_60 = np.tan(pi_value / 3) # cos(60)\n",
    "tan_60"
   ]
  },
  {
   "cell_type": "code",
   "execution_count": 11,
   "id": "daff26e8",
   "metadata": {},
   "outputs": [
    {
     "data": {
      "text/plain": [
       "1.7320508075688772"
      ]
     },
     "execution_count": 11,
     "metadata": {},
     "output_type": "execute_result"
    }
   ],
   "source": [
    "np.sqrt(3)"
   ]
  },
  {
   "cell_type": "markdown",
   "id": "be06a5b2",
   "metadata": {},
   "source": [
    "# Degree to redian"
   ]
  },
  {
   "cell_type": "code",
   "execution_count": 12,
   "id": "0e919665",
   "metadata": {},
   "outputs": [
    {
     "data": {
      "text/plain": [
       "0.5235987755982988"
      ]
     },
     "execution_count": 12,
     "metadata": {},
     "output_type": "execute_result"
    }
   ],
   "source": [
    "np.deg2rad(30)"
   ]
  },
  {
   "cell_type": "code",
   "execution_count": 13,
   "id": "83ed0b9b",
   "metadata": {},
   "outputs": [
    {
     "data": {
      "text/plain": [
       "1.5707963267948966"
      ]
     },
     "execution_count": 13,
     "metadata": {},
     "output_type": "execute_result"
    }
   ],
   "source": [
    "np.deg2rad(90)"
   ]
  },
  {
   "cell_type": "code",
   "execution_count": 14,
   "id": "6bdd760c",
   "metadata": {},
   "outputs": [
    {
     "data": {
      "text/plain": [
       "array([0.        , 0.52359878, 0.78539816, 1.04719755, 1.57079633])"
      ]
     },
     "execution_count": 14,
     "metadata": {},
     "output_type": "execute_result"
    }
   ],
   "source": [
    "arr = np.deg2rad([0,30,45,60,90])\n",
    "arr"
   ]
  },
  {
   "cell_type": "code",
   "execution_count": 15,
   "id": "f4339300",
   "metadata": {},
   "outputs": [
    {
     "data": {
      "text/plain": [
       "array([0.        , 0.5       , 0.70710678, 0.8660254 , 1.        ])"
      ]
     },
     "execution_count": 15,
     "metadata": {},
     "output_type": "execute_result"
    }
   ],
   "source": [
    "np.sin(arr)"
   ]
  },
  {
   "cell_type": "code",
   "execution_count": 16,
   "id": "5974a97f",
   "metadata": {},
   "outputs": [
    {
     "data": {
      "text/plain": [
       "array([1.00000000e+00, 8.66025404e-01, 7.07106781e-01, 5.00000000e-01,\n",
       "       6.12323400e-17])"
      ]
     },
     "execution_count": 16,
     "metadata": {},
     "output_type": "execute_result"
    }
   ],
   "source": [
    "np.cos(arr)"
   ]
  },
  {
   "cell_type": "markdown",
   "id": "7ec701ce",
   "metadata": {},
   "source": [
    "# Redian to Degree"
   ]
  },
  {
   "cell_type": "code",
   "execution_count": 17,
   "id": "4b633dd4",
   "metadata": {},
   "outputs": [
    {
     "data": {
      "text/plain": [
       "array([ 0.        , 30.00000025, 44.99999981, 59.99999993, 90.00000018])"
      ]
     },
     "execution_count": 17,
     "metadata": {},
     "output_type": "execute_result"
    }
   ],
   "source": [
    "radian = np.array([0.0, 0.52359878, 0.78539816, 1.04719755, 1.57079633])\n",
    "degrees = np.rad2deg(radian)\n",
    "degrees"
   ]
  },
  {
   "cell_type": "code",
   "execution_count": null,
   "id": "c642010f",
   "metadata": {},
   "outputs": [],
   "source": []
  }
 ],
 "metadata": {
  "kernelspec": {
   "display_name": "Python 3",
   "language": "python",
   "name": "python3"
  },
  "language_info": {
   "codemirror_mode": {
    "name": "ipython",
    "version": 3
   },
   "file_extension": ".py",
   "mimetype": "text/x-python",
   "name": "python",
   "nbconvert_exporter": "python",
   "pygments_lexer": "ipython3",
   "version": "3.8.8"
  }
 },
 "nbformat": 4,
 "nbformat_minor": 5
}
