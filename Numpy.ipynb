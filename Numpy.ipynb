{
 "cells": [
  {
   "cell_type": "markdown",
   "id": "f4afe681",
   "metadata": {},
   "source": [
    "# Numpy\n",
    "- Numpy - Numerical Computing / Operations\n",
    "\n",
    "### Applications\n",
    "\n",
    "- 1. Linear Algebra\n",
    "- 2. Statistics\n",
    "- 3. Probability\n",
    "- 4. Trignometric Operations (sin, cos, tan, etc..)\n",
    "- 5. Matrix\n",
    "- 6. Image Processing(cv2)\n",
    "- 7. Logarithmic"
   ]
  },
  {
   "cell_type": "code",
   "execution_count": 1,
   "id": "052a25cc",
   "metadata": {},
   "outputs": [],
   "source": [
    "import numpy as np"
   ]
  },
  {
   "cell_type": "raw",
   "id": "ef452edd",
   "metadata": {},
   "source": [
    "- It is a collection of homogeneous datatypes\n",
    "- ndarray = n-dimentional array\n",
    "- Arrays are faster than list \n",
    "- Numpy is written in c/c++ language (Partially in python)\n",
    "\n",
    "\n",
    "- Arrays can be created by using tuple/list\n",
    "- Supported datatypes = int > float > complex > str"
   ]
  },
  {
   "cell_type": "code",
   "execution_count": 2,
   "id": "e6263888",
   "metadata": {},
   "outputs": [
    {
     "data": {
      "text/plain": [
       "[1, 2.2, '3.3']"
      ]
     },
     "execution_count": 2,
     "metadata": {},
     "output_type": "execute_result"
    }
   ],
   "source": [
    "li = [1,2.2,\"3.3\"]\n",
    "li"
   ]
  },
  {
   "cell_type": "markdown",
   "id": "924d864b",
   "metadata": {},
   "source": [
    "# Creating Numpy Arrays"
   ]
  },
  {
   "cell_type": "code",
   "execution_count": 5,
   "id": "78c79007",
   "metadata": {},
   "outputs": [
    {
     "data": {
      "text/plain": [
       "array([1, 2, 3, 4, 5])"
      ]
     },
     "execution_count": 5,
     "metadata": {},
     "output_type": "execute_result"
    }
   ],
   "source": [
    "array = np.array([1,2,3,4,5])\n",
    "array"
   ]
  },
  {
   "cell_type": "code",
   "execution_count": 6,
   "id": "f08c8356",
   "metadata": {},
   "outputs": [
    {
     "data": {
      "text/plain": [
       "array([1. , 2. , 3. , 4. , 5.5])"
      ]
     },
     "execution_count": 6,
     "metadata": {},
     "output_type": "execute_result"
    }
   ],
   "source": [
    "array = np.array([1,2,3,4,5.5])\n",
    "array"
   ]
  },
  {
   "cell_type": "code",
   "execution_count": 7,
   "id": "d8d43663",
   "metadata": {},
   "outputs": [
    {
     "data": {
      "text/plain": [
       "array([1. , 2. , 3. , 4. , 5.5, 6. , 7. ])"
      ]
     },
     "execution_count": 7,
     "metadata": {},
     "output_type": "execute_result"
    }
   ],
   "source": [
    "array = np.array([1,2,3,4,5.5,6,7])\n",
    "array"
   ]
  },
  {
   "cell_type": "code",
   "execution_count": 8,
   "id": "85b27b9f",
   "metadata": {},
   "outputs": [
    {
     "data": {
      "text/plain": [
       "array([1. +0.j, 2. +0.j, 3. +0.j, 4. +0.j, 5.5+0.j, 6. +0.j, 7. +0.j,\n",
       "       3. +6.j])"
      ]
     },
     "execution_count": 8,
     "metadata": {},
     "output_type": "execute_result"
    }
   ],
   "source": [
    "array = np.array([1,2,3,4,5.5,6,7,3 + 6j])\n",
    "array"
   ]
  },
  {
   "cell_type": "code",
   "execution_count": 9,
   "id": "9bf6d33c",
   "metadata": {},
   "outputs": [
    {
     "data": {
      "text/plain": [
       "array([1. +0.j, 2. +0.j, 3. +0.j, 4. +0.j, 5.5+0.j, 6. +0.j, 7. +0.j,\n",
       "       3. +6.j, 9.9+0.j, 5. +0.j])"
      ]
     },
     "execution_count": 9,
     "metadata": {},
     "output_type": "execute_result"
    }
   ],
   "source": [
    "array = np.array([1,2,3,4,5.5,6,7,3 + 6j,9.9,5])\n",
    "array"
   ]
  },
  {
   "cell_type": "code",
   "execution_count": 10,
   "id": "f49a2528",
   "metadata": {},
   "outputs": [
    {
     "data": {
      "text/plain": [
       "array([1. +0.j, 2. +0.j, 3. +0.j, 4. +0.j, 5.5+0.j, 6. +0.j, 7. +0.j,\n",
       "       3. +6.j, 9.9+0.j, 5. +0.j])"
      ]
     },
     "execution_count": 10,
     "metadata": {},
     "output_type": "execute_result"
    }
   ],
   "source": [
    "array = np.array((1,2,3,4,5.5,6,7,3 + 6j,9.9,5))\n",
    "array"
   ]
  },
  {
   "cell_type": "code",
   "execution_count": 11,
   "id": "7a354854",
   "metadata": {},
   "outputs": [
    {
     "data": {
      "text/plain": [
       "array(['1', '2', '3', '4', '5.5', 'Learning Numpy Array'], dtype='<U32')"
      ]
     },
     "execution_count": 11,
     "metadata": {},
     "output_type": "execute_result"
    }
   ],
   "source": [
    "array = np.array([1,2,3,4,5.5,\"Learning Numpy Array\"])\n",
    "array"
   ]
  },
  {
   "cell_type": "code",
   "execution_count": 12,
   "id": "dd0d8d02",
   "metadata": {},
   "outputs": [
    {
     "data": {
      "text/plain": [
       "array(['1', '2', '3', '4', '5.5', '6', '7', '(3+6j)', '9.9', '5',\n",
       "       'Python'], dtype='<U64')"
      ]
     },
     "execution_count": 12,
     "metadata": {},
     "output_type": "execute_result"
    }
   ],
   "source": [
    "array = np.array((1,2,3,4,5.5,6,7,3 + 6j,9.9,5,\"Python\"))\n",
    "array"
   ]
  },
  {
   "cell_type": "markdown",
   "id": "16156808",
   "metadata": {},
   "source": [
    "# Change DataType of an array"
   ]
  },
  {
   "cell_type": "code",
   "execution_count": 13,
   "id": "665a652c",
   "metadata": {},
   "outputs": [
    {
     "data": {
      "text/plain": [
       "array([1, 2, 3, 4, 5])"
      ]
     },
     "execution_count": 13,
     "metadata": {},
     "output_type": "execute_result"
    }
   ],
   "source": [
    "array1 = np.array([1,2,3,4,5])\n",
    "array1 "
   ]
  },
  {
   "cell_type": "code",
   "execution_count": 14,
   "id": "9792aea4",
   "metadata": {},
   "outputs": [
    {
     "data": {
      "text/plain": [
       "array([1, 2, 3, 4, 5])"
      ]
     },
     "execution_count": 14,
     "metadata": {},
     "output_type": "execute_result"
    }
   ],
   "source": [
    "array1 = np.array([1,2,3,4,5],dtype = int)\n",
    "array1 "
   ]
  },
  {
   "cell_type": "code",
   "execution_count": 15,
   "id": "01f97ab4",
   "metadata": {},
   "outputs": [
    {
     "data": {
      "text/plain": [
       "array([1., 2., 3., 4., 5.])"
      ]
     },
     "execution_count": 15,
     "metadata": {},
     "output_type": "execute_result"
    }
   ],
   "source": [
    "array1 = np.array([1,2,3,4,5],dtype = float)\n",
    "array1 "
   ]
  },
  {
   "cell_type": "code",
   "execution_count": 17,
   "id": "dab0aec3",
   "metadata": {},
   "outputs": [
    {
     "data": {
      "text/plain": [
       "array([1.+0.j, 2.+0.j, 3.+0.j, 4.+0.j, 5.+0.j])"
      ]
     },
     "execution_count": 17,
     "metadata": {},
     "output_type": "execute_result"
    }
   ],
   "source": [
    "array1 = np.array([1,2,3,4,5],dtype = \"complex\")\n",
    "array1 "
   ]
  },
  {
   "cell_type": "code",
   "execution_count": 18,
   "id": "e8c2e30b",
   "metadata": {},
   "outputs": [
    {
     "data": {
      "text/plain": [
       "array([1. , 2. , 3. , 4. , 5.5])"
      ]
     },
     "execution_count": 18,
     "metadata": {},
     "output_type": "execute_result"
    }
   ],
   "source": [
    "array1 = np.array([1,2,3,4,5.5],dtype = float)\n",
    "array1 "
   ]
  },
  {
   "cell_type": "code",
   "execution_count": 21,
   "id": "d27266f6",
   "metadata": {},
   "outputs": [
    {
     "data": {
      "text/plain": [
       "array([1, 2, 3, 4, 5])"
      ]
     },
     "execution_count": 21,
     "metadata": {},
     "output_type": "execute_result"
    }
   ],
   "source": [
    "array1 = np.array([1,2,3,4,5.5],dtype = int)\n",
    "array1 "
   ]
  },
  {
   "cell_type": "code",
   "execution_count": 22,
   "id": "124580fb",
   "metadata": {},
   "outputs": [
    {
     "data": {
      "text/plain": [
       "[1, 2, 3, 4, 5]"
      ]
     },
     "execution_count": 22,
     "metadata": {},
     "output_type": "execute_result"
    }
   ],
   "source": [
    "li1 = [1,2,3,4,5]\n",
    "li1"
   ]
  },
  {
   "cell_type": "code",
   "execution_count": 23,
   "id": "decf7a09",
   "metadata": {},
   "outputs": [
    {
     "data": {
      "text/plain": [
       "array([1, 2, 3, 4, 5])"
      ]
     },
     "execution_count": 23,
     "metadata": {},
     "output_type": "execute_result"
    }
   ],
   "source": [
    "arr1 = np.array(li1)\n",
    "arr1"
   ]
  },
  {
   "cell_type": "code",
   "execution_count": 24,
   "id": "9e218e7a",
   "metadata": {},
   "outputs": [
    {
     "data": {
      "text/plain": [
       "array([0.5, 1. , 1.5, 2. , 2.5])"
      ]
     },
     "execution_count": 24,
     "metadata": {},
     "output_type": "execute_result"
    }
   ],
   "source": [
    "arr1 / 2"
   ]
  },
  {
   "cell_type": "code",
   "execution_count": 25,
   "id": "57df6b72",
   "metadata": {},
   "outputs": [
    {
     "data": {
      "text/plain": [
       "array([ 1,  4,  9, 16, 25], dtype=int32)"
      ]
     },
     "execution_count": 25,
     "metadata": {},
     "output_type": "execute_result"
    }
   ],
   "source": [
    "arr1 ** 2"
   ]
  },
  {
   "cell_type": "code",
   "execution_count": 26,
   "id": "8d82006f",
   "metadata": {},
   "outputs": [
    {
     "data": {
      "text/plain": [
       "array([ 2,  4,  6,  8, 10])"
      ]
     },
     "execution_count": 26,
     "metadata": {},
     "output_type": "execute_result"
    }
   ],
   "source": [
    "arr1 * 2"
   ]
  },
  {
   "cell_type": "code",
   "execution_count": 27,
   "id": "88491ce4",
   "metadata": {},
   "outputs": [
    {
     "data": {
      "text/plain": [
       "array([0, 1, 1, 2, 2], dtype=int32)"
      ]
     },
     "execution_count": 27,
     "metadata": {},
     "output_type": "execute_result"
    }
   ],
   "source": [
    "arr1 // 2"
   ]
  },
  {
   "cell_type": "code",
   "execution_count": 28,
   "id": "4aef78fd",
   "metadata": {},
   "outputs": [
    {
     "data": {
      "text/plain": [
       "array([1, 0, 1, 0, 1], dtype=int32)"
      ]
     },
     "execution_count": 28,
     "metadata": {},
     "output_type": "execute_result"
    }
   ],
   "source": [
    "arr1 % 2"
   ]
  },
  {
   "cell_type": "code",
   "execution_count": 30,
   "id": "cbca5cc6",
   "metadata": {},
   "outputs": [
    {
     "data": {
      "text/plain": [
       "array([1. +0.j, 2. +0.j, 3. +0.j, 4. +0.j, 5.5+0.j])"
      ]
     },
     "execution_count": 30,
     "metadata": {},
     "output_type": "execute_result"
    }
   ],
   "source": [
    "array1 = np.array([1,2,3,4,5.5],dtype = complex)\n",
    "array1"
   ]
  },
  {
   "cell_type": "code",
   "execution_count": 32,
   "id": "373cb16f",
   "metadata": {},
   "outputs": [
    {
     "ename": "TypeError",
     "evalue": "can't convert complex to int",
     "output_type": "error",
     "traceback": [
      "\u001b[1;31m---------------------------------------------------------------------------\u001b[0m",
      "\u001b[1;31mTypeError\u001b[0m                                 Traceback (most recent call last)",
      "\u001b[1;32m<ipython-input-32-92955e8f77c0>\u001b[0m in \u001b[0;36m<module>\u001b[1;34m\u001b[0m\n\u001b[1;32m----> 1\u001b[1;33m \u001b[0mint\u001b[0m\u001b[1;33m(\u001b[0m\u001b[1;36m1\u001b[0m\u001b[1;33m+\u001b[0m\u001b[1;36m2j\u001b[0m\u001b[1;33m)\u001b[0m\u001b[1;33m\u001b[0m\u001b[1;33m\u001b[0m\u001b[0m\n\u001b[0m",
      "\u001b[1;31mTypeError\u001b[0m: can't convert complex to int"
     ]
    }
   ],
   "source": [
    "int(1+2j)"
   ]
  },
  {
   "cell_type": "code",
   "execution_count": 31,
   "id": "67fe6379",
   "metadata": {},
   "outputs": [
    {
     "ename": "TypeError",
     "evalue": "can't convert complex to int",
     "output_type": "error",
     "traceback": [
      "\u001b[1;31m---------------------------------------------------------------------------\u001b[0m",
      "\u001b[1;31mTypeError\u001b[0m                                 Traceback (most recent call last)",
      "\u001b[1;32m<ipython-input-31-7fada25c16f9>\u001b[0m in \u001b[0;36m<module>\u001b[1;34m\u001b[0m\n\u001b[1;32m----> 1\u001b[1;33m \u001b[0marr1\u001b[0m \u001b[1;33m=\u001b[0m \u001b[0mnp\u001b[0m\u001b[1;33m.\u001b[0m\u001b[0marray\u001b[0m\u001b[1;33m(\u001b[0m\u001b[1;33m[\u001b[0m\u001b[1;36m1\u001b[0m\u001b[1;33m,\u001b[0m\u001b[1;36m2\u001b[0m\u001b[1;33m,\u001b[0m\u001b[1;36m3\u001b[0m\u001b[1;33m,\u001b[0m\u001b[1;36m5\u001b[0m\u001b[1;33m+\u001b[0m\u001b[1;36m4j\u001b[0m\u001b[1;33m,\u001b[0m\u001b[1;36m5.5\u001b[0m\u001b[1;33m]\u001b[0m\u001b[1;33m,\u001b[0m\u001b[0mdtype\u001b[0m\u001b[1;33m=\u001b[0m\u001b[0mint\u001b[0m\u001b[1;33m)\u001b[0m\u001b[1;33m\u001b[0m\u001b[1;33m\u001b[0m\u001b[0m\n\u001b[0m\u001b[0;32m      2\u001b[0m \u001b[0marr1\u001b[0m\u001b[1;33m\u001b[0m\u001b[1;33m\u001b[0m\u001b[0m\n",
      "\u001b[1;31mTypeError\u001b[0m: can't convert complex to int"
     ]
    }
   ],
   "source": [
    "arr1 = np.array([1,2,3,5+4j,5.5],dtype=int)\n",
    "arr1"
   ]
  },
  {
   "cell_type": "code",
   "execution_count": 33,
   "id": "0def1ccb",
   "metadata": {},
   "outputs": [
    {
     "ename": "TypeError",
     "evalue": "can't convert complex to float",
     "output_type": "error",
     "traceback": [
      "\u001b[1;31m---------------------------------------------------------------------------\u001b[0m",
      "\u001b[1;31mTypeError\u001b[0m                                 Traceback (most recent call last)",
      "\u001b[1;32m<ipython-input-33-fd2a1742b45c>\u001b[0m in \u001b[0;36m<module>\u001b[1;34m\u001b[0m\n\u001b[1;32m----> 1\u001b[1;33m \u001b[0marr1\u001b[0m \u001b[1;33m=\u001b[0m \u001b[0mnp\u001b[0m\u001b[1;33m.\u001b[0m\u001b[0marray\u001b[0m\u001b[1;33m(\u001b[0m\u001b[1;33m[\u001b[0m\u001b[1;36m1\u001b[0m\u001b[1;33m,\u001b[0m\u001b[1;36m2\u001b[0m\u001b[1;33m,\u001b[0m\u001b[1;36m3\u001b[0m\u001b[1;33m,\u001b[0m\u001b[1;36m5\u001b[0m\u001b[1;33m+\u001b[0m\u001b[1;36m4j\u001b[0m\u001b[1;33m,\u001b[0m\u001b[1;36m5.5\u001b[0m\u001b[1;33m]\u001b[0m\u001b[1;33m,\u001b[0m\u001b[0mdtype\u001b[0m\u001b[1;33m=\u001b[0m\u001b[0mfloat\u001b[0m\u001b[1;33m)\u001b[0m\u001b[1;33m\u001b[0m\u001b[1;33m\u001b[0m\u001b[0m\n\u001b[0m\u001b[0;32m      2\u001b[0m \u001b[0marr1\u001b[0m\u001b[1;33m\u001b[0m\u001b[1;33m\u001b[0m\u001b[0m\n",
      "\u001b[1;31mTypeError\u001b[0m: can't convert complex to float"
     ]
    }
   ],
   "source": [
    "arr1 = np.array([1,2,3,5+4j,5.5],dtype=float)\n",
    "arr1"
   ]
  },
  {
   "cell_type": "raw",
   "id": "c23338b9",
   "metadata": {},
   "source": [
    "int = float\n",
    "float = int \n",
    "int, float = complex\n",
    "complex != int, float"
   ]
  },
  {
   "cell_type": "code",
   "execution_count": 34,
   "id": "c6b47b41",
   "metadata": {},
   "outputs": [
    {
     "data": {
      "text/plain": [
       "array([1. +0.j, 2. +0.j, 3. +0.j, 5. +4.j, 5.5+0.j])"
      ]
     },
     "execution_count": 34,
     "metadata": {},
     "output_type": "execute_result"
    }
   ],
   "source": [
    "arr1 = np.array([1,2,3,5+4j,5.5],dtype=complex)\n",
    "arr1"
   ]
  },
  {
   "cell_type": "code",
   "execution_count": 35,
   "id": "7f7cc32e",
   "metadata": {},
   "outputs": [
    {
     "data": {
      "text/plain": [
       "array([1. +0.j, 2. +0.j, 3. +0.j, 5. +4.j, 5.5+0.j])"
      ]
     },
     "execution_count": 35,
     "metadata": {},
     "output_type": "execute_result"
    }
   ],
   "source": [
    "arr1 = np.array([1,2,3,5+4j,5.5])\n",
    "arr1"
   ]
  },
  {
   "cell_type": "code",
   "execution_count": 36,
   "id": "f561389c",
   "metadata": {},
   "outputs": [
    {
     "data": {
      "text/plain": [
       "array(['1', '2', '3'], dtype='<U1')"
      ]
     },
     "execution_count": 36,
     "metadata": {},
     "output_type": "execute_result"
    }
   ],
   "source": [
    "arr1 = np.array([1,2,3],dtype=str)\n",
    "arr1"
   ]
  },
  {
   "cell_type": "code",
   "execution_count": 37,
   "id": "faad9a55",
   "metadata": {},
   "outputs": [
    {
     "data": {
      "text/plain": [
       "array(['1', '2', '3', '4.5', '5.5'], dtype='<U3')"
      ]
     },
     "execution_count": 37,
     "metadata": {},
     "output_type": "execute_result"
    }
   ],
   "source": [
    "arr1 = np.array([1,2,3,4.5,5.5],dtype=str)\n",
    "arr1"
   ]
  },
  {
   "cell_type": "code",
   "execution_count": 38,
   "id": "1b170fad",
   "metadata": {},
   "outputs": [
    {
     "data": {
      "text/plain": [
       "array(['1', '2', '3', '4.5', '5.5', '(6+5j)'], dtype='<U6')"
      ]
     },
     "execution_count": 38,
     "metadata": {},
     "output_type": "execute_result"
    }
   ],
   "source": [
    "arr1 = np.array([1,2,3,4.5,5.5,6+5j],dtype=str)\n",
    "arr1"
   ]
  },
  {
   "cell_type": "markdown",
   "id": "6cd86232",
   "metadata": {},
   "source": [
    "# Dimensions in array\n",
    "## 1. 0-D array"
   ]
  },
  {
   "cell_type": "code",
   "execution_count": 39,
   "id": "93b638e7",
   "metadata": {},
   "outputs": [
    {
     "data": {
      "text/plain": [
       "array(500)"
      ]
     },
     "execution_count": 39,
     "metadata": {},
     "output_type": "execute_result"
    }
   ],
   "source": [
    "arr = np.array(500)\n",
    "arr"
   ]
  },
  {
   "cell_type": "code",
   "execution_count": 40,
   "id": "cb0295d5",
   "metadata": {},
   "outputs": [
    {
     "name": "stdout",
     "output_type": "stream",
     "text": [
      "Number of dimentions = 0\n"
     ]
    }
   ],
   "source": [
    "arr = np.array(500)\n",
    "print(f\"Number of dimentions = {arr.ndim}\")"
   ]
  },
  {
   "cell_type": "code",
   "execution_count": 41,
   "id": "60766546",
   "metadata": {},
   "outputs": [
    {
     "name": "stdout",
     "output_type": "stream",
     "text": [
      "Number of dimentions = 0\n"
     ]
    }
   ],
   "source": [
    "arr = np.array(100,float)\n",
    "print(f\"Number of dimentions = {arr.ndim}\")"
   ]
  },
  {
   "cell_type": "code",
   "execution_count": 42,
   "id": "e7a8df1e",
   "metadata": {},
   "outputs": [
    {
     "name": "stdout",
     "output_type": "stream",
     "text": [
      "Number of dimentions = 0\n"
     ]
    }
   ],
   "source": [
    "arr = np.array(100,str)\n",
    "print(f\"Number of dimentions = {arr.ndim}\")"
   ]
  },
  {
   "cell_type": "markdown",
   "id": "fcbbc669",
   "metadata": {},
   "source": [
    "## 2. 1-Dimentional Array\n",
    "- It is a collection of multiple 0-D arrays"
   ]
  },
  {
   "cell_type": "code",
   "execution_count": 43,
   "id": "912100fe",
   "metadata": {},
   "outputs": [
    {
     "name": "stdout",
     "output_type": "stream",
     "text": [
      "Array = [1 2 3 4 5]\n",
      "Number of dimentions = 1\n"
     ]
    }
   ],
   "source": [
    "arr = np.array([1,2,3,4,5])\n",
    "print(f\"Array = {arr}\")\n",
    "print(f\"Number of dimentions = {arr.ndim}\")"
   ]
  },
  {
   "cell_type": "code",
   "execution_count": 44,
   "id": "cbda4868",
   "metadata": {},
   "outputs": [
    {
     "name": "stdout",
     "output_type": "stream",
     "text": [
      "Array = [1]\n",
      "Number of dimentions = 1\n"
     ]
    }
   ],
   "source": [
    "arr = np.array([1])\n",
    "print(f\"Array = {arr}\")\n",
    "print(f\"Number of dimentions = {arr.ndim}\")"
   ]
  },
  {
   "cell_type": "code",
   "execution_count": 45,
   "id": "c8125d3a",
   "metadata": {},
   "outputs": [
    {
     "name": "stdout",
     "output_type": "stream",
     "text": [
      "Array = 1\n",
      "Number of dimentions = 0\n"
     ]
    }
   ],
   "source": [
    "arr = np.array(1)\n",
    "print(f\"Array = {arr}\")\n",
    "print(f\"Number of dimentions = {arr.ndim}\")"
   ]
  },
  {
   "cell_type": "markdown",
   "id": "316ccdf5",
   "metadata": {},
   "source": [
    "## 3. 2-Dimentional Array\n",
    "- It's a collection of multiple 1-D arrays"
   ]
  },
  {
   "cell_type": "code",
   "execution_count": 47,
   "id": "18120492",
   "metadata": {},
   "outputs": [
    {
     "name": "stdout",
     "output_type": "stream",
     "text": [
      "Array = \n",
      "[[1 2 3 4 5]\n",
      " [1 2 3 4 5]]\n",
      "Number of dimentions = 2\n",
      "The length of the array = 2\n",
      "The shape of the array = (2, 5)\n"
     ]
    }
   ],
   "source": [
    "arr = np.array([[1,2,3,4,5],[1,2,3,4,5]])\n",
    "print(f\"Array = \\n{arr}\")\n",
    "print(f\"Number of dimentions = {arr.ndim}\")\n",
    "print(f\"The length of the array = {len(arr)}\")\n",
    "print(f\"The shape of the array = {arr.shape}\")"
   ]
  },
  {
   "cell_type": "code",
   "execution_count": 48,
   "id": "2f933340",
   "metadata": {},
   "outputs": [
    {
     "name": "stdout",
     "output_type": "stream",
     "text": [
      "Array = \n",
      "[[1 2 3 4 5]\n",
      " [1 2 3 4 5]\n",
      " [1 2 3 4 5]]\n",
      "Number of dimentions = 2\n",
      "The length of the array = 3\n",
      "The shape of the array = (3, 5)\n"
     ]
    }
   ],
   "source": [
    "arr = np.array([[1,2,3,4,5],[1,2,3,4,5],[1,2,3,4,5]])\n",
    "print(f\"Array = \\n{arr}\")\n",
    "print(f\"Number of dimentions = {arr.ndim}\")\n",
    "print(f\"The length of the array = {len(arr)}\")\n",
    "print(f\"The shape of the array = {arr.shape}\")"
   ]
  },
  {
   "cell_type": "code",
   "execution_count": 49,
   "id": "570125ae",
   "metadata": {},
   "outputs": [
    {
     "name": "stdout",
     "output_type": "stream",
     "text": [
      "Array = \n",
      "[[1 2 3 4 5]\n",
      " [1 2 3 4 5]\n",
      " [1 2 3 4 5]\n",
      " [1 2 3 4 5]]\n",
      "Number of dimentions = 2\n",
      "The length of the array = 4\n",
      "The shape of the array = (4, 5)\n"
     ]
    }
   ],
   "source": [
    "arr = np.array([[1,2,3,4,5],[1,2,3,4,5],[1,2,3,4,5],[1,2,3,4,5]])\n",
    "print(f\"Array = \\n{arr}\")\n",
    "print(f\"Number of dimentions = {arr.ndim}\")\n",
    "print(f\"The length of the array = {len(arr)}\")\n",
    "print(f\"The shape of the array = {arr.shape}\")"
   ]
  },
  {
   "cell_type": "code",
   "execution_count": 50,
   "id": "b51d2575",
   "metadata": {},
   "outputs": [
    {
     "name": "stdout",
     "output_type": "stream",
     "text": [
      "Array = \n",
      "[list([1, 2, 3, 4, 5]) list([1, 2, 3, 4, 5]) list([1, 2, 3, 4, 5])\n",
      " list([1, 2, 3, 4])]\n",
      "Number of dimentions = 1\n",
      "The length of the array = 4\n",
      "The shape of the array = (4,)\n"
     ]
    },
    {
     "name": "stderr",
     "output_type": "stream",
     "text": [
      "<ipython-input-50-8c87b0360e3f>:1: VisibleDeprecationWarning: Creating an ndarray from ragged nested sequences (which is a list-or-tuple of lists-or-tuples-or ndarrays with different lengths or shapes) is deprecated. If you meant to do this, you must specify 'dtype=object' when creating the ndarray.\n",
      "  arr = np.array([[1,2,3,4,5],[1,2,3,4,5],[1,2,3,4,5],[1,2,3,4]])\n"
     ]
    }
   ],
   "source": [
    "arr = np.array([[1,2,3,4,5],[1,2,3,4,5],[1,2,3,4,5],[1,2,3,4]])\n",
    "print(f\"Array = \\n{arr}\")\n",
    "print(f\"Number of dimentions = {arr.ndim}\")\n",
    "print(f\"The length of the array = {len(arr)}\")\n",
    "print(f\"The shape of the array = {arr.shape}\")"
   ]
  },
  {
   "cell_type": "markdown",
   "id": "23fbaea8",
   "metadata": {},
   "source": [
    "## 4. 3-Dimentional Array\n",
    "- It's a collection of multiple 2-D array"
   ]
  },
  {
   "cell_type": "code",
   "execution_count": 52,
   "id": "e8c53a3f",
   "metadata": {},
   "outputs": [
    {
     "name": "stdout",
     "output_type": "stream",
     "text": [
      "Array = \n",
      "[[[1 2 3 4 5]]\n",
      "\n",
      " [[1 2 3 4 5]]]\n",
      "Number of dimentions = 3\n",
      "The length of the array = 2\n",
      "The shape of the array = (2, 1, 5)\n"
     ]
    }
   ],
   "source": [
    "arr = np.array([[[1,2,3,4,5]],[[1,2,3,4,5]]])\n",
    "print(f\"Array = \\n{arr}\")\n",
    "print(f\"Number of dimentions = {arr.ndim}\")\n",
    "print(f\"The length of the array = {len(arr)}\")\n",
    "print(f\"The shape of the array = {arr.shape}\")"
   ]
  },
  {
   "cell_type": "code",
   "execution_count": 53,
   "id": "53e50a03",
   "metadata": {},
   "outputs": [
    {
     "name": "stdout",
     "output_type": "stream",
     "text": [
      "Array = \n",
      "[[[1 2 3 4 5]]\n",
      "\n",
      " [[1 2 3 4 5]]\n",
      "\n",
      " [[1 2 3 4 5]]]\n",
      "Number of dimentions = 3\n",
      "The length of the array = 3\n",
      "The shape of the array = (3, 1, 5)\n"
     ]
    }
   ],
   "source": [
    "arr = np.array([[[1,2,3,4,5]],[[1,2,3,4,5]],[[1,2,3,4,5]]])\n",
    "print(f\"Array = \\n{arr}\")\n",
    "print(f\"Number of dimentions = {arr.ndim}\")\n",
    "print(f\"The length of the array = {len(arr)}\")\n",
    "print(f\"The shape of the array = {arr.shape}\")"
   ]
  },
  {
   "cell_type": "code",
   "execution_count": 54,
   "id": "1bd8d2f9",
   "metadata": {},
   "outputs": [
    {
     "name": "stdout",
     "output_type": "stream",
     "text": [
      "Array = \n",
      "[[[1 2 3 4 5]\n",
      "  [1 2 3 4 5]]\n",
      "\n",
      " [[1 2 3 4 5]\n",
      "  [1 2 3 4 5]]]\n",
      "Number of dimentions = 3\n",
      "The length of the array = 2\n",
      "The shape of the array = (2, 2, 5)\n"
     ]
    }
   ],
   "source": [
    "arr = np.array([[[1,2,3,4,5],[1,2,3,4,5]],[[1,2,3,4,5],[1,2,3,4,5]]])\n",
    "print(f\"Array = \\n{arr}\")\n",
    "print(f\"Number of dimentions = {arr.ndim}\")\n",
    "print(f\"The length of the array = {len(arr)}\")\n",
    "print(f\"The shape of the array = {arr.shape}\")"
   ]
  },
  {
   "cell_type": "markdown",
   "id": "251701d8",
   "metadata": {},
   "source": [
    "# Indexing and Slicing"
   ]
  },
  {
   "cell_type": "code",
   "execution_count": 55,
   "id": "0cfda75f",
   "metadata": {},
   "outputs": [
    {
     "data": {
      "text/plain": [
       "4"
      ]
     },
     "execution_count": 55,
     "metadata": {},
     "output_type": "execute_result"
    }
   ],
   "source": [
    "li = [1,2,3,4,5]\n",
    "li[3]"
   ]
  },
  {
   "cell_type": "code",
   "execution_count": 69,
   "id": "87023d09",
   "metadata": {},
   "outputs": [
    {
     "data": {
      "text/plain": [
       "[3, 4, 5]"
      ]
     },
     "execution_count": 69,
     "metadata": {},
     "output_type": "execute_result"
    }
   ],
   "source": [
    "li[2:10]"
   ]
  },
  {
   "cell_type": "code",
   "execution_count": 56,
   "id": "fb46502c",
   "metadata": {},
   "outputs": [
    {
     "data": {
      "text/plain": [
       "array([1, 2, 3, 4, 5])"
      ]
     },
     "execution_count": 56,
     "metadata": {},
     "output_type": "execute_result"
    }
   ],
   "source": [
    "arr = np.array([1,2,3,4,5])\n",
    "arr"
   ]
  },
  {
   "cell_type": "code",
   "execution_count": 57,
   "id": "631313a3",
   "metadata": {},
   "outputs": [
    {
     "data": {
      "text/plain": [
       "1"
      ]
     },
     "execution_count": 57,
     "metadata": {},
     "output_type": "execute_result"
    }
   ],
   "source": [
    "arr[0]"
   ]
  },
  {
   "cell_type": "code",
   "execution_count": 58,
   "id": "a004a95f",
   "metadata": {},
   "outputs": [
    {
     "data": {
      "text/plain": [
       "2"
      ]
     },
     "execution_count": 58,
     "metadata": {},
     "output_type": "execute_result"
    }
   ],
   "source": [
    "arr[1]"
   ]
  },
  {
   "cell_type": "code",
   "execution_count": 59,
   "id": "40bfb726",
   "metadata": {},
   "outputs": [
    {
     "data": {
      "text/plain": [
       "5"
      ]
     },
     "execution_count": 59,
     "metadata": {},
     "output_type": "execute_result"
    }
   ],
   "source": [
    "arr[-1]"
   ]
  },
  {
   "cell_type": "code",
   "execution_count": 60,
   "id": "23c1c2d2",
   "metadata": {},
   "outputs": [
    {
     "data": {
      "text/plain": [
       "3"
      ]
     },
     "execution_count": 60,
     "metadata": {},
     "output_type": "execute_result"
    }
   ],
   "source": [
    "arr[-3]"
   ]
  },
  {
   "cell_type": "code",
   "execution_count": 61,
   "id": "0c77a131",
   "metadata": {},
   "outputs": [
    {
     "data": {
      "text/plain": [
       "array([1, 2, 3, 4, 5])"
      ]
     },
     "execution_count": 61,
     "metadata": {},
     "output_type": "execute_result"
    }
   ],
   "source": [
    "arr"
   ]
  },
  {
   "cell_type": "code",
   "execution_count": 62,
   "id": "f6315430",
   "metadata": {},
   "outputs": [
    {
     "data": {
      "text/plain": [
       "array([1, 2])"
      ]
     },
     "execution_count": 62,
     "metadata": {},
     "output_type": "execute_result"
    }
   ],
   "source": [
    "arr[0:2]"
   ]
  },
  {
   "cell_type": "code",
   "execution_count": 63,
   "id": "17faa399",
   "metadata": {},
   "outputs": [
    {
     "data": {
      "text/plain": [
       "array([3, 4])"
      ]
     },
     "execution_count": 63,
     "metadata": {},
     "output_type": "execute_result"
    }
   ],
   "source": [
    "arr[2:4]"
   ]
  },
  {
   "cell_type": "code",
   "execution_count": 65,
   "id": "3fe716c0",
   "metadata": {},
   "outputs": [
    {
     "data": {
      "text/plain": [
       "array([3, 4, 5])"
      ]
     },
     "execution_count": 65,
     "metadata": {},
     "output_type": "execute_result"
    }
   ],
   "source": [
    "arr[2:6]"
   ]
  },
  {
   "cell_type": "code",
   "execution_count": 66,
   "id": "de8b4d9d",
   "metadata": {},
   "outputs": [
    {
     "data": {
      "text/plain": [
       "array([3, 4, 5])"
      ]
     },
     "execution_count": 66,
     "metadata": {},
     "output_type": "execute_result"
    }
   ],
   "source": [
    "arr[2:10]"
   ]
  },
  {
   "cell_type": "code",
   "execution_count": 70,
   "id": "16b2bb35",
   "metadata": {},
   "outputs": [
    {
     "ename": "IndexError",
     "evalue": "index 10 is out of bounds for axis 0 with size 5",
     "output_type": "error",
     "traceback": [
      "\u001b[1;31m---------------------------------------------------------------------------\u001b[0m",
      "\u001b[1;31mIndexError\u001b[0m                                Traceback (most recent call last)",
      "\u001b[1;32m<ipython-input-70-ff656e92d79c>\u001b[0m in \u001b[0;36m<module>\u001b[1;34m\u001b[0m\n\u001b[1;32m----> 1\u001b[1;33m \u001b[0marr\u001b[0m\u001b[1;33m[\u001b[0m\u001b[1;36m10\u001b[0m\u001b[1;33m]\u001b[0m\u001b[1;33m\u001b[0m\u001b[1;33m\u001b[0m\u001b[0m\n\u001b[0m",
      "\u001b[1;31mIndexError\u001b[0m: index 10 is out of bounds for axis 0 with size 5"
     ]
    }
   ],
   "source": [
    "arr[10]"
   ]
  },
  {
   "cell_type": "code",
   "execution_count": 71,
   "id": "a904b2a7",
   "metadata": {},
   "outputs": [
    {
     "data": {
      "text/plain": [
       "array([1, 2, 3, 4, 5])"
      ]
     },
     "execution_count": 71,
     "metadata": {},
     "output_type": "execute_result"
    }
   ],
   "source": [
    "arr"
   ]
  },
  {
   "cell_type": "code",
   "execution_count": 72,
   "id": "e8fd73ae",
   "metadata": {},
   "outputs": [
    {
     "data": {
      "text/plain": [
       "array([2, 3, 4])"
      ]
     },
     "execution_count": 72,
     "metadata": {},
     "output_type": "execute_result"
    }
   ],
   "source": [
    "arr[-4:-1]"
   ]
  },
  {
   "cell_type": "code",
   "execution_count": 73,
   "id": "ad0e2a9d",
   "metadata": {},
   "outputs": [
    {
     "data": {
      "text/plain": [
       "array([2, 3, 4, 5])"
      ]
     },
     "execution_count": 73,
     "metadata": {},
     "output_type": "execute_result"
    }
   ],
   "source": [
    "arr[-4:]"
   ]
  },
  {
   "cell_type": "code",
   "execution_count": 74,
   "id": "53cecba6",
   "metadata": {},
   "outputs": [
    {
     "data": {
      "text/plain": [
       "array([5, 4, 3, 2, 1])"
      ]
     },
     "execution_count": 74,
     "metadata": {},
     "output_type": "execute_result"
    }
   ],
   "source": [
    "arr[::-1]"
   ]
  },
  {
   "cell_type": "code",
   "execution_count": 75,
   "id": "b3bb4417",
   "metadata": {},
   "outputs": [
    {
     "name": "stdout",
     "output_type": "stream",
     "text": [
      "Array = \n",
      "[[1 2 3 4 5]\n",
      " [1 2 3 4 5]\n",
      " [1 2 3 4 5]]\n"
     ]
    }
   ],
   "source": [
    "arr = np.array([[1,2,3,4,5],[1,2,3,4,5],[1,2,3,4,5]])\n",
    "print(f\"Array = \\n{arr}\")"
   ]
  },
  {
   "cell_type": "code",
   "execution_count": 76,
   "id": "4884a2d4",
   "metadata": {},
   "outputs": [
    {
     "data": {
      "text/plain": [
       "array([1, 2, 3, 4, 5])"
      ]
     },
     "execution_count": 76,
     "metadata": {},
     "output_type": "execute_result"
    }
   ],
   "source": [
    "arr[1]"
   ]
  },
  {
   "cell_type": "code",
   "execution_count": 77,
   "id": "3f927e10",
   "metadata": {},
   "outputs": [
    {
     "data": {
      "text/plain": [
       "5"
      ]
     },
     "execution_count": 77,
     "metadata": {},
     "output_type": "execute_result"
    }
   ],
   "source": [
    "arr[1][-1]"
   ]
  },
  {
   "cell_type": "code",
   "execution_count": 78,
   "id": "468a06ab",
   "metadata": {},
   "outputs": [
    {
     "data": {
      "text/plain": [
       "3"
      ]
     },
     "execution_count": 78,
     "metadata": {},
     "output_type": "execute_result"
    }
   ],
   "source": [
    "arr[1][2]"
   ]
  },
  {
   "cell_type": "code",
   "execution_count": 79,
   "id": "e31101d8",
   "metadata": {},
   "outputs": [
    {
     "data": {
      "text/plain": [
       "3"
      ]
     },
     "execution_count": 79,
     "metadata": {},
     "output_type": "execute_result"
    }
   ],
   "source": [
    "arr[1,2]"
   ]
  },
  {
   "cell_type": "code",
   "execution_count": 81,
   "id": "f3a3fdcc",
   "metadata": {},
   "outputs": [
    {
     "data": {
      "text/plain": [
       "array([[1, 2, 3, 4, 5],\n",
       "       [1, 2, 3, 4, 5],\n",
       "       [1, 2, 3, 4, 5]])"
      ]
     },
     "execution_count": 81,
     "metadata": {},
     "output_type": "execute_result"
    }
   ],
   "source": [
    "arr"
   ]
  },
  {
   "cell_type": "code",
   "execution_count": 80,
   "id": "abc86e17",
   "metadata": {},
   "outputs": [
    {
     "data": {
      "text/plain": [
       "array([3, 4, 5])"
      ]
     },
     "execution_count": 80,
     "metadata": {},
     "output_type": "execute_result"
    }
   ],
   "source": [
    "arr[1][2:]"
   ]
  },
  {
   "cell_type": "code",
   "execution_count": 82,
   "id": "9e145b0e",
   "metadata": {},
   "outputs": [
    {
     "data": {
      "text/plain": [
       "5"
      ]
     },
     "execution_count": 82,
     "metadata": {},
     "output_type": "execute_result"
    }
   ],
   "source": [
    "arr[2,-1]"
   ]
  },
  {
   "cell_type": "code",
   "execution_count": 83,
   "id": "dcc921ad",
   "metadata": {},
   "outputs": [
    {
     "data": {
      "text/plain": [
       "array([[1, 2, 3, 4, 5],\n",
       "       [1, 2, 3, 4, 5],\n",
       "       [1, 2, 3, 4, 5]])"
      ]
     },
     "execution_count": 83,
     "metadata": {},
     "output_type": "execute_result"
    }
   ],
   "source": [
    "arr[:,:]"
   ]
  },
  {
   "cell_type": "code",
   "execution_count": 84,
   "id": "8651c8df",
   "metadata": {},
   "outputs": [
    {
     "data": {
      "text/plain": [
       "array([[1, 2],\n",
       "       [1, 2]])"
      ]
     },
     "execution_count": 84,
     "metadata": {},
     "output_type": "execute_result"
    }
   ],
   "source": [
    "arr[0:2,0:2]"
   ]
  },
  {
   "cell_type": "code",
   "execution_count": 89,
   "id": "f2d0bca3",
   "metadata": {},
   "outputs": [
    {
     "data": {
      "text/plain": [
       "array([3, 3, 3])"
      ]
     },
     "execution_count": 89,
     "metadata": {},
     "output_type": "execute_result"
    }
   ],
   "source": [
    "arr[:,2]"
   ]
  },
  {
   "cell_type": "code",
   "execution_count": 90,
   "id": "9d9afc23",
   "metadata": {},
   "outputs": [
    {
     "data": {
      "text/plain": [
       "array([[3, 4],\n",
       "       [3, 4]])"
      ]
     },
     "execution_count": 90,
     "metadata": {},
     "output_type": "execute_result"
    }
   ],
   "source": [
    "arr[1:,2:4]"
   ]
  },
  {
   "cell_type": "code",
   "execution_count": 96,
   "id": "c7cb9b9d",
   "metadata": {},
   "outputs": [
    {
     "name": "stdout",
     "output_type": "stream",
     "text": [
      "Array = \n",
      "[[[ 1  2  3  4  5]\n",
      "  [ 1  2  3  4  5]\n",
      "  [ 1  2  3  4  5]]\n",
      "\n",
      " [[10 20 30 40 50]\n",
      "  [10 20 30 40 50]\n",
      "  [10 20 30 40 50]]]\n",
      "Number of dimentions = 3\n",
      "The length of the array = 2\n",
      "The shape of the array = (2, 3, 5)\n"
     ]
    }
   ],
   "source": [
    "arr = np.array([[[1,2,3,4,5],[1,2,3,4,5],[1,2,3,4,5]],[[10,20,30,40,50],[10,20,30,40,50],[10,20,30,40,50]]])\n",
    "print(f\"Array = \\n{arr}\")\n",
    "print(f\"Number of dimentions = {arr.ndim}\")\n",
    "print(f\"The length of the array = {len(arr)}\")\n",
    "print(f\"The shape of the array = {arr.shape}\")"
   ]
  },
  {
   "cell_type": "code",
   "execution_count": 97,
   "id": "7e05da5f",
   "metadata": {},
   "outputs": [
    {
     "data": {
      "text/plain": [
       "array([[[ 1,  2,  3,  4,  5],\n",
       "        [ 1,  2,  3,  4,  5],\n",
       "        [ 1,  2,  3,  4,  5]],\n",
       "\n",
       "       [[10, 20, 30, 40, 50],\n",
       "        [10, 20, 30, 40, 50],\n",
       "        [10, 20, 30, 40, 50]]])"
      ]
     },
     "execution_count": 97,
     "metadata": {},
     "output_type": "execute_result"
    }
   ],
   "source": [
    "arr"
   ]
  },
  {
   "cell_type": "code",
   "execution_count": 98,
   "id": "4725a0a8",
   "metadata": {},
   "outputs": [
    {
     "data": {
      "text/plain": [
       "array([[1, 2, 3, 4, 5],\n",
       "       [1, 2, 3, 4, 5],\n",
       "       [1, 2, 3, 4, 5]])"
      ]
     },
     "execution_count": 98,
     "metadata": {},
     "output_type": "execute_result"
    }
   ],
   "source": [
    "arr[0]"
   ]
  },
  {
   "cell_type": "code",
   "execution_count": 99,
   "id": "ec69a530",
   "metadata": {},
   "outputs": [
    {
     "data": {
      "text/plain": [
       "array([[10, 20, 30, 40, 50],\n",
       "       [10, 20, 30, 40, 50],\n",
       "       [10, 20, 30, 40, 50]])"
      ]
     },
     "execution_count": 99,
     "metadata": {},
     "output_type": "execute_result"
    }
   ],
   "source": [
    "arr[1]"
   ]
  },
  {
   "cell_type": "code",
   "execution_count": 100,
   "id": "16c87fc4",
   "metadata": {},
   "outputs": [
    {
     "data": {
      "text/plain": [
       "1"
      ]
     },
     "execution_count": 100,
     "metadata": {},
     "output_type": "execute_result"
    }
   ],
   "source": [
    "arr[0,0,0]"
   ]
  },
  {
   "cell_type": "code",
   "execution_count": 101,
   "id": "247cb39f",
   "metadata": {},
   "outputs": [
    {
     "data": {
      "text/plain": [
       "10"
      ]
     },
     "execution_count": 101,
     "metadata": {},
     "output_type": "execute_result"
    }
   ],
   "source": [
    "arr[1,0,0]"
   ]
  },
  {
   "cell_type": "code",
   "execution_count": 102,
   "id": "29403c26",
   "metadata": {},
   "outputs": [
    {
     "data": {
      "text/plain": [
       "array([[[ 1,  2,  3,  4,  5],\n",
       "        [ 1,  2,  3,  4,  5],\n",
       "        [ 1,  2,  3,  4,  5]],\n",
       "\n",
       "       [[10, 20, 30, 40, 50],\n",
       "        [10, 20, 30, 40, 50],\n",
       "        [10, 20, 30, 40, 50]]])"
      ]
     },
     "execution_count": 102,
     "metadata": {},
     "output_type": "execute_result"
    }
   ],
   "source": [
    "arr"
   ]
  },
  {
   "cell_type": "code",
   "execution_count": 103,
   "id": "4fc0326a",
   "metadata": {},
   "outputs": [
    {
     "data": {
      "text/plain": [
       "array([[3, 4],\n",
       "       [3, 4],\n",
       "       [3, 4]])"
      ]
     },
     "execution_count": 103,
     "metadata": {},
     "output_type": "execute_result"
    }
   ],
   "source": [
    "arr[0,:,2:4]"
   ]
  },
  {
   "cell_type": "code",
   "execution_count": 104,
   "id": "1c824f05",
   "metadata": {},
   "outputs": [
    {
     "data": {
      "text/plain": [
       "array([[30, 40],\n",
       "       [30, 40],\n",
       "       [30, 40]])"
      ]
     },
     "execution_count": 104,
     "metadata": {},
     "output_type": "execute_result"
    }
   ],
   "source": [
    "arr[1,:,2:4]"
   ]
  },
  {
   "cell_type": "code",
   "execution_count": 105,
   "id": "6eefcc2b",
   "metadata": {},
   "outputs": [
    {
     "data": {
      "text/plain": [
       "array([50, 50, 50])"
      ]
     },
     "execution_count": 105,
     "metadata": {},
     "output_type": "execute_result"
    }
   ],
   "source": [
    "arr[1,:,-1]"
   ]
  },
  {
   "cell_type": "code",
   "execution_count": 106,
   "id": "3b90bcdb",
   "metadata": {},
   "outputs": [
    {
     "data": {
      "text/plain": [
       "array([[[ 1,  2,  3,  4,  5],\n",
       "        [ 1,  2,  3,  4,  5],\n",
       "        [ 1,  2,  3,  4,  5]],\n",
       "\n",
       "       [[10, 20, 30, 40, 50],\n",
       "        [10, 20, 30, 40, 50],\n",
       "        [10, 20, 30, 40, 50]]])"
      ]
     },
     "execution_count": 106,
     "metadata": {},
     "output_type": "execute_result"
    }
   ],
   "source": [
    "arr"
   ]
  },
  {
   "cell_type": "code",
   "execution_count": 107,
   "id": "ff34579f",
   "metadata": {},
   "outputs": [
    {
     "data": {
      "text/plain": [
       "10"
      ]
     },
     "execution_count": 107,
     "metadata": {},
     "output_type": "execute_result"
    }
   ],
   "source": [
    "arr[1,1,0]"
   ]
  },
  {
   "cell_type": "code",
   "execution_count": 108,
   "id": "654e5c7b",
   "metadata": {},
   "outputs": [
    {
     "data": {
      "text/plain": [
       "50"
      ]
     },
     "execution_count": 108,
     "metadata": {},
     "output_type": "execute_result"
    }
   ],
   "source": [
    "arr[1,1,-1]"
   ]
  },
  {
   "cell_type": "code",
   "execution_count": 109,
   "id": "03b00a10",
   "metadata": {},
   "outputs": [
    {
     "data": {
      "text/plain": [
       "array([[[ 1,  2,  3,  4,  5],\n",
       "        [ 1,  2,  3,  4,  5],\n",
       "        [ 1,  2,  3,  4,  5]],\n",
       "\n",
       "       [[10, 20, 30, 40, 50],\n",
       "        [10, 20, 30, 40, 50],\n",
       "        [10, 20, 30, 40, 50]]])"
      ]
     },
     "execution_count": 109,
     "metadata": {},
     "output_type": "execute_result"
    }
   ],
   "source": [
    "arr[:,:,:]"
   ]
  },
  {
   "cell_type": "code",
   "execution_count": 110,
   "id": "7eff8a0a",
   "metadata": {},
   "outputs": [
    {
     "data": {
      "text/plain": [
       "array([[ 2,  2,  2],\n",
       "       [20, 20, 20]])"
      ]
     },
     "execution_count": 110,
     "metadata": {},
     "output_type": "execute_result"
    }
   ],
   "source": [
    "arr[:,:,1]"
   ]
  },
  {
   "cell_type": "code",
   "execution_count": 111,
   "id": "43d5586e",
   "metadata": {},
   "outputs": [
    {
     "data": {
      "text/plain": [
       "array([[[ 2,  3],\n",
       "        [ 2,  3],\n",
       "        [ 2,  3]],\n",
       "\n",
       "       [[20, 30],\n",
       "        [20, 30],\n",
       "        [20, 30]]])"
      ]
     },
     "execution_count": 111,
     "metadata": {},
     "output_type": "execute_result"
    }
   ],
   "source": [
    "arr[:,:,1:3]"
   ]
  },
  {
   "cell_type": "code",
   "execution_count": 113,
   "id": "dbaa7752",
   "metadata": {},
   "outputs": [
    {
     "data": {
      "text/plain": [
       "array([[[ 1,  2,  3,  4,  5],\n",
       "        [ 1,  2,  3,  4,  5],\n",
       "        [ 1,  2,  3,  4,  5]],\n",
       "\n",
       "       [[10, 20, 30, 40, 50],\n",
       "        [10, 20, 30, 40, 50],\n",
       "        [10, 20, 30, 40, 50]]])"
      ]
     },
     "execution_count": 113,
     "metadata": {},
     "output_type": "execute_result"
    }
   ],
   "source": [
    "arr"
   ]
  },
  {
   "cell_type": "code",
   "execution_count": 112,
   "id": "703a4552",
   "metadata": {},
   "outputs": [
    {
     "data": {
      "text/plain": [
       "(2, 3, 5)"
      ]
     },
     "execution_count": 112,
     "metadata": {},
     "output_type": "execute_result"
    }
   ],
   "source": [
    "arr.shape"
   ]
  },
  {
   "cell_type": "markdown",
   "id": "5636a297",
   "metadata": {},
   "source": [
    "# Convert to n-D Array"
   ]
  },
  {
   "cell_type": "code",
   "execution_count": 114,
   "id": "a3784909",
   "metadata": {},
   "outputs": [
    {
     "name": "stdout",
     "output_type": "stream",
     "text": [
      "Array = \n",
      "[1 2 3 4 5]\n",
      "Number of dimentions = 1\n",
      "The length of the array = 5\n",
      "The shape of the array = (5,)\n"
     ]
    }
   ],
   "source": [
    "arr = np.array([1,2,3,4,5])\n",
    "print(f\"Array = \\n{arr}\")\n",
    "print(f\"Number of dimentions = {arr.ndim}\")\n",
    "print(f\"The length of the array = {len(arr)}\")\n",
    "print(f\"The shape of the array = {arr.shape}\")"
   ]
  },
  {
   "cell_type": "code",
   "execution_count": 116,
   "id": "fe2dc50c",
   "metadata": {},
   "outputs": [
    {
     "name": "stdout",
     "output_type": "stream",
     "text": [
      "Array = \n",
      "[[1 2 3 4 5]]\n",
      "Number of dimentions = 2\n",
      "The length of the array = 1\n",
      "The shape of the array = (1, 5)\n"
     ]
    }
   ],
   "source": [
    "arr = np.array([1,2,3,4,5],ndmin = 2)\n",
    "print(f\"Array = \\n{arr}\")\n",
    "print(f\"Number of dimentions = {arr.ndim}\")\n",
    "print(f\"The length of the array = {len(arr)}\")\n",
    "print(f\"The shape of the array = {arr.shape}\")"
   ]
  },
  {
   "cell_type": "code",
   "execution_count": 117,
   "id": "84075c8b",
   "metadata": {},
   "outputs": [
    {
     "name": "stdout",
     "output_type": "stream",
     "text": [
      "Array = \n",
      "[1 2 3 4 5]\n",
      "Number of dimentions = 1\n",
      "The length of the array = 5\n",
      "The shape of the array = (5,)\n"
     ]
    }
   ],
   "source": [
    "arr = np.array([1,2,3,4,5],ndmin = 1)\n",
    "print(f\"Array = \\n{arr}\")\n",
    "print(f\"Number of dimentions = {arr.ndim}\")\n",
    "print(f\"The length of the array = {len(arr)}\")\n",
    "print(f\"The shape of the array = {arr.shape}\")"
   ]
  },
  {
   "cell_type": "code",
   "execution_count": 118,
   "id": "ce930d53",
   "metadata": {},
   "outputs": [
    {
     "name": "stdout",
     "output_type": "stream",
     "text": [
      "Array = \n",
      "[1 2 3 4 5]\n",
      "Number of dimentions = 1\n",
      "The length of the array = 5\n",
      "The shape of the array = (5,)\n"
     ]
    }
   ],
   "source": [
    "arr = np.array([1,2,3,4,5],ndmin = 0)\n",
    "print(f\"Array = \\n{arr}\")\n",
    "print(f\"Number of dimentions = {arr.ndim}\")\n",
    "print(f\"The length of the array = {len(arr)}\")\n",
    "print(f\"The shape of the array = {arr.shape}\")"
   ]
  },
  {
   "cell_type": "code",
   "execution_count": 119,
   "id": "3b241028",
   "metadata": {},
   "outputs": [
    {
     "name": "stdout",
     "output_type": "stream",
     "text": [
      "Array = \n",
      "[[1 2 3]\n",
      " [4 5 6]]\n",
      "Number of dimentions = 2\n",
      "The length of the array = 2\n",
      "The shape of the array = (2, 3)\n"
     ]
    }
   ],
   "source": [
    "arr = np.array([[1,2,3],[4,5,6]])\n",
    "print(f\"Array = \\n{arr}\")\n",
    "print(f\"Number of dimentions = {arr.ndim}\")\n",
    "print(f\"The length of the array = {len(arr)}\")\n",
    "print(f\"The shape of the array = {arr.shape}\")"
   ]
  },
  {
   "cell_type": "code",
   "execution_count": 120,
   "id": "a2e6a60c",
   "metadata": {},
   "outputs": [
    {
     "name": "stdout",
     "output_type": "stream",
     "text": [
      "Array = \n",
      "[[1 2 3]\n",
      " [4 5 6]]\n",
      "Number of dimentions = 2\n",
      "The length of the array = 2\n",
      "The shape of the array = (2, 3)\n"
     ]
    }
   ],
   "source": [
    "arr = np.array([[1,2,3],[4,5,6]],ndmin=1)\n",
    "print(f\"Array = \\n{arr}\")\n",
    "print(f\"Number of dimentions = {arr.ndim}\")\n",
    "print(f\"The length of the array = {len(arr)}\")\n",
    "print(f\"The shape of the array = {arr.shape}\")"
   ]
  },
  {
   "cell_type": "code",
   "execution_count": 121,
   "id": "5ad606f0",
   "metadata": {},
   "outputs": [
    {
     "name": "stdout",
     "output_type": "stream",
     "text": [
      "Array = \n",
      "[[[1 2 3]\n",
      "  [4 5 6]]]\n",
      "Number of dimentions = 3\n",
      "The length of the array = 1\n",
      "The shape of the array = (1, 2, 3)\n"
     ]
    }
   ],
   "source": [
    "arr = np.array([[1,2,3],[4,5,6]],ndmin=3)\n",
    "print(f\"Array = \\n{arr}\")\n",
    "print(f\"Number of dimentions = {arr.ndim}\")\n",
    "print(f\"The length of the array = {len(arr)}\")\n",
    "print(f\"The shape of the array = {arr.shape}\")"
   ]
  },
  {
   "cell_type": "code",
   "execution_count": 122,
   "id": "00c01b9c",
   "metadata": {},
   "outputs": [
    {
     "name": "stdout",
     "output_type": "stream",
     "text": [
      "Array = \n",
      "[1 2 3 4 5 1 2 3 4 5 1 2 3 4 5]\n"
     ]
    }
   ],
   "source": [
    "arr = np.array([1,2,3,4,5,1,2,3,4,5,1,2,3,4,5],ndmin=1)\n",
    "print(f\"Array = \\n{arr}\")"
   ]
  },
  {
   "cell_type": "code",
   "execution_count": 123,
   "id": "9ade7ef4",
   "metadata": {},
   "outputs": [
    {
     "name": "stdout",
     "output_type": "stream",
     "text": [
      "Array = \n",
      "[[1 2 3 4 5 1 2 3 4 5 1 2 3 4 5]]\n"
     ]
    }
   ],
   "source": [
    "arr = np.array([1,2,3,4,5,1,2,3,4,5,1,2,3,4,5],ndmin=2)\n",
    "print(f\"Array = \\n{arr}\")"
   ]
  },
  {
   "cell_type": "code",
   "execution_count": 124,
   "id": "33e7b81b",
   "metadata": {},
   "outputs": [
    {
     "name": "stdout",
     "output_type": "stream",
     "text": [
      "Array = \n",
      "[[[1 2 3 4 5 1 2 3 4 5 1 2 3 4 5]]]\n"
     ]
    }
   ],
   "source": [
    "arr = np.array([1,2,3,4,5,1,2,3,4,5,1,2,3,4,5],ndmin=3)\n",
    "print(f\"Array = \\n{arr}\")"
   ]
  },
  {
   "cell_type": "code",
   "execution_count": 125,
   "id": "18eb8cee",
   "metadata": {},
   "outputs": [
    {
     "name": "stdout",
     "output_type": "stream",
     "text": [
      "Array = \n",
      "[[[[1 2 3 4 5 1 2 3 4 5 1 2 3 4 5]]]]\n"
     ]
    }
   ],
   "source": [
    "arr = np.array([1,2,3,4,5,1,2,3,4,5,1,2,3,4,5],ndmin=4)\n",
    "print(f\"Array = \\n{arr}\")"
   ]
  },
  {
   "cell_type": "markdown",
   "id": "aff0a76d",
   "metadata": {},
   "source": [
    "# reshape()"
   ]
  },
  {
   "cell_type": "code",
   "execution_count": 128,
   "id": "043ab681",
   "metadata": {},
   "outputs": [
    {
     "name": "stdout",
     "output_type": "stream",
     "text": [
      "Array = \n",
      "[1 2 3 4 5 1 2 3 4 5 1 2]\n",
      "Number of dimentions = 1\n",
      "The length of the array = 12\n",
      "The shape of the array = (12,)\n"
     ]
    }
   ],
   "source": [
    "arr = np.array([1,2,3,4,5,1,2,3,4,5,1,2])\n",
    "print(f\"Array = \\n{arr}\")\n",
    "print(f\"Number of dimentions = {arr.ndim}\")\n",
    "print(f\"The length of the array = {len(arr)}\")\n",
    "print(f\"The shape of the array = {arr.shape}\")"
   ]
  },
  {
   "cell_type": "code",
   "execution_count": 129,
   "id": "bfff4427",
   "metadata": {},
   "outputs": [
    {
     "name": "stdout",
     "output_type": "stream",
     "text": [
      "Array = \n",
      "[[1 2 3]\n",
      " [4 5 1]\n",
      " [2 3 4]\n",
      " [5 1 2]]\n",
      "Number of dimentions = 2\n",
      "The length of the array = 4\n",
      "The shape of the array = (4, 3)\n"
     ]
    }
   ],
   "source": [
    "arr = np.array([[1,2,3],[4,5,1],[2,3,4],[5,1,2]])\n",
    "print(f\"Array = \\n{arr}\")\n",
    "print(f\"Number of dimentions = {arr.ndim}\")\n",
    "print(f\"The length of the array = {len(arr)}\")\n",
    "print(f\"The shape of the array = {arr.shape}\")"
   ]
  },
  {
   "cell_type": "code",
   "execution_count": 130,
   "id": "e1cbdb91",
   "metadata": {},
   "outputs": [
    {
     "data": {
      "text/plain": [
       "array([[1, 2, 3],\n",
       "       [4, 5, 1],\n",
       "       [2, 3, 4],\n",
       "       [5, 1, 2]])"
      ]
     },
     "execution_count": 130,
     "metadata": {},
     "output_type": "execute_result"
    }
   ],
   "source": [
    "arr2 = np.array([[1,2,3],[4,5,1],[2,3,4],[5,1,2]])\n",
    "arr2\n"
   ]
  },
  {
   "cell_type": "code",
   "execution_count": 131,
   "id": "6dc02970",
   "metadata": {},
   "outputs": [
    {
     "data": {
      "text/plain": [
       "array([[1, 2, 3, 4],\n",
       "       [5, 1, 2, 3],\n",
       "       [4, 5, 1, 2]])"
      ]
     },
     "execution_count": 131,
     "metadata": {},
     "output_type": "execute_result"
    }
   ],
   "source": [
    "arr2.reshape(3,4)"
   ]
  },
  {
   "cell_type": "code",
   "execution_count": 132,
   "id": "ba0c6aad",
   "metadata": {},
   "outputs": [
    {
     "data": {
      "text/plain": [
       "array([[1, 2],\n",
       "       [3, 4],\n",
       "       [5, 1],\n",
       "       [2, 3],\n",
       "       [4, 5],\n",
       "       [1, 2]])"
      ]
     },
     "execution_count": 132,
     "metadata": {},
     "output_type": "execute_result"
    }
   ],
   "source": [
    "arr2.reshape(6,2)"
   ]
  },
  {
   "cell_type": "code",
   "execution_count": 133,
   "id": "e2bb9cc9",
   "metadata": {},
   "outputs": [
    {
     "data": {
      "text/plain": [
       "array([[1, 2, 3, 4, 5, 1],\n",
       "       [2, 3, 4, 5, 1, 2]])"
      ]
     },
     "execution_count": 133,
     "metadata": {},
     "output_type": "execute_result"
    }
   ],
   "source": [
    "arr2.reshape(2,6)"
   ]
  },
  {
   "cell_type": "code",
   "execution_count": 134,
   "id": "caf916bc",
   "metadata": {},
   "outputs": [
    {
     "ename": "ValueError",
     "evalue": "cannot reshape array of size 12 into shape (2,4)",
     "output_type": "error",
     "traceback": [
      "\u001b[1;31m---------------------------------------------------------------------------\u001b[0m",
      "\u001b[1;31mValueError\u001b[0m                                Traceback (most recent call last)",
      "\u001b[1;32m<ipython-input-134-26d99307c814>\u001b[0m in \u001b[0;36m<module>\u001b[1;34m\u001b[0m\n\u001b[1;32m----> 1\u001b[1;33m \u001b[0marr2\u001b[0m\u001b[1;33m.\u001b[0m\u001b[0mreshape\u001b[0m\u001b[1;33m(\u001b[0m\u001b[1;36m2\u001b[0m\u001b[1;33m,\u001b[0m\u001b[1;36m4\u001b[0m\u001b[1;33m)\u001b[0m\u001b[1;33m\u001b[0m\u001b[1;33m\u001b[0m\u001b[0m\n\u001b[0m",
      "\u001b[1;31mValueError\u001b[0m: cannot reshape array of size 12 into shape (2,4)"
     ]
    }
   ],
   "source": [
    "arr2.reshape(2,4)"
   ]
  },
  {
   "cell_type": "code",
   "execution_count": 135,
   "id": "187517e0",
   "metadata": {},
   "outputs": [
    {
     "data": {
      "text/plain": [
       "array([[1, 2, 3, 4],\n",
       "       [5, 1, 2, 3],\n",
       "       [4, 5, 1, 2]])"
      ]
     },
     "execution_count": 135,
     "metadata": {},
     "output_type": "execute_result"
    }
   ],
   "source": [
    "arr2.reshape(3,4)"
   ]
  },
  {
   "cell_type": "code",
   "execution_count": 136,
   "id": "d4dc26b1",
   "metadata": {},
   "outputs": [
    {
     "data": {
      "text/plain": [
       "array([[1, 2, 3],\n",
       "       [4, 5, 1],\n",
       "       [2, 3, 4],\n",
       "       [5, 1, 2]])"
      ]
     },
     "execution_count": 136,
     "metadata": {},
     "output_type": "execute_result"
    }
   ],
   "source": [
    "arr2.reshape(4,3)"
   ]
  },
  {
   "cell_type": "code",
   "execution_count": 137,
   "id": "9e6cea72",
   "metadata": {},
   "outputs": [
    {
     "data": {
      "text/plain": [
       "array([[1, 2, 3, 4, 5, 1, 2, 3, 4, 5, 1, 2]])"
      ]
     },
     "execution_count": 137,
     "metadata": {},
     "output_type": "execute_result"
    }
   ],
   "source": [
    "arr2.reshape(1,12)"
   ]
  },
  {
   "cell_type": "code",
   "execution_count": 139,
   "id": "ac8f7ea0",
   "metadata": {},
   "outputs": [
    {
     "data": {
      "text/plain": [
       "array([[1],\n",
       "       [2],\n",
       "       [3],\n",
       "       [4],\n",
       "       [5],\n",
       "       [1],\n",
       "       [2],\n",
       "       [3],\n",
       "       [4],\n",
       "       [5],\n",
       "       [1],\n",
       "       [2]])"
      ]
     },
     "execution_count": 139,
     "metadata": {},
     "output_type": "execute_result"
    }
   ],
   "source": [
    "arr2.reshape(12,1)"
   ]
  },
  {
   "cell_type": "markdown",
   "id": "bcf1b0c4",
   "metadata": {},
   "source": [
    "# 1-D to 3-D"
   ]
  },
  {
   "cell_type": "code",
   "execution_count": 140,
   "id": "39b28169",
   "metadata": {},
   "outputs": [
    {
     "name": "stdout",
     "output_type": "stream",
     "text": [
      "Array = \n",
      "[1 2 3 4 5 1 2 3 4 5 1 2]\n",
      "Number of dimentions = 1\n",
      "The length of the array = 12\n",
      "The shape of the array = (12,)\n"
     ]
    }
   ],
   "source": [
    "arr = np.array([1,2,3,4,5,1,2,3,4,5,1,2])\n",
    "print(f\"Array = \\n{arr}\")\n",
    "print(f\"Number of dimentions = {arr.ndim}\")\n",
    "print(f\"The length of the array = {len(arr)}\")\n",
    "print(f\"The shape of the array = {arr.shape}\")"
   ]
  },
  {
   "cell_type": "code",
   "execution_count": 141,
   "id": "7b2ed842",
   "metadata": {},
   "outputs": [
    {
     "data": {
      "text/plain": [
       "array([[[1, 2, 3],\n",
       "        [4, 5, 1]],\n",
       "\n",
       "       [[2, 3, 4],\n",
       "        [5, 1, 2]]])"
      ]
     },
     "execution_count": 141,
     "metadata": {},
     "output_type": "execute_result"
    }
   ],
   "source": [
    "arr.reshape(2,2,3)"
   ]
  },
  {
   "cell_type": "raw",
   "id": "b20b5629",
   "metadata": {},
   "source": [
    "2,2,3\n",
    "2,3,2\n",
    "4,3,1\n",
    "3,4,1\n",
    "1,2,6\n"
   ]
  },
  {
   "cell_type": "code",
   "execution_count": 142,
   "id": "08577a5b",
   "metadata": {},
   "outputs": [
    {
     "data": {
      "text/plain": [
       "array([[[1, 2, 3, 4, 5, 1],\n",
       "        [2, 3, 4, 5, 1, 2]]])"
      ]
     },
     "execution_count": 142,
     "metadata": {},
     "output_type": "execute_result"
    }
   ],
   "source": [
    "arr.reshape(1,2,6)"
   ]
  },
  {
   "cell_type": "code",
   "execution_count": 144,
   "id": "6bff7895",
   "metadata": {},
   "outputs": [
    {
     "data": {
      "text/plain": [
       "array([[[1, 2],\n",
       "        [3, 4],\n",
       "        [5, 1],\n",
       "        [2, 3],\n",
       "        [4, 5],\n",
       "        [1, 2]]])"
      ]
     },
     "execution_count": 144,
     "metadata": {},
     "output_type": "execute_result"
    }
   ],
   "source": [
    "arr.reshape(1,6,2)"
   ]
  },
  {
   "cell_type": "code",
   "execution_count": 145,
   "id": "4e615fb2",
   "metadata": {},
   "outputs": [
    {
     "data": {
      "text/plain": [
       "array([[[1]],\n",
       "\n",
       "       [[2]],\n",
       "\n",
       "       [[3]],\n",
       "\n",
       "       [[4]],\n",
       "\n",
       "       [[5]],\n",
       "\n",
       "       [[1]],\n",
       "\n",
       "       [[2]],\n",
       "\n",
       "       [[3]],\n",
       "\n",
       "       [[4]],\n",
       "\n",
       "       [[5]],\n",
       "\n",
       "       [[1]],\n",
       "\n",
       "       [[2]]])"
      ]
     },
     "execution_count": 145,
     "metadata": {},
     "output_type": "execute_result"
    }
   ],
   "source": [
    "arr.reshape(12,1,1)"
   ]
  },
  {
   "cell_type": "markdown",
   "id": "ad8905a2",
   "metadata": {},
   "source": [
    "# Accessing elements from array using for loop"
   ]
  },
  {
   "cell_type": "code",
   "execution_count": 146,
   "id": "9893318b",
   "metadata": {},
   "outputs": [
    {
     "data": {
      "text/plain": [
       "array([ 1,  2,  3,  4,  5,  6,  7,  8,  9, 10, 11, 12])"
      ]
     },
     "execution_count": 146,
     "metadata": {},
     "output_type": "execute_result"
    }
   ],
   "source": [
    "arr = np.array([1,2,3,4,5,6,7,8,9,10,11,12])\n",
    "arr"
   ]
  },
  {
   "cell_type": "code",
   "execution_count": 147,
   "id": "138d7d8b",
   "metadata": {},
   "outputs": [
    {
     "name": "stdout",
     "output_type": "stream",
     "text": [
      "1\n",
      "2\n",
      "3\n",
      "4\n",
      "5\n",
      "6\n",
      "7\n",
      "8\n",
      "9\n",
      "10\n",
      "11\n",
      "12\n"
     ]
    }
   ],
   "source": [
    "for i in arr:\n",
    "    print(i)"
   ]
  },
  {
   "cell_type": "code",
   "execution_count": 150,
   "id": "d84d3d51",
   "metadata": {},
   "outputs": [
    {
     "name": "stdout",
     "output_type": "stream",
     "text": [
      "1\n",
      "2\n",
      "3\n",
      "4\n",
      "5\n",
      "6\n"
     ]
    }
   ],
   "source": [
    "arr = [[1,2],[3,4],[5,6]]\n",
    "for i in arr:\n",
    "    for j in i:\n",
    "        print(j)"
   ]
  },
  {
   "cell_type": "code",
   "execution_count": 152,
   "id": "1cee3738",
   "metadata": {},
   "outputs": [
    {
     "name": "stdout",
     "output_type": "stream",
     "text": [
      "1\n",
      "2\n",
      "3\n",
      "4\n",
      "5\n",
      "6\n",
      "1\n",
      "2\n",
      "3\n",
      "4\n",
      "5\n",
      "6\n"
     ]
    }
   ],
   "source": [
    "arr = [[[1,2],[3,4],[5,6]],[[1,2],[3,4],[5,6]]]\n",
    "for i in arr:\n",
    "    for j in i:\n",
    "        for k in j:\n",
    "            print(k)"
   ]
  },
  {
   "cell_type": "code",
   "execution_count": 153,
   "id": "f420aa0e",
   "metadata": {},
   "outputs": [
    {
     "data": {
      "text/plain": [
       "array([[1, 2],\n",
       "       [3, 4],\n",
       "       [5, 6]])"
      ]
     },
     "execution_count": 153,
     "metadata": {},
     "output_type": "execute_result"
    }
   ],
   "source": [
    "arr = np.array([[1,2],[3,4],[5,6]])\n",
    "arr"
   ]
  },
  {
   "cell_type": "markdown",
   "id": "7b2deaa8",
   "metadata": {},
   "source": [
    "## np.nditer()"
   ]
  },
  {
   "cell_type": "code",
   "execution_count": 154,
   "id": "a3ddf508",
   "metadata": {},
   "outputs": [
    {
     "name": "stdout",
     "output_type": "stream",
     "text": [
      "1\n",
      "2\n",
      "3\n",
      "4\n",
      "5\n",
      "6\n"
     ]
    }
   ],
   "source": [
    "for i in np.nditer(arr):\n",
    "    print(i)"
   ]
  },
  {
   "cell_type": "code",
   "execution_count": 155,
   "id": "46583241",
   "metadata": {},
   "outputs": [
    {
     "data": {
      "text/plain": [
       "array([[[1, 2],\n",
       "        [3, 4],\n",
       "        [5, 6]],\n",
       "\n",
       "       [[1, 2],\n",
       "        [3, 4],\n",
       "        [5, 6]]])"
      ]
     },
     "execution_count": 155,
     "metadata": {},
     "output_type": "execute_result"
    }
   ],
   "source": [
    "arr = np.array([[[1,2],[3,4],[5,6]],[[1,2],[3,4],[5,6]]])\n",
    "arr"
   ]
  },
  {
   "cell_type": "code",
   "execution_count": 156,
   "id": "1ecc0103",
   "metadata": {},
   "outputs": [
    {
     "name": "stdout",
     "output_type": "stream",
     "text": [
      "1\n",
      "2\n",
      "3\n",
      "4\n",
      "5\n",
      "6\n",
      "1\n",
      "2\n",
      "3\n",
      "4\n",
      "5\n",
      "6\n"
     ]
    }
   ],
   "source": [
    "for i in np.nditer(arr):\n",
    "    print(i)"
   ]
  },
  {
   "cell_type": "markdown",
   "id": "4aa78c4d",
   "metadata": {},
   "source": [
    "## np.ndenumerate()"
   ]
  },
  {
   "cell_type": "code",
   "execution_count": 157,
   "id": "fda938c5",
   "metadata": {},
   "outputs": [
    {
     "name": "stdout",
     "output_type": "stream",
     "text": [
      "(0,) 1\n",
      "(1,) 2\n",
      "(2,) 3\n",
      "(3,) 4\n",
      "(4,) 5\n"
     ]
    }
   ],
   "source": [
    "arr = np.array([1,2,3,4,5])\n",
    "for i,v in np.ndenumerate(arr):\n",
    "    print(i,v)"
   ]
  },
  {
   "cell_type": "code",
   "execution_count": 159,
   "id": "434e4006",
   "metadata": {},
   "outputs": [
    {
     "name": "stdout",
     "output_type": "stream",
     "text": [
      "[[1 2]\n",
      " [3 4]\n",
      " [5 6]]\n",
      "(0, 0) 1\n",
      "(0, 1) 2\n",
      "(1, 0) 3\n",
      "(1, 1) 4\n",
      "(2, 0) 5\n",
      "(2, 1) 6\n"
     ]
    }
   ],
   "source": [
    "arr = np.array([[1,2],[3,4],[5,6]])\n",
    "print(arr)\n",
    "for i,v in np.ndenumerate(arr):\n",
    "    print(i,v)"
   ]
  },
  {
   "cell_type": "code",
   "execution_count": 162,
   "id": "f67f90f9",
   "metadata": {},
   "outputs": [
    {
     "name": "stdout",
     "output_type": "stream",
     "text": [
      "[[[ 1  2 22]\n",
      "  [ 3  4 44]\n",
      "  [ 5  6 66]]\n",
      "\n",
      " [[ 1  2 22]\n",
      "  [ 3  4 44]\n",
      "  [ 5  6 66]]]\n",
      "\n",
      "(0, 0, 0) 1\n",
      "(0, 0, 1) 2\n",
      "(0, 0, 2) 22\n",
      "(0, 1, 0) 3\n",
      "(0, 1, 1) 4\n",
      "(0, 1, 2) 44\n",
      "(0, 2, 0) 5\n",
      "(0, 2, 1) 6\n",
      "(0, 2, 2) 66\n",
      "(1, 0, 0) 1\n",
      "(1, 0, 1) 2\n",
      "(1, 0, 2) 22\n",
      "(1, 1, 0) 3\n",
      "(1, 1, 1) 4\n",
      "(1, 1, 2) 44\n",
      "(1, 2, 0) 5\n",
      "(1, 2, 1) 6\n",
      "(1, 2, 2) 66\n"
     ]
    }
   ],
   "source": [
    "arr = np.array([[[1,2,22],[3,4,44],[5,6,66]],[[1,2,22],[3,4,44],[5,6,66]]])\n",
    "print(arr)\n",
    "print()\n",
    "for i,v in np.ndenumerate(arr):\n",
    "    print(i,v)"
   ]
  },
  {
   "cell_type": "markdown",
   "id": "a3759617",
   "metadata": {},
   "source": [
    "# 4. zeros()\n",
    "- np.zeros(shape , dtype = float)\n",
    "- Return an array of zero value\n",
    "- Weight Initialization\n",
    "- Target column creation"
   ]
  },
  {
   "cell_type": "code",
   "execution_count": 163,
   "id": "34aa9786",
   "metadata": {},
   "outputs": [
    {
     "data": {
      "text/plain": [
       "array([0., 0., 0., 0., 0.])"
      ]
     },
     "execution_count": 163,
     "metadata": {},
     "output_type": "execute_result"
    }
   ],
   "source": [
    "arr = np.zeros(5)\n",
    "arr"
   ]
  },
  {
   "cell_type": "code",
   "execution_count": 164,
   "id": "3f8c5b49",
   "metadata": {},
   "outputs": [
    {
     "data": {
      "text/plain": [
       "array([0, 0, 0, 0, 0])"
      ]
     },
     "execution_count": 164,
     "metadata": {},
     "output_type": "execute_result"
    }
   ],
   "source": [
    "arr = np.zeros(5,dtype=int)\n",
    "arr"
   ]
  },
  {
   "cell_type": "code",
   "execution_count": 165,
   "id": "500d9243",
   "metadata": {},
   "outputs": [
    {
     "data": {
      "text/plain": [
       "array([0, 0, 0, 0, 0, 0, 0, 0, 0, 0, 0, 0, 0, 0, 0])"
      ]
     },
     "execution_count": 165,
     "metadata": {},
     "output_type": "execute_result"
    }
   ],
   "source": [
    "arr = np.zeros(15,dtype=int)\n",
    "arr"
   ]
  },
  {
   "cell_type": "code",
   "execution_count": 167,
   "id": "e6e57405",
   "metadata": {},
   "outputs": [
    {
     "data": {
      "text/plain": [
       "array([0, 0, 0, 0, 0, 0, 0, 0, 0, 0, 0, 0, 0, 0, 0])"
      ]
     },
     "execution_count": 167,
     "metadata": {},
     "output_type": "execute_result"
    }
   ],
   "source": [
    "False_col = np.zeros(15,dtype=int)\n",
    "False_col"
   ]
  },
  {
   "cell_type": "code",
   "execution_count": 169,
   "id": "86ecd9f3",
   "metadata": {},
   "outputs": [
    {
     "data": {
      "text/html": [
       "<div>\n",
       "<style scoped>\n",
       "    .dataframe tbody tr th:only-of-type {\n",
       "        vertical-align: middle;\n",
       "    }\n",
       "\n",
       "    .dataframe tbody tr th {\n",
       "        vertical-align: top;\n",
       "    }\n",
       "\n",
       "    .dataframe thead th {\n",
       "        text-align: right;\n",
       "    }\n",
       "</style>\n",
       "<table border=\"1\" class=\"dataframe\">\n",
       "  <thead>\n",
       "    <tr style=\"text-align: right;\">\n",
       "      <th></th>\n",
       "      <th>False_col</th>\n",
       "    </tr>\n",
       "  </thead>\n",
       "  <tbody>\n",
       "    <tr>\n",
       "      <th>0</th>\n",
       "      <td>0</td>\n",
       "    </tr>\n",
       "    <tr>\n",
       "      <th>1</th>\n",
       "      <td>0</td>\n",
       "    </tr>\n",
       "    <tr>\n",
       "      <th>2</th>\n",
       "      <td>0</td>\n",
       "    </tr>\n",
       "    <tr>\n",
       "      <th>3</th>\n",
       "      <td>0</td>\n",
       "    </tr>\n",
       "    <tr>\n",
       "      <th>4</th>\n",
       "      <td>0</td>\n",
       "    </tr>\n",
       "    <tr>\n",
       "      <th>5</th>\n",
       "      <td>0</td>\n",
       "    </tr>\n",
       "    <tr>\n",
       "      <th>6</th>\n",
       "      <td>0</td>\n",
       "    </tr>\n",
       "    <tr>\n",
       "      <th>7</th>\n",
       "      <td>0</td>\n",
       "    </tr>\n",
       "    <tr>\n",
       "      <th>8</th>\n",
       "      <td>0</td>\n",
       "    </tr>\n",
       "    <tr>\n",
       "      <th>9</th>\n",
       "      <td>0</td>\n",
       "    </tr>\n",
       "    <tr>\n",
       "      <th>10</th>\n",
       "      <td>0</td>\n",
       "    </tr>\n",
       "    <tr>\n",
       "      <th>11</th>\n",
       "      <td>0</td>\n",
       "    </tr>\n",
       "    <tr>\n",
       "      <th>12</th>\n",
       "      <td>0</td>\n",
       "    </tr>\n",
       "    <tr>\n",
       "      <th>13</th>\n",
       "      <td>0</td>\n",
       "    </tr>\n",
       "    <tr>\n",
       "      <th>14</th>\n",
       "      <td>0</td>\n",
       "    </tr>\n",
       "  </tbody>\n",
       "</table>\n",
       "</div>"
      ],
      "text/plain": [
       "    False_col\n",
       "0           0\n",
       "1           0\n",
       "2           0\n",
       "3           0\n",
       "4           0\n",
       "5           0\n",
       "6           0\n",
       "7           0\n",
       "8           0\n",
       "9           0\n",
       "10          0\n",
       "11          0\n",
       "12          0\n",
       "13          0\n",
       "14          0"
      ]
     },
     "execution_count": 169,
     "metadata": {},
     "output_type": "execute_result"
    }
   ],
   "source": [
    "import pandas as pd\n",
    "df = pd.DataFrame({\"False_col\":False_col})\n",
    "df"
   ]
  },
  {
   "cell_type": "code",
   "execution_count": 170,
   "id": "401cd7e3",
   "metadata": {},
   "outputs": [
    {
     "data": {
      "text/plain": [
       "array([[0, 0, 0, 0],\n",
       "       [0, 0, 0, 0],\n",
       "       [0, 0, 0, 0]])"
      ]
     },
     "execution_count": 170,
     "metadata": {},
     "output_type": "execute_result"
    }
   ],
   "source": [
    "arr = np.zeros((3,4),int)\n",
    "arr"
   ]
  },
  {
   "cell_type": "code",
   "execution_count": 171,
   "id": "14845f58",
   "metadata": {},
   "outputs": [
    {
     "data": {
      "text/html": [
       "<div>\n",
       "<style scoped>\n",
       "    .dataframe tbody tr th:only-of-type {\n",
       "        vertical-align: middle;\n",
       "    }\n",
       "\n",
       "    .dataframe tbody tr th {\n",
       "        vertical-align: top;\n",
       "    }\n",
       "\n",
       "    .dataframe thead th {\n",
       "        text-align: right;\n",
       "    }\n",
       "</style>\n",
       "<table border=\"1\" class=\"dataframe\">\n",
       "  <thead>\n",
       "    <tr style=\"text-align: right;\">\n",
       "      <th></th>\n",
       "      <th>0</th>\n",
       "      <th>1</th>\n",
       "      <th>2</th>\n",
       "      <th>3</th>\n",
       "    </tr>\n",
       "  </thead>\n",
       "  <tbody>\n",
       "    <tr>\n",
       "      <th>0</th>\n",
       "      <td>0</td>\n",
       "      <td>0</td>\n",
       "      <td>0</td>\n",
       "      <td>0</td>\n",
       "    </tr>\n",
       "    <tr>\n",
       "      <th>1</th>\n",
       "      <td>0</td>\n",
       "      <td>0</td>\n",
       "      <td>0</td>\n",
       "      <td>0</td>\n",
       "    </tr>\n",
       "    <tr>\n",
       "      <th>2</th>\n",
       "      <td>0</td>\n",
       "      <td>0</td>\n",
       "      <td>0</td>\n",
       "      <td>0</td>\n",
       "    </tr>\n",
       "  </tbody>\n",
       "</table>\n",
       "</div>"
      ],
      "text/plain": [
       "   0  1  2  3\n",
       "0  0  0  0  0\n",
       "1  0  0  0  0\n",
       "2  0  0  0  0"
      ]
     },
     "execution_count": 171,
     "metadata": {},
     "output_type": "execute_result"
    }
   ],
   "source": [
    "pd.DataFrame(arr)"
   ]
  },
  {
   "cell_type": "markdown",
   "id": "11a29998",
   "metadata": {},
   "source": [
    "##  5. ones()\n",
    "- np.ones(shape, dtype=float)\n",
    "- Return an array of one values"
   ]
  },
  {
   "cell_type": "code",
   "execution_count": 173,
   "id": "dfba5cb7",
   "metadata": {},
   "outputs": [
    {
     "data": {
      "text/plain": [
       "array([1., 1., 1., 1., 1.])"
      ]
     },
     "execution_count": 173,
     "metadata": {},
     "output_type": "execute_result"
    }
   ],
   "source": [
    "arr = np.ones(5)\n",
    "arr"
   ]
  },
  {
   "cell_type": "code",
   "execution_count": 174,
   "id": "e9b97e40",
   "metadata": {},
   "outputs": [
    {
     "data": {
      "text/plain": [
       "array([1, 1, 1, 1, 1])"
      ]
     },
     "execution_count": 174,
     "metadata": {},
     "output_type": "execute_result"
    }
   ],
   "source": [
    "arr = np.ones(5,int)\n",
    "arr"
   ]
  },
  {
   "cell_type": "code",
   "execution_count": 175,
   "id": "fdc3b91e",
   "metadata": {},
   "outputs": [
    {
     "data": {
      "text/html": [
       "<div>\n",
       "<style scoped>\n",
       "    .dataframe tbody tr th:only-of-type {\n",
       "        vertical-align: middle;\n",
       "    }\n",
       "\n",
       "    .dataframe tbody tr th {\n",
       "        vertical-align: top;\n",
       "    }\n",
       "\n",
       "    .dataframe thead th {\n",
       "        text-align: right;\n",
       "    }\n",
       "</style>\n",
       "<table border=\"1\" class=\"dataframe\">\n",
       "  <thead>\n",
       "    <tr style=\"text-align: right;\">\n",
       "      <th></th>\n",
       "      <th>0</th>\n",
       "      <th>1</th>\n",
       "      <th>2</th>\n",
       "      <th>3</th>\n",
       "      <th>4</th>\n",
       "    </tr>\n",
       "  </thead>\n",
       "  <tbody>\n",
       "    <tr>\n",
       "      <th>0</th>\n",
       "      <td>1</td>\n",
       "      <td>1</td>\n",
       "      <td>1</td>\n",
       "      <td>1</td>\n",
       "      <td>1</td>\n",
       "    </tr>\n",
       "    <tr>\n",
       "      <th>1</th>\n",
       "      <td>1</td>\n",
       "      <td>1</td>\n",
       "      <td>1</td>\n",
       "      <td>1</td>\n",
       "      <td>1</td>\n",
       "    </tr>\n",
       "    <tr>\n",
       "      <th>2</th>\n",
       "      <td>1</td>\n",
       "      <td>1</td>\n",
       "      <td>1</td>\n",
       "      <td>1</td>\n",
       "      <td>1</td>\n",
       "    </tr>\n",
       "    <tr>\n",
       "      <th>3</th>\n",
       "      <td>1</td>\n",
       "      <td>1</td>\n",
       "      <td>1</td>\n",
       "      <td>1</td>\n",
       "      <td>1</td>\n",
       "    </tr>\n",
       "    <tr>\n",
       "      <th>4</th>\n",
       "      <td>1</td>\n",
       "      <td>1</td>\n",
       "      <td>1</td>\n",
       "      <td>1</td>\n",
       "      <td>1</td>\n",
       "    </tr>\n",
       "  </tbody>\n",
       "</table>\n",
       "</div>"
      ],
      "text/plain": [
       "   0  1  2  3  4\n",
       "0  1  1  1  1  1\n",
       "1  1  1  1  1  1\n",
       "2  1  1  1  1  1\n",
       "3  1  1  1  1  1\n",
       "4  1  1  1  1  1"
      ]
     },
     "execution_count": 175,
     "metadata": {},
     "output_type": "execute_result"
    }
   ],
   "source": [
    "pd.DataFrame(np.ones((5,5),int))"
   ]
  },
  {
   "cell_type": "code",
   "execution_count": 176,
   "id": "49c2425b",
   "metadata": {},
   "outputs": [
    {
     "data": {
      "text/html": [
       "<div>\n",
       "<style scoped>\n",
       "    .dataframe tbody tr th:only-of-type {\n",
       "        vertical-align: middle;\n",
       "    }\n",
       "\n",
       "    .dataframe tbody tr th {\n",
       "        vertical-align: top;\n",
       "    }\n",
       "\n",
       "    .dataframe thead th {\n",
       "        text-align: right;\n",
       "    }\n",
       "</style>\n",
       "<table border=\"1\" class=\"dataframe\">\n",
       "  <thead>\n",
       "    <tr style=\"text-align: right;\">\n",
       "      <th></th>\n",
       "      <th>Target_Column</th>\n",
       "    </tr>\n",
       "  </thead>\n",
       "  <tbody>\n",
       "    <tr>\n",
       "      <th>0</th>\n",
       "      <td>0</td>\n",
       "    </tr>\n",
       "    <tr>\n",
       "      <th>1</th>\n",
       "      <td>0</td>\n",
       "    </tr>\n",
       "    <tr>\n",
       "      <th>2</th>\n",
       "      <td>0</td>\n",
       "    </tr>\n",
       "    <tr>\n",
       "      <th>3</th>\n",
       "      <td>0</td>\n",
       "    </tr>\n",
       "    <tr>\n",
       "      <th>4</th>\n",
       "      <td>0</td>\n",
       "    </tr>\n",
       "    <tr>\n",
       "      <th>...</th>\n",
       "      <td>...</td>\n",
       "    </tr>\n",
       "    <tr>\n",
       "      <th>995</th>\n",
       "      <td>1</td>\n",
       "    </tr>\n",
       "    <tr>\n",
       "      <th>996</th>\n",
       "      <td>1</td>\n",
       "    </tr>\n",
       "    <tr>\n",
       "      <th>997</th>\n",
       "      <td>1</td>\n",
       "    </tr>\n",
       "    <tr>\n",
       "      <th>998</th>\n",
       "      <td>1</td>\n",
       "    </tr>\n",
       "    <tr>\n",
       "      <th>999</th>\n",
       "      <td>1</td>\n",
       "    </tr>\n",
       "  </tbody>\n",
       "</table>\n",
       "<p>1000 rows × 1 columns</p>\n",
       "</div>"
      ],
      "text/plain": [
       "     Target_Column\n",
       "0                0\n",
       "1                0\n",
       "2                0\n",
       "3                0\n",
       "4                0\n",
       "..             ...\n",
       "995              1\n",
       "996              1\n",
       "997              1\n",
       "998              1\n",
       "999              1\n",
       "\n",
       "[1000 rows x 1 columns]"
      ]
     },
     "execution_count": 176,
     "metadata": {},
     "output_type": "execute_result"
    }
   ],
   "source": [
    "arr0 = np.zeros(500,int)\n",
    "arr1 = np.ones(500,int)\n",
    "\n",
    "new_arr = np.append(arr0,arr1)\n",
    "df = pd.DataFrame({\"Target_Column\":new_arr})\n",
    "df"
   ]
  },
  {
   "cell_type": "code",
   "execution_count": null,
   "id": "7c41cf22",
   "metadata": {},
   "outputs": [],
   "source": []
  }
 ],
 "metadata": {
  "kernelspec": {
   "display_name": "Python 3",
   "language": "python",
   "name": "python3"
  },
  "language_info": {
   "codemirror_mode": {
    "name": "ipython",
    "version": 3
   },
   "file_extension": ".py",
   "mimetype": "text/x-python",
   "name": "python",
   "nbconvert_exporter": "python",
   "pygments_lexer": "ipython3",
   "version": "3.8.8"
  }
 },
 "nbformat": 4,
 "nbformat_minor": 5
}
