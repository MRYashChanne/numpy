{
 "cells": [
  {
   "cell_type": "code",
   "execution_count": 1,
   "id": "d5d17a78",
   "metadata": {},
   "outputs": [],
   "source": [
    "import numpy as np\n",
    "import pandas as pd"
   ]
  },
  {
   "cell_type": "markdown",
   "id": "c1701f93",
   "metadata": {},
   "source": [
    "# 1. reshape"
   ]
  },
  {
   "cell_type": "code",
   "execution_count": 4,
   "id": "0c80d3de",
   "metadata": {},
   "outputs": [
    {
     "data": {
      "text/plain": [
       "array([1, 2, 3, 4, 5, 6])"
      ]
     },
     "execution_count": 4,
     "metadata": {},
     "output_type": "execute_result"
    }
   ],
   "source": [
    "arr = np.array([1,2,3,4,5,6])\n",
    "arr"
   ]
  },
  {
   "cell_type": "code",
   "execution_count": 5,
   "id": "a1f454ba",
   "metadata": {},
   "outputs": [
    {
     "data": {
      "text/plain": [
       "array([[1, 2],\n",
       "       [3, 4],\n",
       "       [5, 6]])"
      ]
     },
     "execution_count": 5,
     "metadata": {},
     "output_type": "execute_result"
    }
   ],
   "source": [
    "arr.reshape(3,2)"
   ]
  },
  {
   "cell_type": "code",
   "execution_count": 6,
   "id": "ca5326e7",
   "metadata": {},
   "outputs": [
    {
     "data": {
      "text/plain": [
       "array([[1, 2, 3],\n",
       "       [4, 5, 6]])"
      ]
     },
     "execution_count": 6,
     "metadata": {},
     "output_type": "execute_result"
    }
   ],
   "source": [
    "arr.reshape(2,3)"
   ]
  },
  {
   "cell_type": "markdown",
   "id": "b53f2012",
   "metadata": {},
   "source": [
    "# 2. np.nditer()"
   ]
  },
  {
   "cell_type": "code",
   "execution_count": 8,
   "id": "37f68087",
   "metadata": {},
   "outputs": [
    {
     "name": "stdout",
     "output_type": "stream",
     "text": [
      "1\n",
      "2\n",
      "3\n",
      "4\n",
      "5\n",
      "6\n"
     ]
    }
   ],
   "source": [
    "arr = np.array([1,2,3,4,5,6])\n",
    "for val in np.nditer(arr.reshape(3,2)):\n",
    "    print(val)"
   ]
  },
  {
   "cell_type": "markdown",
   "id": "1f966a8e",
   "metadata": {},
   "source": [
    "# 3. np.ndenumerate()"
   ]
  },
  {
   "cell_type": "code",
   "execution_count": 10,
   "id": "e6fb3206",
   "metadata": {},
   "outputs": [
    {
     "name": "stdout",
     "output_type": "stream",
     "text": [
      "(0, 0) 1\n",
      "(0, 1) 2\n",
      "(1, 0) 3\n",
      "(1, 1) 4\n",
      "(2, 0) 5\n",
      "(2, 1) 6\n"
     ]
    }
   ],
   "source": [
    "arr = np.array([1,2,3,4,5,6])\n",
    "for ind,val in np.ndenumerate(arr.reshape(3,2)):\n",
    "    print(ind,val)"
   ]
  },
  {
   "cell_type": "markdown",
   "id": "da21b1b4",
   "metadata": {},
   "source": [
    "# 4. zeros()"
   ]
  },
  {
   "cell_type": "code",
   "execution_count": 11,
   "id": "b13a465a",
   "metadata": {},
   "outputs": [
    {
     "data": {
      "text/plain": [
       "array([0., 0., 0., 0., 0.])"
      ]
     },
     "execution_count": 11,
     "metadata": {},
     "output_type": "execute_result"
    }
   ],
   "source": [
    "arr = np.zeros(5)\n",
    "arr"
   ]
  },
  {
   "cell_type": "code",
   "execution_count": 12,
   "id": "265a674e",
   "metadata": {},
   "outputs": [
    {
     "data": {
      "text/plain": [
       "array([0, 0, 0, 0, 0])"
      ]
     },
     "execution_count": 12,
     "metadata": {},
     "output_type": "execute_result"
    }
   ],
   "source": [
    "arr = np.zeros(5,int)\n",
    "arr"
   ]
  },
  {
   "cell_type": "code",
   "execution_count": 13,
   "id": "5e19d1fd",
   "metadata": {},
   "outputs": [
    {
     "data": {
      "text/plain": [
       "array([[0, 0, 0, 0],\n",
       "       [0, 0, 0, 0],\n",
       "       [0, 0, 0, 0]])"
      ]
     },
     "execution_count": 13,
     "metadata": {},
     "output_type": "execute_result"
    }
   ],
   "source": [
    "arr = np.zeros((3,4),int)\n",
    "arr"
   ]
  },
  {
   "cell_type": "markdown",
   "id": "8b103589",
   "metadata": {},
   "source": [
    "# 5. ones()"
   ]
  },
  {
   "cell_type": "code",
   "execution_count": 14,
   "id": "534d29ac",
   "metadata": {},
   "outputs": [
    {
     "data": {
      "text/plain": [
       "array([1., 1., 1., 1., 1.])"
      ]
     },
     "execution_count": 14,
     "metadata": {},
     "output_type": "execute_result"
    }
   ],
   "source": [
    "arr = np.ones(5)\n",
    "arr"
   ]
  },
  {
   "cell_type": "code",
   "execution_count": 15,
   "id": "c12a8f3d",
   "metadata": {},
   "outputs": [
    {
     "data": {
      "text/plain": [
       "array([1, 1, 1, 1, 1])"
      ]
     },
     "execution_count": 15,
     "metadata": {},
     "output_type": "execute_result"
    }
   ],
   "source": [
    "arr = np.ones(5,int)\n",
    "arr"
   ]
  },
  {
   "cell_type": "code",
   "execution_count": 16,
   "id": "af53c6e7",
   "metadata": {},
   "outputs": [
    {
     "data": {
      "text/plain": [
       "array([[1, 1, 1, 1],\n",
       "       [1, 1, 1, 1],\n",
       "       [1, 1, 1, 1]])"
      ]
     },
     "execution_count": 16,
     "metadata": {},
     "output_type": "execute_result"
    }
   ],
   "source": [
    "arr = np.ones((3,4),int)\n",
    "arr"
   ]
  },
  {
   "cell_type": "markdown",
   "id": "31dd984f",
   "metadata": {},
   "source": [
    "# 6. arange()"
   ]
  },
  {
   "cell_type": "code",
   "execution_count": 17,
   "id": "9b6c1c19",
   "metadata": {},
   "outputs": [
    {
     "data": {
      "text/plain": [
       "range(1, 10)"
      ]
     },
     "execution_count": 17,
     "metadata": {},
     "output_type": "execute_result"
    }
   ],
   "source": [
    "range(1,10)"
   ]
  },
  {
   "cell_type": "code",
   "execution_count": 18,
   "id": "dd3b8844",
   "metadata": {},
   "outputs": [
    {
     "data": {
      "text/plain": [
       "[1, 2, 3, 4, 5, 6, 7, 8, 9]"
      ]
     },
     "execution_count": 18,
     "metadata": {},
     "output_type": "execute_result"
    }
   ],
   "source": [
    "list(range(1,10))"
   ]
  },
  {
   "cell_type": "code",
   "execution_count": 19,
   "id": "45db2b95",
   "metadata": {},
   "outputs": [
    {
     "data": {
      "text/plain": [
       "array([1, 2, 3, 4, 5, 6, 7, 8, 9])"
      ]
     },
     "execution_count": 19,
     "metadata": {},
     "output_type": "execute_result"
    }
   ],
   "source": [
    "arr = np.arange(1,10)\n",
    "arr"
   ]
  },
  {
   "cell_type": "code",
   "execution_count": 20,
   "id": "b64531ba",
   "metadata": {},
   "outputs": [
    {
     "data": {
      "text/plain": [
       "array([1, 3, 5, 7, 9])"
      ]
     },
     "execution_count": 20,
     "metadata": {},
     "output_type": "execute_result"
    }
   ],
   "source": [
    "arr = np.arange(1,10,2)\n",
    "arr"
   ]
  },
  {
   "cell_type": "code",
   "execution_count": 21,
   "id": "d202a625",
   "metadata": {},
   "outputs": [
    {
     "data": {
      "text/plain": [
       "array([ 0,  3,  6,  9, 12, 15, 18])"
      ]
     },
     "execution_count": 21,
     "metadata": {},
     "output_type": "execute_result"
    }
   ],
   "source": [
    "arr = np.arange(0,20,3)\n",
    "arr"
   ]
  },
  {
   "cell_type": "code",
   "execution_count": 22,
   "id": "bf1b1ad6",
   "metadata": {},
   "outputs": [
    {
     "data": {
      "text/plain": [
       "array([10,  9,  8,  7,  6,  5,  4,  3,  2,  1])"
      ]
     },
     "execution_count": 22,
     "metadata": {},
     "output_type": "execute_result"
    }
   ],
   "source": [
    "arr = np.arange(10,0,-1)\n",
    "arr"
   ]
  },
  {
   "cell_type": "code",
   "execution_count": 23,
   "id": "8476eab3",
   "metadata": {},
   "outputs": [
    {
     "data": {
      "text/plain": [
       "array([-5, -4, -3, -2, -1,  0,  1,  2,  3,  4,  5])"
      ]
     },
     "execution_count": 23,
     "metadata": {},
     "output_type": "execute_result"
    }
   ],
   "source": [
    "arr = np.arange(-5,6)\n",
    "arr"
   ]
  },
  {
   "cell_type": "markdown",
   "id": "e3ed5acc",
   "metadata": {},
   "source": [
    "# 7. linspace()"
   ]
  },
  {
   "cell_type": "raw",
   "id": "b4da2810",
   "metadata": {},
   "source": [
    "- Returns evenly spaces valus\n",
    "- syntax = np.linspace(start, end, num = 50)"
   ]
  },
  {
   "cell_type": "code",
   "execution_count": 24,
   "id": "e3e20e87",
   "metadata": {},
   "outputs": [
    {
     "data": {
      "text/plain": [
       "array([ 1.,  2.,  3.,  4.,  5.,  6.,  7.,  8.,  9., 10., 11., 12., 13.,\n",
       "       14., 15., 16., 17., 18., 19., 20., 21., 22., 23., 24., 25., 26.,\n",
       "       27., 28., 29., 30., 31., 32., 33., 34., 35., 36., 37., 38., 39.,\n",
       "       40., 41., 42., 43., 44., 45., 46., 47., 48., 49., 50.])"
      ]
     },
     "execution_count": 24,
     "metadata": {},
     "output_type": "execute_result"
    }
   ],
   "source": [
    "arr = np.linspace(1,50)\n",
    "arr"
   ]
  },
  {
   "cell_type": "code",
   "execution_count": 25,
   "id": "05c12690",
   "metadata": {},
   "outputs": [
    {
     "data": {
      "text/plain": [
       "array([ 1.        ,  6.44444444, 11.88888889, 17.33333333, 22.77777778,\n",
       "       28.22222222, 33.66666667, 39.11111111, 44.55555556, 50.        ])"
      ]
     },
     "execution_count": 25,
     "metadata": {},
     "output_type": "execute_result"
    }
   ],
   "source": [
    "arr = np.linspace(1,50,10)\n",
    "arr"
   ]
  },
  {
   "cell_type": "code",
   "execution_count": 28,
   "id": "a52f567d",
   "metadata": {},
   "outputs": [
    {
     "data": {
      "text/plain": [
       "array([  1.,  12.,  23.,  34.,  45.,  56.,  67.,  78.,  89., 100.])"
      ]
     },
     "execution_count": 28,
     "metadata": {},
     "output_type": "execute_result"
    }
   ],
   "source": [
    "arr = np.linspace(1,100,10)\n",
    "arr"
   ]
  },
  {
   "cell_type": "code",
   "execution_count": 32,
   "id": "360ad044",
   "metadata": {},
   "outputs": [
    {
     "data": {
      "text/plain": [
       "5.444444439999998"
      ]
     },
     "execution_count": 32,
     "metadata": {},
     "output_type": "execute_result"
    }
   ],
   "source": [
    "17.33333333 - 11.88888889 "
   ]
  },
  {
   "cell_type": "code",
   "execution_count": 33,
   "id": "5ab704be",
   "metadata": {},
   "outputs": [
    {
     "data": {
      "text/plain": [
       "(array([  1.,  12.,  23.,  34.,  45.,  56.,  67.,  78.,  89., 100.]), 11.0)"
      ]
     },
     "execution_count": 33,
     "metadata": {},
     "output_type": "execute_result"
    }
   ],
   "source": [
    "arr = np.linspace(1,100,10,retstep = True)\n",
    "arr"
   ]
  },
  {
   "cell_type": "code",
   "execution_count": 34,
   "id": "394e8825",
   "metadata": {},
   "outputs": [
    {
     "data": {
      "text/plain": [
       "(array([ 1.        ,  6.44444444, 11.88888889, 17.33333333, 22.77777778,\n",
       "        28.22222222, 33.66666667, 39.11111111, 44.55555556, 50.        ]),\n",
       " 5.444444444444445)"
      ]
     },
     "execution_count": 34,
     "metadata": {},
     "output_type": "execute_result"
    }
   ],
   "source": [
    "arr = np.linspace(1,50,10,retstep=True)\n",
    "arr"
   ]
  },
  {
   "cell_type": "code",
   "execution_count": 35,
   "id": "3f4746a2",
   "metadata": {},
   "outputs": [
    {
     "data": {
      "text/plain": [
       "(array([ 1.,  2.,  3.,  4.,  5.,  6.,  7.,  8.,  9., 10., 11., 12., 13.,\n",
       "        14., 15., 16., 17., 18., 19., 20., 21., 22., 23., 24., 25., 26.,\n",
       "        27., 28., 29., 30., 31., 32., 33., 34., 35., 36., 37., 38., 39.,\n",
       "        40., 41., 42., 43., 44., 45., 46., 47., 48., 49., 50.]),\n",
       " 1.0)"
      ]
     },
     "execution_count": 35,
     "metadata": {},
     "output_type": "execute_result"
    }
   ],
   "source": [
    "arr = np.linspace(1,50,retstep=True)\n",
    "arr"
   ]
  },
  {
   "cell_type": "markdown",
   "id": "68936b44",
   "metadata": {},
   "source": [
    "# eye()\n",
    "- It will return an array with ones on diagonal and zeros elsewhere\n",
    "- np.eye(shape,dtype)"
   ]
  },
  {
   "cell_type": "code",
   "execution_count": 36,
   "id": "d9f2d67a",
   "metadata": {},
   "outputs": [
    {
     "data": {
      "text/plain": [
       "array([[1., 0., 0., 0., 0.],\n",
       "       [0., 1., 0., 0., 0.],\n",
       "       [0., 0., 1., 0., 0.],\n",
       "       [0., 0., 0., 1., 0.],\n",
       "       [0., 0., 0., 0., 1.]])"
      ]
     },
     "execution_count": 36,
     "metadata": {},
     "output_type": "execute_result"
    }
   ],
   "source": [
    "arr = np.eye(5)\n",
    "arr"
   ]
  },
  {
   "cell_type": "code",
   "execution_count": 38,
   "id": "8cba6f65",
   "metadata": {},
   "outputs": [
    {
     "data": {
      "text/plain": [
       "array([[1, 0, 0, 0, 0],\n",
       "       [0, 1, 0, 0, 0],\n",
       "       [0, 0, 1, 0, 0],\n",
       "       [0, 0, 0, 1, 0],\n",
       "       [0, 0, 0, 0, 1]])"
      ]
     },
     "execution_count": 38,
     "metadata": {},
     "output_type": "execute_result"
    }
   ],
   "source": [
    "arr = np.eye(5,dtype=int)\n",
    "arr"
   ]
  },
  {
   "cell_type": "code",
   "execution_count": 39,
   "id": "7c4944cf",
   "metadata": {},
   "outputs": [
    {
     "data": {
      "text/plain": [
       "array([[1, 0, 0, 0, 0, 0],\n",
       "       [0, 1, 0, 0, 0, 0],\n",
       "       [0, 0, 1, 0, 0, 0],\n",
       "       [0, 0, 0, 1, 0, 0],\n",
       "       [0, 0, 0, 0, 1, 0]])"
      ]
     },
     "execution_count": 39,
     "metadata": {},
     "output_type": "execute_result"
    }
   ],
   "source": [
    "arr = np.eye(5,6,dtype=int)\n",
    "arr"
   ]
  },
  {
   "cell_type": "code",
   "execution_count": 40,
   "id": "2394526f",
   "metadata": {},
   "outputs": [
    {
     "data": {
      "text/plain": [
       "array([[1, 0, 0, 0, 0],\n",
       "       [0, 1, 0, 0, 0],\n",
       "       [0, 0, 1, 0, 0],\n",
       "       [0, 0, 0, 1, 0],\n",
       "       [0, 0, 0, 0, 1],\n",
       "       [0, 0, 0, 0, 0],\n",
       "       [0, 0, 0, 0, 0],\n",
       "       [0, 0, 0, 0, 0],\n",
       "       [0, 0, 0, 0, 0],\n",
       "       [0, 0, 0, 0, 0]])"
      ]
     },
     "execution_count": 40,
     "metadata": {},
     "output_type": "execute_result"
    }
   ],
   "source": [
    "arr = np.eye(10,5,dtype=int)\n",
    "arr"
   ]
  },
  {
   "cell_type": "markdown",
   "id": "dd7d2da2",
   "metadata": {},
   "source": [
    "# 9. identity()\n",
    "- It will return identity matrix\n",
    "- num of rows == num of columns\n",
    "- np.identity(value)"
   ]
  },
  {
   "cell_type": "code",
   "execution_count": 41,
   "id": "fcbfa00c",
   "metadata": {},
   "outputs": [
    {
     "data": {
      "text/plain": [
       "array([[1., 0., 0., 0., 0.],\n",
       "       [0., 1., 0., 0., 0.],\n",
       "       [0., 0., 1., 0., 0.],\n",
       "       [0., 0., 0., 1., 0.],\n",
       "       [0., 0., 0., 0., 1.]])"
      ]
     },
     "execution_count": 41,
     "metadata": {},
     "output_type": "execute_result"
    }
   ],
   "source": [
    "arr = np.identity(5)\n",
    "arr"
   ]
  },
  {
   "cell_type": "code",
   "execution_count": 42,
   "id": "74650485",
   "metadata": {},
   "outputs": [
    {
     "data": {
      "text/plain": [
       "array([[1, 0, 0, 0, 0],\n",
       "       [0, 1, 0, 0, 0],\n",
       "       [0, 0, 1, 0, 0],\n",
       "       [0, 0, 0, 1, 0],\n",
       "       [0, 0, 0, 0, 1]])"
      ]
     },
     "execution_count": 42,
     "metadata": {},
     "output_type": "execute_result"
    }
   ],
   "source": [
    "arr = np.identity(5,dtype=int)\n",
    "arr"
   ]
  },
  {
   "cell_type": "code",
   "execution_count": 43,
   "id": "ff03b8eb",
   "metadata": {},
   "outputs": [
    {
     "data": {
      "text/plain": [
       "array([[1]])"
      ]
     },
     "execution_count": 43,
     "metadata": {},
     "output_type": "execute_result"
    }
   ],
   "source": [
    "arr = np.identity(1,dtype=int)\n",
    "arr"
   ]
  },
  {
   "cell_type": "code",
   "execution_count": 44,
   "id": "58ecb421",
   "metadata": {},
   "outputs": [
    {
     "data": {
      "text/plain": [
       "array([[1, 0, 0],\n",
       "       [0, 1, 0],\n",
       "       [0, 0, 1]])"
      ]
     },
     "execution_count": 44,
     "metadata": {},
     "output_type": "execute_result"
    }
   ],
   "source": [
    "arr = np.identity(3,dtype=int)\n",
    "arr"
   ]
  },
  {
   "cell_type": "code",
   "execution_count": 47,
   "id": "469026bc",
   "metadata": {},
   "outputs": [
    {
     "ename": "TypeError",
     "evalue": "identity() got multiple values for argument 'dtype'",
     "output_type": "error",
     "traceback": [
      "\u001b[1;31m---------------------------------------------------------------------------\u001b[0m",
      "\u001b[1;31mTypeError\u001b[0m                                 Traceback (most recent call last)",
      "\u001b[1;32m<ipython-input-47-4cb294989369>\u001b[0m in \u001b[0;36m<module>\u001b[1;34m\u001b[0m\n\u001b[1;32m----> 1\u001b[1;33m \u001b[0marr\u001b[0m \u001b[1;33m=\u001b[0m \u001b[0mnp\u001b[0m\u001b[1;33m.\u001b[0m\u001b[0midentity\u001b[0m\u001b[1;33m(\u001b[0m\u001b[1;36m1\u001b[0m\u001b[1;33m,\u001b[0m\u001b[1;36m5\u001b[0m\u001b[1;33m,\u001b[0m\u001b[0mdtype\u001b[0m\u001b[1;33m=\u001b[0m\u001b[0mint\u001b[0m\u001b[1;33m)\u001b[0m\u001b[1;33m\u001b[0m\u001b[1;33m\u001b[0m\u001b[0m\n\u001b[0m\u001b[0;32m      2\u001b[0m \u001b[0marr\u001b[0m\u001b[1;33m\u001b[0m\u001b[1;33m\u001b[0m\u001b[0m\n",
      "\u001b[1;31mTypeError\u001b[0m: identity() got multiple values for argument 'dtype'"
     ]
    }
   ],
   "source": [
    "arr = np.identity(1,5,dtype=int)\n",
    "arr"
   ]
  },
  {
   "cell_type": "markdown",
   "id": "12430a95",
   "metadata": {},
   "source": [
    "# 10. random()\n",
    "- Used to generate random numbers\n",
    "- 1. rand()\n",
    "- 2. randint()\n",
    "- 3. randn()\n",
    "- 4. randf()"
   ]
  },
  {
   "cell_type": "markdown",
   "id": "fec1caef",
   "metadata": {},
   "source": [
    "# 10.1 rand()\n",
    "- It will return a values between 0 and 1"
   ]
  },
  {
   "cell_type": "code",
   "execution_count": 48,
   "id": "d6770dfd",
   "metadata": {},
   "outputs": [
    {
     "data": {
      "text/plain": [
       "array([0.38028792, 0.9460125 , 0.18183567, 0.58137393, 0.33389186])"
      ]
     },
     "execution_count": 48,
     "metadata": {},
     "output_type": "execute_result"
    }
   ],
   "source": [
    "arr = np.random.rand(5)\n",
    "arr"
   ]
  },
  {
   "cell_type": "code",
   "execution_count": 50,
   "id": "5e1b2507",
   "metadata": {},
   "outputs": [
    {
     "data": {
      "text/plain": [
       "array([[0.06862045, 0.80392536, 0.87989318],\n",
       "       [0.08749755, 0.63313919, 0.74315288],\n",
       "       [0.0848745 , 0.66587941, 0.59680432]])"
      ]
     },
     "execution_count": 50,
     "metadata": {},
     "output_type": "execute_result"
    }
   ],
   "source": [
    "arr = np.random.rand(3,3)\n",
    "arr"
   ]
  },
  {
   "cell_type": "code",
   "execution_count": 59,
   "id": "42e87bf1",
   "metadata": {},
   "outputs": [
    {
     "data": {
      "text/html": [
       "<div>\n",
       "<style scoped>\n",
       "    .dataframe tbody tr th:only-of-type {\n",
       "        vertical-align: middle;\n",
       "    }\n",
       "\n",
       "    .dataframe tbody tr th {\n",
       "        vertical-align: top;\n",
       "    }\n",
       "\n",
       "    .dataframe thead th {\n",
       "        text-align: right;\n",
       "    }\n",
       "</style>\n",
       "<table border=\"1\" class=\"dataframe\">\n",
       "  <thead>\n",
       "    <tr style=\"text-align: right;\">\n",
       "      <th></th>\n",
       "      <th>0</th>\n",
       "      <th>1</th>\n",
       "      <th>2</th>\n",
       "    </tr>\n",
       "  </thead>\n",
       "  <tbody>\n",
       "    <tr>\n",
       "      <th>0</th>\n",
       "      <td>0.516414</td>\n",
       "      <td>0.406453</td>\n",
       "      <td>0.484247</td>\n",
       "    </tr>\n",
       "    <tr>\n",
       "      <th>1</th>\n",
       "      <td>0.370220</td>\n",
       "      <td>0.088611</td>\n",
       "      <td>0.864314</td>\n",
       "    </tr>\n",
       "    <tr>\n",
       "      <th>2</th>\n",
       "      <td>0.558363</td>\n",
       "      <td>0.721078</td>\n",
       "      <td>0.137676</td>\n",
       "    </tr>\n",
       "  </tbody>\n",
       "</table>\n",
       "</div>"
      ],
      "text/plain": [
       "          0         1         2\n",
       "0  0.516414  0.406453  0.484247\n",
       "1  0.370220  0.088611  0.864314\n",
       "2  0.558363  0.721078  0.137676"
      ]
     },
     "execution_count": 59,
     "metadata": {},
     "output_type": "execute_result"
    }
   ],
   "source": [
    "df = pd.DataFrame(np.random.rand(3,3))\n",
    "df"
   ]
  },
  {
   "cell_type": "markdown",
   "id": "557740a8",
   "metadata": {},
   "source": [
    "# 10.2 randint()"
   ]
  },
  {
   "cell_type": "code",
   "execution_count": 56,
   "id": "b010717d",
   "metadata": {},
   "outputs": [
    {
     "data": {
      "text/plain": [
       "4"
      ]
     },
     "execution_count": 56,
     "metadata": {},
     "output_type": "execute_result"
    }
   ],
   "source": [
    "arr = np.random.randint(1,5)\n",
    "arr"
   ]
  },
  {
   "cell_type": "code",
   "execution_count": 63,
   "id": "fd5cafe7",
   "metadata": {},
   "outputs": [
    {
     "data": {
      "text/plain": [
       "array([48,  7, 23, 37, 26, 40, 43,  5, 43,  7])"
      ]
     },
     "execution_count": 63,
     "metadata": {},
     "output_type": "execute_result"
    }
   ],
   "source": [
    "arr = np.random.randint(1,50,size=10)\n",
    "arr"
   ]
  },
  {
   "cell_type": "code",
   "execution_count": 66,
   "id": "4d1c5e63",
   "metadata": {},
   "outputs": [
    {
     "data": {
      "text/plain": [
       "array([[24,  1, 21,  2, 49, 18, 20, 22,  6, 15],\n",
       "       [45,  2, 25, 40, 23, 25, 19, 36, 24, 24],\n",
       "       [47, 29,  4, 47,  9,  1, 15, 32,  3, 17],\n",
       "       [44, 26,  5, 31, 42,  5,  5, 15, 19, 38],\n",
       "       [19,  4, 18, 23, 20, 21, 15, 38, 17, 40],\n",
       "       [32, 33, 27, 38,  1, 20, 25, 13, 36, 31],\n",
       "       [17, 41, 12, 18,  6, 22, 21,  8, 27, 14],\n",
       "       [43, 24, 34, 24, 16, 39, 14, 46, 14, 26],\n",
       "       [35, 38, 37, 39, 40, 20, 35, 40, 33, 47],\n",
       "       [ 8, 49, 28, 49,  8, 29, 42,  5, 45, 34]])"
      ]
     },
     "execution_count": 66,
     "metadata": {},
     "output_type": "execute_result"
    }
   ],
   "source": [
    "arr = np.random.randint(1,50,size=(10,10))\n",
    "arr"
   ]
  },
  {
   "cell_type": "code",
   "execution_count": 67,
   "id": "fa4f5713",
   "metadata": {},
   "outputs": [
    {
     "data": {
      "text/html": [
       "<div>\n",
       "<style scoped>\n",
       "    .dataframe tbody tr th:only-of-type {\n",
       "        vertical-align: middle;\n",
       "    }\n",
       "\n",
       "    .dataframe tbody tr th {\n",
       "        vertical-align: top;\n",
       "    }\n",
       "\n",
       "    .dataframe thead th {\n",
       "        text-align: right;\n",
       "    }\n",
       "</style>\n",
       "<table border=\"1\" class=\"dataframe\">\n",
       "  <thead>\n",
       "    <tr style=\"text-align: right;\">\n",
       "      <th></th>\n",
       "      <th>0</th>\n",
       "      <th>1</th>\n",
       "      <th>2</th>\n",
       "      <th>3</th>\n",
       "      <th>4</th>\n",
       "      <th>5</th>\n",
       "      <th>6</th>\n",
       "      <th>7</th>\n",
       "      <th>8</th>\n",
       "      <th>9</th>\n",
       "    </tr>\n",
       "  </thead>\n",
       "  <tbody>\n",
       "    <tr>\n",
       "      <th>0</th>\n",
       "      <td>14</td>\n",
       "      <td>5</td>\n",
       "      <td>47</td>\n",
       "      <td>47</td>\n",
       "      <td>29</td>\n",
       "      <td>15</td>\n",
       "      <td>2</td>\n",
       "      <td>11</td>\n",
       "      <td>40</td>\n",
       "      <td>39</td>\n",
       "    </tr>\n",
       "    <tr>\n",
       "      <th>1</th>\n",
       "      <td>20</td>\n",
       "      <td>30</td>\n",
       "      <td>1</td>\n",
       "      <td>39</td>\n",
       "      <td>8</td>\n",
       "      <td>3</td>\n",
       "      <td>42</td>\n",
       "      <td>8</td>\n",
       "      <td>16</td>\n",
       "      <td>41</td>\n",
       "    </tr>\n",
       "    <tr>\n",
       "      <th>2</th>\n",
       "      <td>2</td>\n",
       "      <td>12</td>\n",
       "      <td>17</td>\n",
       "      <td>42</td>\n",
       "      <td>5</td>\n",
       "      <td>17</td>\n",
       "      <td>37</td>\n",
       "      <td>31</td>\n",
       "      <td>37</td>\n",
       "      <td>43</td>\n",
       "    </tr>\n",
       "    <tr>\n",
       "      <th>3</th>\n",
       "      <td>19</td>\n",
       "      <td>44</td>\n",
       "      <td>4</td>\n",
       "      <td>22</td>\n",
       "      <td>25</td>\n",
       "      <td>46</td>\n",
       "      <td>40</td>\n",
       "      <td>42</td>\n",
       "      <td>26</td>\n",
       "      <td>2</td>\n",
       "    </tr>\n",
       "    <tr>\n",
       "      <th>4</th>\n",
       "      <td>40</td>\n",
       "      <td>14</td>\n",
       "      <td>24</td>\n",
       "      <td>3</td>\n",
       "      <td>9</td>\n",
       "      <td>29</td>\n",
       "      <td>49</td>\n",
       "      <td>19</td>\n",
       "      <td>9</td>\n",
       "      <td>47</td>\n",
       "    </tr>\n",
       "    <tr>\n",
       "      <th>5</th>\n",
       "      <td>45</td>\n",
       "      <td>12</td>\n",
       "      <td>33</td>\n",
       "      <td>9</td>\n",
       "      <td>18</td>\n",
       "      <td>39</td>\n",
       "      <td>25</td>\n",
       "      <td>36</td>\n",
       "      <td>19</td>\n",
       "      <td>46</td>\n",
       "    </tr>\n",
       "    <tr>\n",
       "      <th>6</th>\n",
       "      <td>38</td>\n",
       "      <td>10</td>\n",
       "      <td>40</td>\n",
       "      <td>2</td>\n",
       "      <td>2</td>\n",
       "      <td>42</td>\n",
       "      <td>43</td>\n",
       "      <td>30</td>\n",
       "      <td>23</td>\n",
       "      <td>40</td>\n",
       "    </tr>\n",
       "    <tr>\n",
       "      <th>7</th>\n",
       "      <td>27</td>\n",
       "      <td>1</td>\n",
       "      <td>29</td>\n",
       "      <td>48</td>\n",
       "      <td>28</td>\n",
       "      <td>49</td>\n",
       "      <td>30</td>\n",
       "      <td>7</td>\n",
       "      <td>23</td>\n",
       "      <td>23</td>\n",
       "    </tr>\n",
       "    <tr>\n",
       "      <th>8</th>\n",
       "      <td>28</td>\n",
       "      <td>28</td>\n",
       "      <td>15</td>\n",
       "      <td>24</td>\n",
       "      <td>5</td>\n",
       "      <td>9</td>\n",
       "      <td>7</td>\n",
       "      <td>42</td>\n",
       "      <td>37</td>\n",
       "      <td>30</td>\n",
       "    </tr>\n",
       "    <tr>\n",
       "      <th>9</th>\n",
       "      <td>13</td>\n",
       "      <td>12</td>\n",
       "      <td>40</td>\n",
       "      <td>27</td>\n",
       "      <td>41</td>\n",
       "      <td>41</td>\n",
       "      <td>11</td>\n",
       "      <td>3</td>\n",
       "      <td>41</td>\n",
       "      <td>6</td>\n",
       "    </tr>\n",
       "  </tbody>\n",
       "</table>\n",
       "</div>"
      ],
      "text/plain": [
       "    0   1   2   3   4   5   6   7   8   9\n",
       "0  14   5  47  47  29  15   2  11  40  39\n",
       "1  20  30   1  39   8   3  42   8  16  41\n",
       "2   2  12  17  42   5  17  37  31  37  43\n",
       "3  19  44   4  22  25  46  40  42  26   2\n",
       "4  40  14  24   3   9  29  49  19   9  47\n",
       "5  45  12  33   9  18  39  25  36  19  46\n",
       "6  38  10  40   2   2  42  43  30  23  40\n",
       "7  27   1  29  48  28  49  30   7  23  23\n",
       "8  28  28  15  24   5   9   7  42  37  30\n",
       "9  13  12  40  27  41  41  11   3  41   6"
      ]
     },
     "execution_count": 67,
     "metadata": {},
     "output_type": "execute_result"
    }
   ],
   "source": [
    "df = pd.DataFrame(np.random.randint(1,50,size=(10,10)))\n",
    "df"
   ]
  },
  {
   "cell_type": "markdown",
   "id": "eb66e5c0",
   "metadata": {},
   "source": [
    "# 10.3 randn()\n",
    "- It will return values which are normally distributed"
   ]
  },
  {
   "cell_type": "code",
   "execution_count": 68,
   "id": "0a45b843",
   "metadata": {},
   "outputs": [
    {
     "data": {
      "text/plain": [
       "array([-0.08926359,  0.04932617,  1.67082871, -0.87010004, -1.04686584,\n",
       "       -0.28735468,  0.00181606,  1.28618903,  0.86296605, -1.01389584])"
      ]
     },
     "execution_count": 68,
     "metadata": {},
     "output_type": "execute_result"
    }
   ],
   "source": [
    "arr = np.random.randn(10)\n",
    "arr"
   ]
  },
  {
   "cell_type": "markdown",
   "id": "bfba36fb",
   "metadata": {},
   "source": [
    "# 10.4 ranf()\n",
    "- Return Values between 0 and 1\n"
   ]
  },
  {
   "cell_type": "code",
   "execution_count": 69,
   "id": "f45c7cdf",
   "metadata": {},
   "outputs": [
    {
     "data": {
      "text/plain": [
       "array([0.82885159, 0.71029319, 0.27751079, 0.09082622, 0.05346136])"
      ]
     },
     "execution_count": 69,
     "metadata": {},
     "output_type": "execute_result"
    }
   ],
   "source": [
    "arr = np.random.ranf(5)\n",
    "arr"
   ]
  },
  {
   "cell_type": "raw",
   "id": "8e4f318a",
   "metadata": {},
   "source": [
    "(0,1] = 1 >= value > 0\n",
    "[0,1) = 1 > value >= 0"
   ]
  },
  {
   "cell_type": "code",
   "execution_count": 70,
   "id": "8a6e41a0",
   "metadata": {},
   "outputs": [
    {
     "data": {
      "text/plain": [
       "{'Zeros': array([0, 0, 0, 0, 0, 0, 0, 0, 0, 0]),\n",
       " 'Ones': array([1, 1, 1, 1, 1, 1, 1, 1, 1, 1]),\n",
       " 'Arange': array([101, 102, 103, 104, 105, 106, 107, 108, 109, 110]),\n",
       " 'Linspace': array([10.        , 11.11111111, 12.22222222, 13.33333333, 14.44444444,\n",
       "        15.55555556, 16.66666667, 17.77777778, 18.88888889, 20.        ]),\n",
       " 'Randint': array([31, 39, 35, 25, 18, 32, 20, 22, 43, 25]),\n",
       " 'Randn': array([-2.38780243,  0.76142056,  0.19658921, -0.59836567, -0.66935011,\n",
       "        -0.71628583, -0.12829634,  0.06768339, -2.03905897,  0.44692474])}"
      ]
     },
     "execution_count": 70,
     "metadata": {},
     "output_type": "execute_result"
    }
   ],
   "source": [
    "dict_np_functios = {\n",
    "    \"Zeros\" : np.zeros(10,int),\n",
    "    \"Ones\" : np.ones(10,int),\n",
    "    \"Arange\" : np.arange(101,111),\n",
    "    \"Linspace\" : np.linspace(10,20,num = 10),\n",
    "    \"Randint\" : np.random.randint(10,50,size=10),\n",
    "    \"Randn\" : np.random.randn(10)\n",
    "}\n",
    "dict_np_functios"
   ]
  },
  {
   "cell_type": "code",
   "execution_count": 71,
   "id": "efd3a9a1",
   "metadata": {},
   "outputs": [
    {
     "data": {
      "text/html": [
       "<div>\n",
       "<style scoped>\n",
       "    .dataframe tbody tr th:only-of-type {\n",
       "        vertical-align: middle;\n",
       "    }\n",
       "\n",
       "    .dataframe tbody tr th {\n",
       "        vertical-align: top;\n",
       "    }\n",
       "\n",
       "    .dataframe thead th {\n",
       "        text-align: right;\n",
       "    }\n",
       "</style>\n",
       "<table border=\"1\" class=\"dataframe\">\n",
       "  <thead>\n",
       "    <tr style=\"text-align: right;\">\n",
       "      <th></th>\n",
       "      <th>Zeros</th>\n",
       "      <th>Ones</th>\n",
       "      <th>Arange</th>\n",
       "      <th>Linspace</th>\n",
       "      <th>Randint</th>\n",
       "      <th>Randn</th>\n",
       "    </tr>\n",
       "  </thead>\n",
       "  <tbody>\n",
       "    <tr>\n",
       "      <th>0</th>\n",
       "      <td>0</td>\n",
       "      <td>1</td>\n",
       "      <td>101</td>\n",
       "      <td>10.000000</td>\n",
       "      <td>31</td>\n",
       "      <td>-2.387802</td>\n",
       "    </tr>\n",
       "    <tr>\n",
       "      <th>1</th>\n",
       "      <td>0</td>\n",
       "      <td>1</td>\n",
       "      <td>102</td>\n",
       "      <td>11.111111</td>\n",
       "      <td>39</td>\n",
       "      <td>0.761421</td>\n",
       "    </tr>\n",
       "    <tr>\n",
       "      <th>2</th>\n",
       "      <td>0</td>\n",
       "      <td>1</td>\n",
       "      <td>103</td>\n",
       "      <td>12.222222</td>\n",
       "      <td>35</td>\n",
       "      <td>0.196589</td>\n",
       "    </tr>\n",
       "    <tr>\n",
       "      <th>3</th>\n",
       "      <td>0</td>\n",
       "      <td>1</td>\n",
       "      <td>104</td>\n",
       "      <td>13.333333</td>\n",
       "      <td>25</td>\n",
       "      <td>-0.598366</td>\n",
       "    </tr>\n",
       "    <tr>\n",
       "      <th>4</th>\n",
       "      <td>0</td>\n",
       "      <td>1</td>\n",
       "      <td>105</td>\n",
       "      <td>14.444444</td>\n",
       "      <td>18</td>\n",
       "      <td>-0.669350</td>\n",
       "    </tr>\n",
       "    <tr>\n",
       "      <th>5</th>\n",
       "      <td>0</td>\n",
       "      <td>1</td>\n",
       "      <td>106</td>\n",
       "      <td>15.555556</td>\n",
       "      <td>32</td>\n",
       "      <td>-0.716286</td>\n",
       "    </tr>\n",
       "    <tr>\n",
       "      <th>6</th>\n",
       "      <td>0</td>\n",
       "      <td>1</td>\n",
       "      <td>107</td>\n",
       "      <td>16.666667</td>\n",
       "      <td>20</td>\n",
       "      <td>-0.128296</td>\n",
       "    </tr>\n",
       "    <tr>\n",
       "      <th>7</th>\n",
       "      <td>0</td>\n",
       "      <td>1</td>\n",
       "      <td>108</td>\n",
       "      <td>17.777778</td>\n",
       "      <td>22</td>\n",
       "      <td>0.067683</td>\n",
       "    </tr>\n",
       "    <tr>\n",
       "      <th>8</th>\n",
       "      <td>0</td>\n",
       "      <td>1</td>\n",
       "      <td>109</td>\n",
       "      <td>18.888889</td>\n",
       "      <td>43</td>\n",
       "      <td>-2.039059</td>\n",
       "    </tr>\n",
       "    <tr>\n",
       "      <th>9</th>\n",
       "      <td>0</td>\n",
       "      <td>1</td>\n",
       "      <td>110</td>\n",
       "      <td>20.000000</td>\n",
       "      <td>25</td>\n",
       "      <td>0.446925</td>\n",
       "    </tr>\n",
       "  </tbody>\n",
       "</table>\n",
       "</div>"
      ],
      "text/plain": [
       "   Zeros  Ones  Arange   Linspace  Randint     Randn\n",
       "0      0     1     101  10.000000       31 -2.387802\n",
       "1      0     1     102  11.111111       39  0.761421\n",
       "2      0     1     103  12.222222       35  0.196589\n",
       "3      0     1     104  13.333333       25 -0.598366\n",
       "4      0     1     105  14.444444       18 -0.669350\n",
       "5      0     1     106  15.555556       32 -0.716286\n",
       "6      0     1     107  16.666667       20 -0.128296\n",
       "7      0     1     108  17.777778       22  0.067683\n",
       "8      0     1     109  18.888889       43 -2.039059\n",
       "9      0     1     110  20.000000       25  0.446925"
      ]
     },
     "execution_count": 71,
     "metadata": {},
     "output_type": "execute_result"
    }
   ],
   "source": [
    "df = pd.DataFrame(dict_np_functios)\n",
    "df"
   ]
  },
  {
   "cell_type": "markdown",
   "id": "5a998f7e",
   "metadata": {},
   "source": [
    "# 11. sort()"
   ]
  },
  {
   "cell_type": "code",
   "execution_count": 74,
   "id": "9fe7074b",
   "metadata": {},
   "outputs": [
    {
     "data": {
      "text/plain": [
       "array([31, 42, 31, 30, 21])"
      ]
     },
     "execution_count": 74,
     "metadata": {},
     "output_type": "execute_result"
    }
   ],
   "source": [
    "arr = np.array(np.random.randint(1,50,size=5))\n",
    "arr"
   ]
  },
  {
   "cell_type": "code",
   "execution_count": 75,
   "id": "e53d7b0f",
   "metadata": {},
   "outputs": [
    {
     "data": {
      "text/plain": [
       "array([21, 30, 31, 31, 42])"
      ]
     },
     "execution_count": 75,
     "metadata": {},
     "output_type": "execute_result"
    }
   ],
   "source": [
    "np.sort(arr)"
   ]
  },
  {
   "cell_type": "code",
   "execution_count": 77,
   "id": "735985a8",
   "metadata": {},
   "outputs": [
    {
     "data": {
      "text/plain": [
       "array([[2, 5, 7, 8, 9],\n",
       "       [2, 5, 7, 8, 9]])"
      ]
     },
     "execution_count": 77,
     "metadata": {},
     "output_type": "execute_result"
    }
   ],
   "source": [
    "arr = np.array([[5,2,8,7,9],[5,2,8,7,9]])\n",
    "np.sort(arr)"
   ]
  },
  {
   "cell_type": "markdown",
   "id": "379523c9",
   "metadata": {},
   "source": [
    "# append()\n",
    "- syntax = np.append(array1,array2,axis=none)\n",
    "- axis = 0 === Rows\n",
    "- axis = 1 === Col"
   ]
  },
  {
   "cell_type": "code",
   "execution_count": 78,
   "id": "2d8d2ab6",
   "metadata": {},
   "outputs": [
    {
     "data": {
      "text/plain": [
       "[1, 2, 3, 1000]"
      ]
     },
     "execution_count": 78,
     "metadata": {},
     "output_type": "execute_result"
    }
   ],
   "source": [
    "li = [1,2,3]\n",
    "li.append(1000)\n",
    "li"
   ]
  },
  {
   "cell_type": "code",
   "execution_count": 79,
   "id": "bd9890f3",
   "metadata": {},
   "outputs": [
    {
     "data": {
      "text/plain": [
       "array([ 1,  2,  3,  4,  5, 11, 22, 33, 44, 55])"
      ]
     },
     "execution_count": 79,
     "metadata": {},
     "output_type": "execute_result"
    }
   ],
   "source": [
    "arr1 = np.array([1,2,3,4,5])\n",
    "arr2 = np.array([11,22,33,44,55])\n",
    "new_arr = np.append(arr1,arr2)\n",
    "new_arr"
   ]
  },
  {
   "cell_type": "code",
   "execution_count": 80,
   "id": "bd5c88f2",
   "metadata": {},
   "outputs": [
    {
     "data": {
      "text/plain": [
       "array([ 1,  2,  3,  4,  5, 50])"
      ]
     },
     "execution_count": 80,
     "metadata": {},
     "output_type": "execute_result"
    }
   ],
   "source": [
    "arr1 = np.array([1,2,3,4,5])\n",
    "# arr2 = np.array([11,22,33,44,55])\n",
    "new_arr = np.append(arr1,50)\n",
    "new_arr"
   ]
  },
  {
   "cell_type": "code",
   "execution_count": 81,
   "id": "7dfa1a46",
   "metadata": {},
   "outputs": [
    {
     "name": "stdout",
     "output_type": "stream",
     "text": [
      "Array 1 = \n",
      "[[1 2]\n",
      " [3 4]]\n",
      "Array 2 = \n",
      "[[11 22]\n",
      " [33 44]]\n"
     ]
    },
    {
     "data": {
      "text/plain": [
       "array([ 1,  2,  3,  4, 11, 22, 33, 44])"
      ]
     },
     "execution_count": 81,
     "metadata": {},
     "output_type": "execute_result"
    }
   ],
   "source": [
    "arr1 = np.array([[1,2],[3,4]])\n",
    "arr2 = np.array([[11,22],[33,44]])\n",
    "print(f\"Array 1 = \\n{arr1}\")\n",
    "print(f\"Array 2 = \\n{arr2}\")\n",
    "new_arr = np.append(arr1,arr2)\n",
    "new_arr"
   ]
  },
  {
   "cell_type": "code",
   "execution_count": 82,
   "id": "6409d1a0",
   "metadata": {},
   "outputs": [
    {
     "name": "stdout",
     "output_type": "stream",
     "text": [
      "Array 1 = \n",
      "[[1 2]\n",
      " [3 4]]\n",
      "Array 2 = \n",
      "[[11 22]\n",
      " [33 44]]\n"
     ]
    },
    {
     "data": {
      "text/plain": [
       "array([[ 1,  2],\n",
       "       [ 3,  4],\n",
       "       [11, 22],\n",
       "       [33, 44]])"
      ]
     },
     "execution_count": 82,
     "metadata": {},
     "output_type": "execute_result"
    }
   ],
   "source": [
    "arr1 = np.array([[1,2],[3,4]])\n",
    "arr2 = np.array([[11,22],[33,44]])\n",
    "print(f\"Array 1 = \\n{arr1}\")\n",
    "print(f\"Array 2 = \\n{arr2}\")\n",
    "new_arr = np.append(arr1,arr2,axis=0)\n",
    "new_arr"
   ]
  },
  {
   "cell_type": "code",
   "execution_count": 83,
   "id": "0e60c273",
   "metadata": {},
   "outputs": [
    {
     "name": "stdout",
     "output_type": "stream",
     "text": [
      "Array 1 = \n",
      "[[1 2]\n",
      " [3 4]]\n",
      "Array 2 = \n",
      "[[11 22]\n",
      " [33 44]]\n"
     ]
    },
    {
     "data": {
      "text/plain": [
       "array([[ 1,  2, 11, 22],\n",
       "       [ 3,  4, 33, 44]])"
      ]
     },
     "execution_count": 83,
     "metadata": {},
     "output_type": "execute_result"
    }
   ],
   "source": [
    "arr1 = np.array([[1,2],[3,4]])\n",
    "arr2 = np.array([[11,22],[33,44]])\n",
    "print(f\"Array 1 = \\n{arr1}\")\n",
    "print(f\"Array 2 = \\n{arr2}\")\n",
    "new_arr = np.append(arr1,arr2,axis=1)\n",
    "new_arr"
   ]
  },
  {
   "cell_type": "markdown",
   "id": "d13cd9c7",
   "metadata": {},
   "source": [
    "# 13. concatenate()\n",
    "- np.concatenate([arr1, arr2, ............, arrN],axis=0)"
   ]
  },
  {
   "cell_type": "code",
   "execution_count": 84,
   "id": "00567dfd",
   "metadata": {},
   "outputs": [
    {
     "name": "stdout",
     "output_type": "stream",
     "text": [
      "Array 1 = \n",
      "[[1 2]\n",
      " [3 4]]\n",
      "Array 2 = \n",
      "[[11 22]\n",
      " [33 44]]\n"
     ]
    },
    {
     "data": {
      "text/plain": [
       "array([[ 1,  2],\n",
       "       [ 3,  4],\n",
       "       [11, 22],\n",
       "       [33, 44]])"
      ]
     },
     "execution_count": 84,
     "metadata": {},
     "output_type": "execute_result"
    }
   ],
   "source": [
    "arr1 = np.array([[1,2],[3,4]])\n",
    "arr2 = np.array([[11,22],[33,44]])\n",
    "print(f\"Array 1 = \\n{arr1}\")\n",
    "print(f\"Array 2 = \\n{arr2}\")\n",
    "new_arr = np.concatenate([arr1,arr2]) # axis = 0 (Adding rows)\n",
    "new_arr"
   ]
  },
  {
   "cell_type": "code",
   "execution_count": 86,
   "id": "479d8323",
   "metadata": {},
   "outputs": [
    {
     "name": "stdout",
     "output_type": "stream",
     "text": [
      "Array 1 = \n",
      "[[1 2]\n",
      " [3 4]]\n",
      "Array 2 = \n",
      "[[11 22]\n",
      " [33 44]]\n"
     ]
    },
    {
     "data": {
      "text/plain": [
       "array([[ 1,  2, 11, 22],\n",
       "       [ 3,  4, 33, 44]])"
      ]
     },
     "execution_count": 86,
     "metadata": {},
     "output_type": "execute_result"
    }
   ],
   "source": [
    "arr1 = np.array([[1,2],[3,4]])\n",
    "arr2 = np.array([[11,22],[33,44]])\n",
    "print(f\"Array 1 = \\n{arr1}\")\n",
    "print(f\"Array 2 = \\n{arr2}\")\n",
    "new_arr = np.concatenate([arr1,arr2],axis=1) # axis = 1 (Adding col)\n",
    "new_arr"
   ]
  },
  {
   "cell_type": "code",
   "execution_count": 87,
   "id": "8abc9c28",
   "metadata": {},
   "outputs": [
    {
     "name": "stdout",
     "output_type": "stream",
     "text": [
      "Array 1 = \n",
      "[[1 2]\n",
      " [3 4]]\n",
      "Array 2 = \n",
      "[[11 22]\n",
      " [33 44]]\n",
      "Array 3 = \n",
      "[[111 222]\n",
      " [333 444]]\n"
     ]
    },
    {
     "data": {
      "text/plain": [
       "array([[  1,   2],\n",
       "       [  3,   4],\n",
       "       [ 11,  22],\n",
       "       [ 33,  44],\n",
       "       [111, 222],\n",
       "       [333, 444]])"
      ]
     },
     "execution_count": 87,
     "metadata": {},
     "output_type": "execute_result"
    }
   ],
   "source": [
    "arr1 = np.array([[1,2],[3,4]])\n",
    "arr2 = np.array([[11,22],[33,44]])\n",
    "arr3 = np.array([[111,222],[333,444]])\n",
    "print(f\"Array 1 = \\n{arr1}\")\n",
    "print(f\"Array 2 = \\n{arr2}\")\n",
    "print(f\"Array 3 = \\n{arr3}\")\n",
    "new_arr = np.concatenate([arr1,arr2,arr3],axis=0)\n",
    "new_arr"
   ]
  },
  {
   "cell_type": "code",
   "execution_count": 88,
   "id": "3dd6816f",
   "metadata": {},
   "outputs": [
    {
     "name": "stdout",
     "output_type": "stream",
     "text": [
      "Array 1 = \n",
      "[[1 2]\n",
      " [3 4]]\n",
      "Array 2 = \n",
      "[[11 22]\n",
      " [33 44]]\n",
      "Array 3 = \n",
      "[[111 222]\n",
      " [333 444]]\n"
     ]
    },
    {
     "data": {
      "text/plain": [
       "array([[  1,   2,  11,  22, 111, 222],\n",
       "       [  3,   4,  33,  44, 333, 444]])"
      ]
     },
     "execution_count": 88,
     "metadata": {},
     "output_type": "execute_result"
    }
   ],
   "source": [
    "arr1 = np.array([[1,2],[3,4]])\n",
    "arr2 = np.array([[11,22],[33,44]])\n",
    "arr3 = np.array([[111,222],[333,444]])\n",
    "print(f\"Array 1 = \\n{arr1}\")\n",
    "print(f\"Array 2 = \\n{arr2}\")\n",
    "print(f\"Array 3 = \\n{arr3}\")\n",
    "new_arr = np.concatenate([arr1,arr2,arr3],axis=1)\n",
    "new_arr"
   ]
  },
  {
   "cell_type": "markdown",
   "id": "945faabb",
   "metadata": {},
   "source": [
    "# 15. np.ceil()"
   ]
  },
  {
   "cell_type": "raw",
   "id": "d95c854e",
   "metadata": {},
   "source": [
    "3.1 = 4\n",
    "3.3 = 4\n",
    "4.5 = 5\n",
    "9.9 = 10"
   ]
  },
  {
   "cell_type": "code",
   "execution_count": 90,
   "id": "bb72d617",
   "metadata": {},
   "outputs": [
    {
     "data": {
      "text/plain": [
       "4.0"
      ]
     },
     "execution_count": 90,
     "metadata": {},
     "output_type": "execute_result"
    }
   ],
   "source": [
    "np.ceil(3.1)"
   ]
  },
  {
   "cell_type": "code",
   "execution_count": 91,
   "id": "3936b039",
   "metadata": {},
   "outputs": [
    {
     "data": {
      "text/plain": [
       "4.0"
      ]
     },
     "execution_count": 91,
     "metadata": {},
     "output_type": "execute_result"
    }
   ],
   "source": [
    "np.ceil(3.5)"
   ]
  },
  {
   "cell_type": "code",
   "execution_count": 92,
   "id": "03f258a2",
   "metadata": {},
   "outputs": [
    {
     "data": {
      "text/plain": [
       "4.0"
      ]
     },
     "execution_count": 92,
     "metadata": {},
     "output_type": "execute_result"
    }
   ],
   "source": [
    "np.ceil(3.9)"
   ]
  },
  {
   "cell_type": "code",
   "execution_count": 93,
   "id": "45345d24",
   "metadata": {},
   "outputs": [
    {
     "data": {
      "text/plain": [
       "4.0"
      ]
     },
     "execution_count": 93,
     "metadata": {},
     "output_type": "execute_result"
    }
   ],
   "source": [
    "np.ceil(4)"
   ]
  },
  {
   "cell_type": "code",
   "execution_count": 94,
   "id": "3337b87c",
   "metadata": {},
   "outputs": [
    {
     "data": {
      "text/plain": [
       "array([ 4.,  5.,  6.,  7., 10.])"
      ]
     },
     "execution_count": 94,
     "metadata": {},
     "output_type": "execute_result"
    }
   ],
   "source": [
    "np.ceil([4,4.1,5.7,6.6,9.9])"
   ]
  },
  {
   "cell_type": "code",
   "execution_count": 100,
   "id": "34b91746",
   "metadata": {},
   "outputs": [
    {
     "data": {
      "text/plain": [
       "array([ 2.,  4.,  5., 10.,  7.])"
      ]
     },
     "execution_count": 100,
     "metadata": {},
     "output_type": "execute_result"
    }
   ],
   "source": [
    "arr = np.array([1.2,3.2,4.7,9.9,6.7])\n",
    "np.ceil(arr)"
   ]
  },
  {
   "cell_type": "markdown",
   "id": "f6ef7e08",
   "metadata": {},
   "source": [
    "# 15. np.floor()"
   ]
  },
  {
   "cell_type": "code",
   "execution_count": 95,
   "id": "c0874ea2",
   "metadata": {},
   "outputs": [
    {
     "data": {
      "text/plain": [
       "2.5"
      ]
     },
     "execution_count": 95,
     "metadata": {},
     "output_type": "execute_result"
    }
   ],
   "source": [
    "5 / 2"
   ]
  },
  {
   "cell_type": "code",
   "execution_count": 96,
   "id": "726064d6",
   "metadata": {},
   "outputs": [
    {
     "data": {
      "text/plain": [
       "2"
      ]
     },
     "execution_count": 96,
     "metadata": {},
     "output_type": "execute_result"
    }
   ],
   "source": [
    "5 // 2"
   ]
  },
  {
   "cell_type": "code",
   "execution_count": 97,
   "id": "c1c40775",
   "metadata": {},
   "outputs": [
    {
     "data": {
      "text/plain": [
       "3.0"
      ]
     },
     "execution_count": 97,
     "metadata": {},
     "output_type": "execute_result"
    }
   ],
   "source": [
    "np.floor(3.4)"
   ]
  },
  {
   "cell_type": "code",
   "execution_count": 98,
   "id": "9f114074",
   "metadata": {},
   "outputs": [
    {
     "data": {
      "text/plain": [
       "3.0"
      ]
     },
     "execution_count": 98,
     "metadata": {},
     "output_type": "execute_result"
    }
   ],
   "source": [
    "np.floor(3.9)"
   ]
  },
  {
   "cell_type": "code",
   "execution_count": 99,
   "id": "34a867d7",
   "metadata": {},
   "outputs": [
    {
     "data": {
      "text/plain": [
       "9.0"
      ]
     },
     "execution_count": 99,
     "metadata": {},
     "output_type": "execute_result"
    }
   ],
   "source": [
    "np.floor(9)"
   ]
  },
  {
   "cell_type": "code",
   "execution_count": 101,
   "id": "0edbe731",
   "metadata": {},
   "outputs": [
    {
     "data": {
      "text/plain": [
       "array([1., 3., 4., 9., 6.])"
      ]
     },
     "execution_count": 101,
     "metadata": {},
     "output_type": "execute_result"
    }
   ],
   "source": [
    "arr = np.array([1.2,3.2,4.7,9.9,6.7])\n",
    "np.floor(arr)"
   ]
  },
  {
   "cell_type": "code",
   "execution_count": 102,
   "id": "11596b97",
   "metadata": {},
   "outputs": [
    {
     "data": {
      "text/plain": [
       "array([[1., 3., 4.],\n",
       "       [9., 6., 7.]])"
      ]
     },
     "execution_count": 102,
     "metadata": {},
     "output_type": "execute_result"
    }
   ],
   "source": [
    "arr = np.array([[1.2,3.2,4.7],[9.9,6.7,7.7]])\n",
    "np.floor(arr)"
   ]
  },
  {
   "cell_type": "markdown",
   "id": "04dfa9ae",
   "metadata": {},
   "source": [
    "# 16. np.around()"
   ]
  },
  {
   "cell_type": "code",
   "execution_count": 103,
   "id": "bbe62e36",
   "metadata": {},
   "outputs": [
    {
     "data": {
      "text/plain": [
       "1.12"
      ]
     },
     "execution_count": 103,
     "metadata": {},
     "output_type": "execute_result"
    }
   ],
   "source": [
    "round(1.12345677,2)"
   ]
  },
  {
   "cell_type": "code",
   "execution_count": 106,
   "id": "83d8e749",
   "metadata": {},
   "outputs": [
    {
     "data": {
      "text/plain": [
       "1.78"
      ]
     },
     "execution_count": 106,
     "metadata": {},
     "output_type": "execute_result"
    }
   ],
   "source": [
    "round(1.77945677,2)"
   ]
  },
  {
   "cell_type": "code",
   "execution_count": 107,
   "id": "d24a247b",
   "metadata": {},
   "outputs": [
    {
     "data": {
      "text/plain": [
       "1.78"
      ]
     },
     "execution_count": 107,
     "metadata": {},
     "output_type": "execute_result"
    }
   ],
   "source": [
    "np.around(1.77945677,2)"
   ]
  },
  {
   "cell_type": "code",
   "execution_count": 111,
   "id": "29077077",
   "metadata": {},
   "outputs": [
    {
     "data": {
      "text/plain": [
       "array([1.12, 5.68, 5.43])"
      ]
     },
     "execution_count": 111,
     "metadata": {},
     "output_type": "execute_result"
    }
   ],
   "source": [
    "np.around([1.12345,5.67890,5.43325],2)"
   ]
  },
  {
   "cell_type": "markdown",
   "id": "53146d7b",
   "metadata": {},
   "source": [
    "# 17. np.where()\n",
    "- np.where(condition)"
   ]
  },
  {
   "cell_type": "code",
   "execution_count": 113,
   "id": "7ce0df3c",
   "metadata": {},
   "outputs": [
    {
     "data": {
      "text/plain": [
       "[1, 4, 7]"
      ]
     },
     "execution_count": 113,
     "metadata": {},
     "output_type": "execute_result"
    }
   ],
   "source": [
    "li = [1,2,3,1,2,3,1,2,3]\n",
    "ind_li = [ind for ind,val in enumerate(li) if val == 2]\n",
    "ind_li"
   ]
  },
  {
   "cell_type": "code",
   "execution_count": 114,
   "id": "781ea199",
   "metadata": {},
   "outputs": [
    {
     "data": {
      "text/plain": [
       "(array([1, 4, 7], dtype=int64),)"
      ]
     },
     "execution_count": 114,
     "metadata": {},
     "output_type": "execute_result"
    }
   ],
   "source": [
    "arr = np.array(li)\n",
    "new_arr = np.where(arr == 2)\n",
    "new_arr"
   ]
  },
  {
   "cell_type": "code",
   "execution_count": 115,
   "id": "51f1c98c",
   "metadata": {},
   "outputs": [
    {
     "data": {
      "text/plain": [
       "tuple"
      ]
     },
     "execution_count": 115,
     "metadata": {},
     "output_type": "execute_result"
    }
   ],
   "source": [
    "type(new_arr)"
   ]
  },
  {
   "cell_type": "code",
   "execution_count": 120,
   "id": "d38912bd",
   "metadata": {},
   "outputs": [
    {
     "data": {
      "text/plain": [
       "[1, 4, 7]"
      ]
     },
     "execution_count": 120,
     "metadata": {},
     "output_type": "execute_result"
    }
   ],
   "source": [
    "new_arr[0].tolist()"
   ]
  },
  {
   "cell_type": "code",
   "execution_count": 121,
   "id": "763c6d33",
   "metadata": {},
   "outputs": [
    {
     "data": {
      "text/plain": [
       "[0, 2, 3, 5, 6, 8]"
      ]
     },
     "execution_count": 121,
     "metadata": {},
     "output_type": "execute_result"
    }
   ],
   "source": [
    "arr = np.array(li)\n",
    "new_arr = np.where(arr != 2)\n",
    "new_arr[0].tolist()"
   ]
  },
  {
   "cell_type": "code",
   "execution_count": 122,
   "id": "4a6024d7",
   "metadata": {},
   "outputs": [
    {
     "data": {
      "text/plain": [
       "[2, 5, 8]"
      ]
     },
     "execution_count": 122,
     "metadata": {},
     "output_type": "execute_result"
    }
   ],
   "source": [
    "arr = np.array(li)\n",
    "new_arr = np.where(arr > 2)\n",
    "new_arr[0].tolist()"
   ]
  },
  {
   "cell_type": "markdown",
   "id": "b54dcc21",
   "metadata": {},
   "source": [
    "# Convert array to list"
   ]
  },
  {
   "cell_type": "code",
   "execution_count": 123,
   "id": "e0876174",
   "metadata": {},
   "outputs": [
    {
     "data": {
      "text/plain": [
       "array([12, 17, 17, 10, 14, 15, 16, 17, 17, 11])"
      ]
     },
     "execution_count": 123,
     "metadata": {},
     "output_type": "execute_result"
    }
   ],
   "source": [
    "array = np.random.randint(10,20,size=10)\n",
    "array"
   ]
  },
  {
   "cell_type": "code",
   "execution_count": 124,
   "id": "7c23b10c",
   "metadata": {},
   "outputs": [
    {
     "data": {
      "text/plain": [
       "numpy.ndarray"
      ]
     },
     "execution_count": 124,
     "metadata": {},
     "output_type": "execute_result"
    }
   ],
   "source": [
    "type(array)"
   ]
  },
  {
   "cell_type": "code",
   "execution_count": 125,
   "id": "2571bafe",
   "metadata": {},
   "outputs": [
    {
     "data": {
      "text/plain": [
       "[12, 17, 17, 10, 14, 15, 16, 17, 17, 11]"
      ]
     },
     "execution_count": 125,
     "metadata": {},
     "output_type": "execute_result"
    }
   ],
   "source": [
    "list(array)"
   ]
  },
  {
   "cell_type": "code",
   "execution_count": 126,
   "id": "be0e54b6",
   "metadata": {},
   "outputs": [
    {
     "data": {
      "text/plain": [
       "[12, 17, 17, 10, 14, 15, 16, 17, 17, 11]"
      ]
     },
     "execution_count": 126,
     "metadata": {},
     "output_type": "execute_result"
    }
   ],
   "source": [
    "array.tolist()"
   ]
  },
  {
   "cell_type": "markdown",
   "id": "6af85364",
   "metadata": {},
   "source": [
    "# Numerical Operations"
   ]
  },
  {
   "cell_type": "code",
   "execution_count": 129,
   "id": "595c55ab",
   "metadata": {},
   "outputs": [
    {
     "data": {
      "text/plain": [
       "array([13, 15, 16, 13, 12])"
      ]
     },
     "execution_count": 129,
     "metadata": {},
     "output_type": "execute_result"
    }
   ],
   "source": [
    "array = np.random.randint(10,20,size=5)\n",
    "array"
   ]
  },
  {
   "cell_type": "code",
   "execution_count": 131,
   "id": "cd6140b0",
   "metadata": {},
   "outputs": [
    {
     "data": {
      "text/plain": [
       "array([15, 17, 18, 15, 14])"
      ]
     },
     "execution_count": 131,
     "metadata": {},
     "output_type": "execute_result"
    }
   ],
   "source": [
    "array + 2"
   ]
  },
  {
   "cell_type": "code",
   "execution_count": 132,
   "id": "dd7c4ef1",
   "metadata": {},
   "outputs": [
    {
     "data": {
      "text/plain": [
       "array([11, 13, 14, 11, 10])"
      ]
     },
     "execution_count": 132,
     "metadata": {},
     "output_type": "execute_result"
    }
   ],
   "source": [
    "array - 2"
   ]
  },
  {
   "cell_type": "code",
   "execution_count": 133,
   "id": "527197b2",
   "metadata": {},
   "outputs": [
    {
     "data": {
      "text/plain": [
       "array([26, 30, 32, 26, 24])"
      ]
     },
     "execution_count": 133,
     "metadata": {},
     "output_type": "execute_result"
    }
   ],
   "source": [
    "array * 2"
   ]
  },
  {
   "cell_type": "code",
   "execution_count": 134,
   "id": "502d166d",
   "metadata": {},
   "outputs": [
    {
     "data": {
      "text/plain": [
       "array([6.5, 7.5, 8. , 6.5, 6. ])"
      ]
     },
     "execution_count": 134,
     "metadata": {},
     "output_type": "execute_result"
    }
   ],
   "source": [
    "array / 2"
   ]
  },
  {
   "cell_type": "code",
   "execution_count": 135,
   "id": "475157cb",
   "metadata": {},
   "outputs": [
    {
     "data": {
      "text/plain": [
       "array([6, 7, 8, 6, 6], dtype=int32)"
      ]
     },
     "execution_count": 135,
     "metadata": {},
     "output_type": "execute_result"
    }
   ],
   "source": [
    "array // 2"
   ]
  },
  {
   "cell_type": "code",
   "execution_count": 138,
   "id": "c47ad65a",
   "metadata": {},
   "outputs": [
    {
     "data": {
      "text/plain": [
       "array([1, 1, 0, 1, 0], dtype=int32)"
      ]
     },
     "execution_count": 138,
     "metadata": {},
     "output_type": "execute_result"
    }
   ],
   "source": [
    "array % 2"
   ]
  },
  {
   "cell_type": "code",
   "execution_count": 139,
   "id": "800c901c",
   "metadata": {},
   "outputs": [
    {
     "data": {
      "text/plain": [
       "array([169, 225, 256, 169, 144], dtype=int32)"
      ]
     },
     "execution_count": 139,
     "metadata": {},
     "output_type": "execute_result"
    }
   ],
   "source": [
    "array ** 2"
   ]
  },
  {
   "cell_type": "markdown",
   "id": "c17ec910",
   "metadata": {},
   "source": [
    "# Matrix addition"
   ]
  },
  {
   "cell_type": "code",
   "execution_count": 141,
   "id": "a941c5ad",
   "metadata": {},
   "outputs": [
    {
     "name": "stdout",
     "output_type": "stream",
     "text": [
      "Arr1 = \n",
      "[[1 2]\n",
      " [3 4]]\n",
      "Arr2 = \n",
      "[[10 20]\n",
      " [30 40]]\n",
      "Arr3 = \n",
      "[[11 22]\n",
      " [33 44]]\n"
     ]
    }
   ],
   "source": [
    "arr1 = np.array([[1,2],[3,4]])\n",
    "arr2 = np.array([[10,20],[30,40]])\n",
    "print(f\"Arr1 = \\n{arr1}\")\n",
    "print(f\"Arr2 = \\n{arr2}\")\n",
    "arr3 = arr2 + arr1\n",
    "print(f\"Arr3 = \\n{arr3}\")"
   ]
  },
  {
   "cell_type": "markdown",
   "id": "d8b2a7ae",
   "metadata": {},
   "source": [
    "# np.add()"
   ]
  },
  {
   "cell_type": "code",
   "execution_count": 142,
   "id": "1e21d10a",
   "metadata": {},
   "outputs": [
    {
     "data": {
      "text/plain": [
       "array([[11, 22],\n",
       "       [33, 44]])"
      ]
     },
     "execution_count": 142,
     "metadata": {},
     "output_type": "execute_result"
    }
   ],
   "source": [
    "np.add(arr1,arr2)"
   ]
  },
  {
   "cell_type": "markdown",
   "id": "079e482c",
   "metadata": {},
   "source": [
    "# Matrix multiplication"
   ]
  },
  {
   "cell_type": "code",
   "execution_count": 143,
   "id": "4b1f78b6",
   "metadata": {},
   "outputs": [
    {
     "name": "stdout",
     "output_type": "stream",
     "text": [
      "Arr1 = \n",
      "[[1 2]\n",
      " [3 4]]\n",
      "Arr2 = \n",
      "[[10 20]\n",
      " [30 40]]\n",
      "Arr3 = \n",
      "[[ 10  40]\n",
      " [ 90 160]]\n"
     ]
    }
   ],
   "source": [
    "arr1 = np.array([[1,2],[3,4]])\n",
    "arr2 = np.array([[10,20],[30,40]])\n",
    "print(f\"Arr1 = \\n{arr1}\")\n",
    "print(f\"Arr2 = \\n{arr2}\")\n",
    "arr3 = np.multiply(arr1,arr2)\n",
    "print(f\"Arr3 = \\n{arr3}\")"
   ]
  },
  {
   "cell_type": "markdown",
   "id": "133d3e97",
   "metadata": {},
   "source": [
    "# Matrix Dot Product"
   ]
  },
  {
   "cell_type": "code",
   "execution_count": 144,
   "id": "3e14da5b",
   "metadata": {},
   "outputs": [
    {
     "name": "stdout",
     "output_type": "stream",
     "text": [
      "Arr1 = \n",
      "[[1 2]\n",
      " [3 4]]\n",
      "Arr2 = \n",
      "[[10 20]\n",
      " [30 40]]\n",
      "Arr3 = \n",
      "[[ 70 100]\n",
      " [150 220]]\n"
     ]
    }
   ],
   "source": [
    "arr1 = np.array([[1,2],[3,4]])\n",
    "arr2 = np.array([[10,20],[30,40]])\n",
    "print(f\"Arr1 = \\n{arr1}\")\n",
    "print(f\"Arr2 = \\n{arr2}\")\n",
    "arr3 = np.dot(arr1,arr2)\n",
    "print(f\"Arr3 = \\n{arr3}\")"
   ]
  },
  {
   "cell_type": "code",
   "execution_count": null,
   "id": "678e7739",
   "metadata": {},
   "outputs": [],
   "source": []
  }
 ],
 "metadata": {
  "kernelspec": {
   "display_name": "Python 3",
   "language": "python",
   "name": "python3"
  },
  "language_info": {
   "codemirror_mode": {
    "name": "ipython",
    "version": 3
   },
   "file_extension": ".py",
   "mimetype": "text/x-python",
   "name": "python",
   "nbconvert_exporter": "python",
   "pygments_lexer": "ipython3",
   "version": "3.8.8"
  }
 },
 "nbformat": 4,
 "nbformat_minor": 5
}
