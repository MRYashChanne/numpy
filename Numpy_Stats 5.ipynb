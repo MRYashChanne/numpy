{
 "cells": [
  {
   "cell_type": "markdown",
   "id": "3057ce84",
   "metadata": {},
   "source": [
    "# Numpy-Stats\n",
    "- 1. mean()\n",
    "- 2. median()\n",
    "- 3. mode()\n",
    "- 4. var()\n",
    "- 5. std()\n",
    "- 6. min()\n",
    "- 7. max()"
   ]
  },
  {
   "cell_type": "raw",
   "id": "013ad2db",
   "metadata": {},
   "source": [
    "- mean(), median() and mode() are used to identify the central tendency of the data"
   ]
  },
  {
   "cell_type": "code",
   "execution_count": 3,
   "id": "62d328e3",
   "metadata": {},
   "outputs": [],
   "source": [
    "import numpy as np"
   ]
  },
  {
   "cell_type": "markdown",
   "id": "05b8a97d",
   "metadata": {},
   "source": [
    "# 1. mean()"
   ]
  },
  {
   "cell_type": "code",
   "execution_count": 2,
   "id": "1a1cf0e6",
   "metadata": {},
   "outputs": [
    {
     "data": {
      "text/plain": [
       "3.0"
      ]
     },
     "execution_count": 2,
     "metadata": {},
     "output_type": "execute_result"
    }
   ],
   "source": [
    "li = [1,2,3,4,5]\n",
    "sum(li) / len(li)"
   ]
  },
  {
   "cell_type": "code",
   "execution_count": 19,
   "id": "7e74f23f",
   "metadata": {},
   "outputs": [
    {
     "data": {
      "text/plain": [
       "array([14, 19, 17, 18, 11, 17, 15, 13, 14])"
      ]
     },
     "execution_count": 19,
     "metadata": {},
     "output_type": "execute_result"
    }
   ],
   "source": [
    "arr = np.random.randint(10,20,size=9)\n",
    "arr"
   ]
  },
  {
   "cell_type": "code",
   "execution_count": 20,
   "id": "07b5cf0d",
   "metadata": {},
   "outputs": [
    {
     "data": {
      "text/plain": [
       "9"
      ]
     },
     "execution_count": 20,
     "metadata": {},
     "output_type": "execute_result"
    }
   ],
   "source": [
    "len(arr)"
   ]
  },
  {
   "cell_type": "code",
   "execution_count": 21,
   "id": "2c536a10",
   "metadata": {},
   "outputs": [
    {
     "data": {
      "text/plain": [
       "138"
      ]
     },
     "execution_count": 21,
     "metadata": {},
     "output_type": "execute_result"
    }
   ],
   "source": [
    "sum(arr)"
   ]
  },
  {
   "cell_type": "code",
   "execution_count": 22,
   "id": "09c5e8b6",
   "metadata": {},
   "outputs": [
    {
     "data": {
      "text/plain": [
       "15.333333333333334"
      ]
     },
     "execution_count": 22,
     "metadata": {},
     "output_type": "execute_result"
    }
   ],
   "source": [
    "sum(arr) / len(arr)"
   ]
  },
  {
   "cell_type": "code",
   "execution_count": 23,
   "id": "8f1fc419",
   "metadata": {},
   "outputs": [
    {
     "name": "stdout",
     "output_type": "stream",
     "text": [
      "The array = [14 19 17 18 11 17 15 13 14] and the mean = 15.333333333333334\n"
     ]
    }
   ],
   "source": [
    "mean = np.mean(arr)\n",
    "print(f\"The array = {arr} and the mean = {mean}\")"
   ]
  },
  {
   "cell_type": "markdown",
   "id": "3de3e981",
   "metadata": {},
   "source": [
    "# median()"
   ]
  },
  {
   "cell_type": "code",
   "execution_count": 24,
   "id": "781ed699",
   "metadata": {},
   "outputs": [
    {
     "data": {
      "text/plain": [
       "array([14, 19, 17, 18, 11, 17, 15, 13, 14])"
      ]
     },
     "execution_count": 24,
     "metadata": {},
     "output_type": "execute_result"
    }
   ],
   "source": [
    "arr"
   ]
  },
  {
   "cell_type": "code",
   "execution_count": 25,
   "id": "7e8c50c0",
   "metadata": {},
   "outputs": [
    {
     "data": {
      "text/plain": [
       "array([11, 13, 14, 14, 15, 17, 17, 18, 19])"
      ]
     },
     "execution_count": 25,
     "metadata": {},
     "output_type": "execute_result"
    }
   ],
   "source": [
    "np.sort(arr)"
   ]
  },
  {
   "cell_type": "code",
   "execution_count": 26,
   "id": "443399e5",
   "metadata": {},
   "outputs": [
    {
     "data": {
      "text/plain": [
       "array([14, 19, 17, 18, 11, 17, 15, 13, 14])"
      ]
     },
     "execution_count": 26,
     "metadata": {},
     "output_type": "execute_result"
    }
   ],
   "source": [
    "arr"
   ]
  },
  {
   "cell_type": "code",
   "execution_count": 27,
   "id": "b234a1cb",
   "metadata": {},
   "outputs": [
    {
     "name": "stdout",
     "output_type": "stream",
     "text": [
      "The sorted array = [11 13 14 14 15 17 17 18 19] and the median = 15.0\n"
     ]
    }
   ],
   "source": [
    "median = np.median(arr)\n",
    "print(f\"The sorted array = {np.sort(arr)} and the median = {median}\")"
   ]
  },
  {
   "cell_type": "code",
   "execution_count": 28,
   "id": "3ad99caa",
   "metadata": {},
   "outputs": [
    {
     "data": {
      "text/plain": [
       "array([14, 10, 16, 11, 16, 13, 10, 15, 13, 10])"
      ]
     },
     "execution_count": 28,
     "metadata": {},
     "output_type": "execute_result"
    }
   ],
   "source": [
    "arr = np.random.randint(10,20,size=10)\n",
    "arr"
   ]
  },
  {
   "cell_type": "code",
   "execution_count": 29,
   "id": "e314eaa3",
   "metadata": {},
   "outputs": [
    {
     "data": {
      "text/plain": [
       "array([10, 10, 10, 11, 13, 13, 14, 15, 16, 16])"
      ]
     },
     "execution_count": 29,
     "metadata": {},
     "output_type": "execute_result"
    }
   ],
   "source": [
    "np.sort(arr)"
   ]
  },
  {
   "cell_type": "code",
   "execution_count": 32,
   "id": "06c0dff1",
   "metadata": {},
   "outputs": [
    {
     "data": {
      "text/plain": [
       "13.0"
      ]
     },
     "execution_count": 32,
     "metadata": {},
     "output_type": "execute_result"
    }
   ],
   "source": [
    "(13 + 13) / 2 "
   ]
  },
  {
   "cell_type": "code",
   "execution_count": 33,
   "id": "02266241",
   "metadata": {},
   "outputs": [
    {
     "name": "stdout",
     "output_type": "stream",
     "text": [
      "The sorted array = [10 10 10 11 13 13 14 15 16 16] and the median = 13.0\n"
     ]
    }
   ],
   "source": [
    "median = np.median(arr)\n",
    "print(f\"The sorted array = {np.sort(arr)} and the median = {median}\")"
   ]
  },
  {
   "cell_type": "markdown",
   "id": "84152d70",
   "metadata": {},
   "source": [
    "# 3. std()"
   ]
  },
  {
   "cell_type": "code",
   "execution_count": 34,
   "id": "38f98881",
   "metadata": {},
   "outputs": [
    {
     "data": {
      "text/plain": [
       "array([12, 11, 15, 13, 12, 12, 18, 12, 15])"
      ]
     },
     "execution_count": 34,
     "metadata": {},
     "output_type": "execute_result"
    }
   ],
   "source": [
    "arr = np.random.randint(10,20,size=9)\n",
    "arr"
   ]
  },
  {
   "cell_type": "code",
   "execution_count": 35,
   "id": "831a1453",
   "metadata": {},
   "outputs": [
    {
     "data": {
      "text/plain": [
       "2.1081851067789197"
      ]
     },
     "execution_count": 35,
     "metadata": {},
     "output_type": "execute_result"
    }
   ],
   "source": [
    "np.std(arr)"
   ]
  },
  {
   "cell_type": "code",
   "execution_count": 37,
   "id": "f8751847",
   "metadata": {},
   "outputs": [
    {
     "name": "stdout",
     "output_type": "stream",
     "text": [
      "Mean of an array = 13.333333333333334\n",
      "[11 12 12 12 12 13 15 15 18]\n",
      "Median of an array = 12.0\n",
      "Standerd deviation of an array = 2.1081851067789197\n"
     ]
    }
   ],
   "source": [
    "mean = np.mean(arr)\n",
    "print(f\"Mean of an array = {mean}\")\n",
    "median = np.median(np.sort(arr))\n",
    "print(np.sort(arr))\n",
    "print(f\"Median of an array = {median}\")\n",
    "std = np.std(arr)\n",
    "print(f\"Standerd deviation of an array = {std}\")"
   ]
  },
  {
   "cell_type": "code",
   "execution_count": 39,
   "id": "a0fdfa63",
   "metadata": {},
   "outputs": [
    {
     "name": "stdout",
     "output_type": "stream",
     "text": [
      "Varaince of an array = 4.444444444444445\n"
     ]
    }
   ],
   "source": [
    "vari = np.var(arr)\n",
    "print(f\"Varaince of an array = {vari}\")"
   ]
  },
  {
   "cell_type": "code",
   "execution_count": 41,
   "id": "f38edcb6",
   "metadata": {},
   "outputs": [
    {
     "name": "stdout",
     "output_type": "stream",
     "text": [
      "The original array = [10 13 14 14 15 15 17 11 16]\n",
      "\n",
      "Mean of an array = 13.88888888888889\n",
      "\n",
      "\n",
      "The sorted array =  [10 11 13 14 14 15 15 16 17]\n",
      "\n",
      "Median of an array = 14.0\n",
      "Standerd deviation of an array = 2.1314806770278754\n",
      "\n",
      "Varaince of an array = 4.54320987654321\n"
     ]
    }
   ],
   "source": [
    "arr = np.random.randint(10,20,size=9)\n",
    "print(f\"The original array = {arr}\")\n",
    "print()\n",
    "mean = np.mean(arr)\n",
    "print(f\"Mean of an array = {mean}\")\n",
    "print()\n",
    "median = np.median(np.sort(arr))\n",
    "print()\n",
    "print(\"The sorted array = \",np.sort(arr))\n",
    "print()\n",
    "print(f\"Median of an array = {median}\")\n",
    "std = np.std(arr)\n",
    "print(f\"Standerd deviation of an array = {std}\")\n",
    "print()\n",
    "vari = np.var(arr)\n",
    "print(f\"Varaince of an array = {vari}\")"
   ]
  },
  {
   "cell_type": "code",
   "execution_count": 43,
   "id": "af3f3943",
   "metadata": {},
   "outputs": [
    {
     "name": "stdout",
     "output_type": "stream",
     "text": [
      "The original array = [19 12 10 14 16 16 10 18 16]\n",
      "\n",
      "Mean of an array = 14.555555555555555\n",
      "\n",
      "\n",
      "The sorted array =  [10 10 12 14 16 16 16 18 19]\n",
      "\n",
      "Median of an array = 16.0\n",
      "Standerd deviation of an array = 3.095197394929804\n",
      "\n",
      "Varaince of an array = 9.580246913580247\n",
      "\n",
      "Min value of an array = 10\n",
      "\n",
      "Max value of an array = 19\n"
     ]
    }
   ],
   "source": [
    "arr = np.random.randint(10,20,size=9)\n",
    "print(f\"The original array = {arr}\")\n",
    "print()\n",
    "mean = np.mean(arr)\n",
    "print(f\"Mean of an array = {mean}\")\n",
    "print()\n",
    "median = np.median(np.sort(arr))\n",
    "print()\n",
    "print(\"The sorted array = \",np.sort(arr))\n",
    "print()\n",
    "print(f\"Median of an array = {median}\")\n",
    "std = np.std(arr)\n",
    "print(f\"Standerd deviation of an array = {std}\")\n",
    "print()\n",
    "vari = np.var(arr)\n",
    "print(f\"Varaince of an array = {vari}\")\n",
    "print()\n",
    "min_val = np.min(arr)\n",
    "print(f\"Min value of an array = {min_val}\")\n",
    "print()\n",
    "max_val = np.max(arr)\n",
    "print(f\"Max value of an array = {max_val}\")"
   ]
  },
  {
   "cell_type": "markdown",
   "id": "e0b8eaa3",
   "metadata": {},
   "source": [
    "# Mode \n",
    "- Most frequent value of an array"
   ]
  },
  {
   "cell_type": "code",
   "execution_count": 44,
   "id": "36b9d726",
   "metadata": {},
   "outputs": [],
   "source": [
    "from scipy import stats"
   ]
  },
  {
   "cell_type": "code",
   "execution_count": 46,
   "id": "fbd9f9d0",
   "metadata": {},
   "outputs": [
    {
     "name": "stdout",
     "output_type": "stream",
     "text": [
      "The original array = [17 19 19 15 15 13 15 13 16]\n",
      "\n",
      "The mode of an array = ModeResult(mode=array([15]), count=array([3]))\n"
     ]
    }
   ],
   "source": [
    "arr = np.random.randint(10,20,size=9)\n",
    "print(f\"The original array = {arr}\")\n",
    "print()\n",
    "mode = stats.mode(arr)\n",
    "print(f\"The mode of an array = {mode}\")"
   ]
  },
  {
   "cell_type": "code",
   "execution_count": 47,
   "id": "35df514e",
   "metadata": {},
   "outputs": [
    {
     "name": "stdout",
     "output_type": "stream",
     "text": [
      "The original array = [1 1 1 2 3 4 5 1 1 1]\n",
      "\n",
      "The mode of an array = ModeResult(mode=array([1]), count=array([6]))\n"
     ]
    }
   ],
   "source": [
    "arr = np.array([1,1,1,2,3,4,5,1,1,1])\n",
    "print(f\"The original array = {arr}\")\n",
    "print()\n",
    "mode = stats.mode(arr)\n",
    "print(f\"The mode of an array = {mode}\")"
   ]
  },
  {
   "cell_type": "code",
   "execution_count": 49,
   "id": "4eb9031c",
   "metadata": {},
   "outputs": [
    {
     "data": {
      "text/plain": [
       "1"
      ]
     },
     "execution_count": 49,
     "metadata": {},
     "output_type": "execute_result"
    }
   ],
   "source": [
    "mode[0][0]"
   ]
  },
  {
   "cell_type": "code",
   "execution_count": 53,
   "id": "4a1268b2",
   "metadata": {},
   "outputs": [
    {
     "name": "stdout",
     "output_type": "stream",
     "text": [
      "The original array = \n",
      "[[12  5  5]\n",
      " [ 5 20 30]\n",
      " [12  5  4]]\n",
      "\n",
      "The mode of an array = ModeResult(mode=array([[12,  5,  4]]), count=array([[2, 2, 1]]))\n"
     ]
    }
   ],
   "source": [
    "arr = np.array([[12, 5, 5],[5, 20, 30],[12, 5 , 4]])\n",
    "print(f\"The original array = \\n{arr}\")\n",
    "print()\n",
    "mode = stats.mode(arr)\n",
    "print(f\"The mode of an array = {mode}\")"
   ]
  },
  {
   "cell_type": "code",
   "execution_count": 59,
   "id": "3f01a180",
   "metadata": {},
   "outputs": [
    {
     "data": {
      "text/plain": [
       "1"
      ]
     },
     "execution_count": 59,
     "metadata": {},
     "output_type": "execute_result"
    }
   ],
   "source": [
    "mode[1][0][-1]"
   ]
  },
  {
   "cell_type": "code",
   "execution_count": null,
   "id": "e65b81c8",
   "metadata": {},
   "outputs": [],
   "source": []
  },
  {
   "cell_type": "code",
   "execution_count": null,
   "id": "4584b23c",
   "metadata": {},
   "outputs": [],
   "source": []
  },
  {
   "cell_type": "code",
   "execution_count": null,
   "id": "f636d851",
   "metadata": {},
   "outputs": [],
   "source": []
  },
  {
   "cell_type": "code",
   "execution_count": null,
   "id": "fbef823e",
   "metadata": {},
   "outputs": [],
   "source": []
  },
  {
   "cell_type": "code",
   "execution_count": 60,
   "id": "ec2d559e",
   "metadata": {},
   "outputs": [
    {
     "data": {
      "text/plain": [
       "array([3.16227766, 4.47213595, 5.47722558, 6.32455532])"
      ]
     },
     "execution_count": 60,
     "metadata": {},
     "output_type": "execute_result"
    }
   ],
   "source": [
    "arr = np.array([10,20,30,40])\n",
    "np.sqrt(arr)"
   ]
  },
  {
   "cell_type": "code",
   "execution_count": 61,
   "id": "0516bd77",
   "metadata": {},
   "outputs": [
    {
     "data": {
      "text/plain": [
       "array([2.15443469, 2.71441762, 3.10723251, 3.41995189])"
      ]
     },
     "execution_count": 61,
     "metadata": {},
     "output_type": "execute_result"
    }
   ],
   "source": [
    "np.cbrt(arr)"
   ]
  },
  {
   "cell_type": "code",
   "execution_count": 62,
   "id": "93e22cb8",
   "metadata": {},
   "outputs": [
    {
     "data": {
      "text/plain": [
       "array([2, 2, 2, 2, 2, 2, 2, 2, 2, 2])"
      ]
     },
     "execution_count": 62,
     "metadata": {},
     "output_type": "execute_result"
    }
   ],
   "source": [
    "np.full(10,2)"
   ]
  },
  {
   "cell_type": "code",
   "execution_count": 63,
   "id": "593390de",
   "metadata": {},
   "outputs": [
    {
     "data": {
      "text/plain": [
       "array([10, 10, 10, 10, 10, 10, 10, 10, 10, 10, 10, 10, 10, 10, 10, 10, 10,\n",
       "       10, 10, 10, 10, 10, 10, 10, 10, 10, 10, 10, 10, 10, 10, 10, 10, 10,\n",
       "       10, 10, 10, 10, 10, 10, 10, 10, 10, 10, 10, 10, 10, 10, 10, 10, 10,\n",
       "       10, 10, 10, 10, 10, 10, 10, 10, 10, 10, 10, 10, 10, 10, 10, 10, 10,\n",
       "       10, 10, 10, 10, 10, 10, 10, 10, 10, 10, 10, 10, 10, 10, 10, 10, 10,\n",
       "       10, 10, 10, 10, 10, 10, 10, 10, 10, 10, 10, 10, 10, 10, 10])"
      ]
     },
     "execution_count": 63,
     "metadata": {},
     "output_type": "execute_result"
    }
   ],
   "source": [
    "np.full(100,10)"
   ]
  },
  {
   "cell_type": "code",
   "execution_count": null,
   "id": "94b39f8e",
   "metadata": {},
   "outputs": [],
   "source": []
  }
 ],
 "metadata": {
  "kernelspec": {
   "display_name": "Python 3",
   "language": "python",
   "name": "python3"
  },
  "language_info": {
   "codemirror_mode": {
    "name": "ipython",
    "version": 3
   },
   "file_extension": ".py",
   "mimetype": "text/x-python",
   "name": "python",
   "nbconvert_exporter": "python",
   "pygments_lexer": "ipython3",
   "version": "3.8.8"
  }
 },
 "nbformat": 4,
 "nbformat_minor": 5
}
