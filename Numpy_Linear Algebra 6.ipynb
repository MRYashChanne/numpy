{
 "cells": [
  {
   "cell_type": "markdown",
   "id": "48d386e5",
   "metadata": {},
   "source": [
    "# Numpy Linear Algebra"
   ]
  },
  {
   "cell_type": "raw",
   "id": "58d482d6",
   "metadata": {},
   "source": [
    "2x + 3y = 25\n",
    "x + 2y = 30"
   ]
  },
  {
   "cell_type": "code",
   "execution_count": null,
   "id": "9f804197",
   "metadata": {},
   "outputs": [],
   "source": [
    "3x + 2y = 15\n",
    "4x + 6y = 30\n",
    "x = ? = 3\n",
    "y = ? = 3"
   ]
  },
  {
   "cell_type": "code",
   "execution_count": 1,
   "id": "fd433cae",
   "metadata": {},
   "outputs": [],
   "source": [
    "import numpy as np"
   ]
  },
  {
   "cell_type": "raw",
   "id": "77c406b1",
   "metadata": {},
   "source": [
    "[3,2]\n",
    "[4,6] = [15,30]"
   ]
  },
  {
   "cell_type": "code",
   "execution_count": 2,
   "id": "d61e41a6",
   "metadata": {},
   "outputs": [
    {
     "name": "stdout",
     "output_type": "stream",
     "text": [
      "Array 1 = \n",
      "[[3 2]\n",
      " [4 6]]\n",
      "Array 2 = \n",
      "[15 30]\n",
      "Result = [3. 3.]\n"
     ]
    }
   ],
   "source": [
    "arr1 = np.array([[3,2],[4,6]])\n",
    "print(f\"Array 1 = \\n{arr1}\")\n",
    "arr2 = np.array([15,30])\n",
    "print(f\"Array 2 = \\n{arr2}\")\n",
    "\n",
    "res = np.linalg.solve(arr1,arr2)\n",
    "print(f\"Result = {res}\")"
   ]
  },
  {
   "cell_type": "code",
   "execution_count": null,
   "id": "66672063",
   "metadata": {},
   "outputs": [],
   "source": [
    "3x + 5y + 10z = 20\n",
    "4x + 7y + 13z = 30\n",
    "2x + 17y + 3z = 40\n",
    "x = ?\n",
    "y = ?\n",
    "z = ?"
   ]
  },
  {
   "cell_type": "code",
   "execution_count": 3,
   "id": "551f7b7b",
   "metadata": {},
   "outputs": [
    {
     "name": "stdout",
     "output_type": "stream",
     "text": [
      "Array 1 = \n",
      "[[ 3  5 10]\n",
      " [ 4  7 13]\n",
      " [ 2 17  3]]\n",
      "Array 2 = \n",
      "[20 30 40]\n",
      "Result = [ 45.  -1. -11.]\n"
     ]
    }
   ],
   "source": [
    "arr1 = np.array([[3,5,10],[4,7,13],[2,17,3]])\n",
    "print(f\"Array 1 = \\n{arr1}\")\n",
    "arr2 = np.array([20,30,40])\n",
    "print(f\"Array 2 = \\n{arr2}\")\n",
    "\n",
    "res = np.linalg.solve(arr1,arr2)\n",
    "print(f\"Result = {res}\")"
   ]
  },
  {
   "cell_type": "code",
   "execution_count": 4,
   "id": "f04de2bc",
   "metadata": {},
   "outputs": [
    {
     "data": {
      "text/plain": [
       "40"
      ]
     },
     "execution_count": 4,
     "metadata": {},
     "output_type": "execute_result"
    }
   ],
   "source": [
    "(2*45) + (17*(-1)) + (3*(-11))"
   ]
  },
  {
   "cell_type": "markdown",
   "id": "aefc6572",
   "metadata": {},
   "source": [
    "# Inverse of matrix"
   ]
  },
  {
   "cell_type": "raw",
   "id": "238a3b94",
   "metadata": {},
   "source": [
    "[\n",
    "    [3,2],\n",
    "    [4,6]\n",
    "]"
   ]
  },
  {
   "cell_type": "code",
   "execution_count": 15,
   "id": "fe0c6421",
   "metadata": {},
   "outputs": [
    {
     "data": {
      "text/plain": [
       "array([[3, 2],\n",
       "       [4, 6]])"
      ]
     },
     "execution_count": 15,
     "metadata": {},
     "output_type": "execute_result"
    }
   ],
   "source": [
    "array = np.array([[3,2],[4,6]])\n",
    "array"
   ]
  },
  {
   "cell_type": "code",
   "execution_count": 6,
   "id": "f9e6deac",
   "metadata": {},
   "outputs": [
    {
     "data": {
      "text/plain": [
       "array([[ 0.6, -0.2],\n",
       "       [-0.4,  0.3]])"
      ]
     },
     "execution_count": 6,
     "metadata": {},
     "output_type": "execute_result"
    }
   ],
   "source": [
    "np.linalg.inv(array)"
   ]
  },
  {
   "cell_type": "markdown",
   "id": "61404ec1",
   "metadata": {},
   "source": [
    "# Copy of an Array"
   ]
  },
  {
   "cell_type": "code",
   "execution_count": 11,
   "id": "0f911819",
   "metadata": {},
   "outputs": [
    {
     "name": "stdout",
     "output_type": "stream",
     "text": [
      "Array1 = [1000    2    3    4    5]\n",
      "Array2 = [1000    2    3    4    5]\n"
     ]
    }
   ],
   "source": [
    "arr1 = np.array([1,2,3,4,5])\n",
    "arr2 = arr1\n",
    "arr2[0] = 1000\n",
    "print(f\"Array1 = {arr1}\")\n",
    "print(f\"Array2 = {arr2}\")"
   ]
  },
  {
   "cell_type": "code",
   "execution_count": 12,
   "id": "05347c28",
   "metadata": {},
   "outputs": [
    {
     "name": "stdout",
     "output_type": "stream",
     "text": [
      "Array1 = [1 2 3 4 5]\n",
      "Array2 = [1000    2    3    4    5]\n"
     ]
    }
   ],
   "source": [
    "arr1 = np.array([1,2,3,4,5])\n",
    "arr2 = arr1.copy()\n",
    "arr2[0] = 1000\n",
    "print(f\"Array1 = {arr1}\")\n",
    "print(f\"Array2 = {arr2}\")"
   ]
  },
  {
   "cell_type": "code",
   "execution_count": 13,
   "id": "73f96842",
   "metadata": {},
   "outputs": [
    {
     "name": "stdout",
     "output_type": "stream",
     "text": [
      "Array1 = \n",
      "[[3 2]\n",
      " [4 6]]\n",
      "Array2 = \n",
      "[[   3 1000]\n",
      " [   4    6]]\n"
     ]
    }
   ],
   "source": [
    "arr1 = np.array([\n",
    "    [3,2],\n",
    "    [4,6]\n",
    "]\n",
    ")\n",
    "arr2 = arr1.copy()\n",
    "arr2[0,1] = 1000\n",
    "print(f\"Array1 = \\n{arr1}\")\n",
    "print(f\"Array2 = \\n{arr2}\")"
   ]
  },
  {
   "cell_type": "code",
   "execution_count": 14,
   "id": "6d035e43",
   "metadata": {},
   "outputs": [
    {
     "name": "stdout",
     "output_type": "stream",
     "text": [
      "[[1, 1000], [3, 4]] [[1, 1000], [3, 4]]\n"
     ]
    }
   ],
   "source": [
    "li = [[1,2],[3,4]]\n",
    "li2 = li.copy()\n",
    "li2[0][1] = 1000\n",
    "print(li,li2)"
   ]
  },
  {
   "cell_type": "code",
   "execution_count": null,
   "id": "8ab36e42",
   "metadata": {},
   "outputs": [],
   "source": []
  }
 ],
 "metadata": {
  "kernelspec": {
   "display_name": "Python 3",
   "language": "python",
   "name": "python3"
  },
  "language_info": {
   "codemirror_mode": {
    "name": "ipython",
    "version": 3
   },
   "file_extension": ".py",
   "mimetype": "text/x-python",
   "name": "python",
   "nbconvert_exporter": "python",
   "pygments_lexer": "ipython3",
   "version": "3.8.8"
  }
 },
 "nbformat": 4,
 "nbformat_minor": 5
}
